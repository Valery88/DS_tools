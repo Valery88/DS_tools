{
 "cells": [
  {
   "cell_type": "markdown",
   "id": "e60d379b-0132-49f5-ac3f-abef0f7287cd",
   "metadata": {
    "tags": []
   },
   "source": [
    "# Multiple classification"
   ]
  },
  {
   "cell_type": "markdown",
   "id": "30c2182c-df3f-448e-b2c3-ba8623b3b358",
   "metadata": {},
   "source": [
    "## Import"
   ]
  },
  {
   "cell_type": "code",
   "execution_count": 1,
   "id": "464e55da-37b2-4d9f-b252-9b688ad316dc",
   "metadata": {},
   "outputs": [],
   "source": [
    "import pandas as pd\n",
    "import numpy as np\n",
    "import scipy\n",
    "import tensorflow as tf\n",
    "\n",
    "# sklearn\n",
    "from sklearn.model_selection import train_test_split\n",
    "from sklearn.model_selection import StratifiedKFold\n",
    "from sklearn.preprocessing import LabelEncoder\n",
    "from sklearn.metrics import accuracy_score\n",
    "\n",
    "# deep learning\n",
    "from tensorflow.keras import Sequential\n",
    "from tensorflow.keras.layers import Dense, Dropout\n",
    "\n",
    "from tensorflow.keras import utils\n",
    "from tensorflow.keras.preprocessing import image\n",
    "# from tensorflow.python.keras.optimizers import Adam, rmsprop_v2\n",
    "from tensorflow.keras.datasets import mnist\n",
    "\n",
    "from PIL import Image\n",
    "\n",
    "from matplotlib import pyplot as plt\n",
    "\n",
    "%matplotlib inline"
   ]
  },
  {
   "cell_type": "code",
   "execution_count": 2,
   "id": "a3c5db82-9841-4750-aa85-a355a533e1b8",
   "metadata": {},
   "outputs": [
    {
     "data": {
      "text/plain": [
       "[]"
      ]
     },
     "execution_count": 2,
     "metadata": {},
     "output_type": "execute_result"
    }
   ],
   "source": [
    "tf.config.list_physical_devices('GPU')"
   ]
  },
  {
   "cell_type": "markdown",
   "id": "077cfbb6-1c5b-46d7-9282-c600183f76aa",
   "metadata": {},
   "source": [
    "## Preparation of data"
   ]
  },
  {
   "cell_type": "code",
   "execution_count": 3,
   "id": "cd51cd83-8fef-43f6-9ff3-a1b83e5e7753",
   "metadata": {},
   "outputs": [],
   "source": [
    "# Load data\n",
    "(x_train_, y_train_), (x_test_, y_test_) = mnist.load_data()"
   ]
  },
  {
   "cell_type": "code",
   "execution_count": 4,
   "id": "f68b47e8-aa4b-443d-99fb-3bdcacaad7fd",
   "metadata": {},
   "outputs": [
    {
     "data": {
      "text/plain": [
       "<matplotlib.image.AxesImage at 0x217ebaf6588>"
      ]
     },
     "execution_count": 4,
     "metadata": {},
     "output_type": "execute_result"
    },
    {
     "data": {
      "image/png": "[encoded data removed]",
      "text/plain": [
       "<Figure size 432x288 with 1 Axes>"
      ]
     },
     "metadata": {
      "needs_background": "light"
     },
     "output_type": "display_data"
    }
   ],
   "source": [
    "# Random image\n",
    "plt.imshow(Image.fromarray(x_test_[888]).convert('RGB'))"
   ]
  },
  {
   "cell_type": "markdown",
   "id": "f2481c33-5c4c-49ee-b4e0-f1da3169a514",
   "metadata": {},
   "source": [
    "## Transform data"
   ]
  },
  {
   "cell_type": "code",
   "execution_count": 5,
   "id": "9734b643-4890-419c-a8f5-7764773c136c",
   "metadata": {},
   "outputs": [],
   "source": [
    "x_train = x_train_.reshape(60000, 784)\n",
    "x_test = x_test_.reshape(10000, 784)"
   ]
  },
  {
   "cell_type": "markdown",
   "id": "76d34491-4ea6-4d34-9ffc-763a3e006ed3",
   "metadata": {},
   "source": [
    "## Normalization"
   ]
  },
  {
   "cell_type": "code",
   "execution_count": 6,
   "id": "dede277c-ae01-47fc-92df-c63b7bf1bb25",
   "metadata": {},
   "outputs": [],
   "source": [
    "x_train = x_train.astype('float32')\n",
    "x_train = x_train / 255\n",
    "\n",
    "x_test = x_test.astype('float32')\n",
    "x_test = x_test / 255"
   ]
  },
  {
   "cell_type": "markdown",
   "id": "26e36618-4ec1-4a43-8273-be5923084fa8",
   "metadata": {},
   "source": [
    "## One Hot Encoding"
   ]
  },
  {
   "cell_type": "code",
   "execution_count": 7,
   "id": "c3e072b5-6c4f-4018-b9c7-76567e7b8da9",
   "metadata": {},
   "outputs": [
    {
     "data": {
      "text/plain": [
       "array([0., 0., 1., 0., 0., 0., 0., 0., 0., 0.], dtype=float32)"
      ]
     },
     "execution_count": 7,
     "metadata": {},
     "output_type": "execute_result"
    }
   ],
   "source": [
    "y_train = utils.to_categorical(y_train_, 10)\n",
    "y_test = utils.to_categorical(y_test_, 10)\n",
    "y_test[888]"
   ]
  },
  {
   "cell_type": "markdown",
   "id": "2357d370-7ee7-4750-8a2d-9fe561d796bf",
   "metadata": {},
   "source": [
    "## Neural Network"
   ]
  },
  {
   "cell_type": "code",
   "execution_count": 8,
   "id": "896a5304-6ec6-4268-b989-dbfcf00c45a4",
   "metadata": {},
   "outputs": [],
   "source": [
    "# Create a model\n",
    "model = Sequential()\n",
    "\n",
    "# Input layer\n",
    "model.add(Dense(400, input_dim=28*28, activation='relu'))\n",
    "# This layer will safe NN with retraining\n",
    "model.add(Dropout(0.2)) # % usual it's 10-50%\n",
    "model.add(Dense(200, activation='relu'))\n",
    "model.add(Dropout(0.2)) # % usual it's 10-50%\n",
    "# Output layer\n",
    "model.add(Dense(10, activation='softmax'))\n",
    "\n",
    "model.compile(loss='categorical_crossentropy', optimizer='adam', metrics=['accuracy'])"
   ]
  },
  {
   "cell_type": "code",
   "execution_count": 9,
   "id": "8c64452e-04bf-4b38-ab5a-b85b9d832c10",
   "metadata": {},
   "outputs": [
    {
     "name": "stdout",
     "output_type": "stream",
     "text": [
      "Epoch 1/30\n",
      "120/120 [==============================] - 3s 16ms/step - loss: 0.4844 - accuracy: 0.8575 - val_loss: 0.2107 - val_accuracy: 0.9380\n",
      "Epoch 2/30\n",
      "120/120 [==============================] - 2s 14ms/step - loss: 0.1875 - accuracy: 0.9445 - val_loss: 0.1525 - val_accuracy: 0.9553\n",
      "Epoch 3/30\n",
      "120/120 [==============================] - 2s 15ms/step - loss: 0.1332 - accuracy: 0.9599 - val_loss: 0.1317 - val_accuracy: 0.9601\n",
      "Epoch 4/30\n",
      "120/120 [==============================] - 2s 15ms/step - loss: 0.1014 - accuracy: 0.9698 - val_loss: 0.1117 - val_accuracy: 0.9664\n",
      "Epoch 5/30\n",
      "120/120 [==============================] - 2s 15ms/step - loss: 0.0808 - accuracy: 0.9753 - val_loss: 0.1216 - val_accuracy: 0.9649\n",
      "Epoch 6/30\n",
      "120/120 [==============================] - 2s 15ms/step - loss: 0.0646 - accuracy: 0.9797 - val_loss: 0.1052 - val_accuracy: 0.9699\n",
      "Epoch 7/30\n",
      "120/120 [==============================] - 2s 16ms/step - loss: 0.0522 - accuracy: 0.9835 - val_loss: 0.1032 - val_accuracy: 0.9701\n",
      "Epoch 8/30\n",
      "120/120 [==============================] - 2s 14ms/step - loss: 0.0452 - accuracy: 0.9854 - val_loss: 0.1003 - val_accuracy: 0.9713\n",
      "Epoch 9/30\n",
      "120/120 [==============================] - 2s 13ms/step - loss: 0.0371 - accuracy: 0.9878 - val_loss: 0.0982 - val_accuracy: 0.9719\n",
      "Epoch 10/30\n",
      "120/120 [==============================] - 2s 13ms/step - loss: 0.0302 - accuracy: 0.9904 - val_loss: 0.1022 - val_accuracy: 0.9726\n",
      "Epoch 11/30\n",
      "120/120 [==============================] - 2s 13ms/step - loss: 0.0275 - accuracy: 0.9911 - val_loss: 0.0998 - val_accuracy: 0.9732\n",
      "Epoch 12/30\n",
      "120/120 [==============================] - 2s 13ms/step - loss: 0.0214 - accuracy: 0.9934 - val_loss: 0.1015 - val_accuracy: 0.9741\n",
      "Epoch 13/30\n",
      "120/120 [==============================] - 2s 13ms/step - loss: 0.0193 - accuracy: 0.9935 - val_loss: 0.1052 - val_accuracy: 0.9734\n",
      "Epoch 14/30\n",
      "120/120 [==============================] - 2s 13ms/step - loss: 0.0192 - accuracy: 0.9937 - val_loss: 0.1029 - val_accuracy: 0.9744\n",
      "Epoch 15/30\n",
      "120/120 [==============================] - 2s 13ms/step - loss: 0.0174 - accuracy: 0.9946 - val_loss: 0.1085 - val_accuracy: 0.9729\n",
      "Epoch 16/30\n",
      "120/120 [==============================] - 2s 13ms/step - loss: 0.0155 - accuracy: 0.9954 - val_loss: 0.1121 - val_accuracy: 0.9743\n",
      "Epoch 17/30\n",
      "120/120 [==============================] - 2s 13ms/step - loss: 0.0167 - accuracy: 0.9939 - val_loss: 0.1046 - val_accuracy: 0.9746\n",
      "Epoch 18/30\n",
      "120/120 [==============================] - 2s 13ms/step - loss: 0.0178 - accuracy: 0.9943 - val_loss: 0.1096 - val_accuracy: 0.9739\n",
      "Epoch 19/30\n",
      "120/120 [==============================] - 2s 13ms/step - loss: 0.0121 - accuracy: 0.9964 - val_loss: 0.1070 - val_accuracy: 0.9753\n",
      "Epoch 20/30\n",
      "120/120 [==============================] - 2s 13ms/step - loss: 0.0129 - accuracy: 0.9959 - val_loss: 0.1138 - val_accuracy: 0.9742\n",
      "Epoch 21/30\n",
      "120/120 [==============================] - 2s 14ms/step - loss: 0.0133 - accuracy: 0.9960 - val_loss: 0.1186 - val_accuracy: 0.9746\n",
      "Epoch 22/30\n",
      "120/120 [==============================] - 2s 14ms/step - loss: 0.0119 - accuracy: 0.9961 - val_loss: 0.1117 - val_accuracy: 0.9743\n",
      "Epoch 23/30\n",
      "120/120 [==============================] - 2s 13ms/step - loss: 0.0128 - accuracy: 0.9956 - val_loss: 0.1292 - val_accuracy: 0.9731\n",
      "Epoch 24/30\n",
      "120/120 [==============================] - 2s 13ms/step - loss: 0.0119 - accuracy: 0.9960 - val_loss: 0.1212 - val_accuracy: 0.9747\n",
      "Epoch 25/30\n",
      "120/120 [==============================] - 2s 13ms/step - loss: 0.0102 - accuracy: 0.9966 - val_loss: 0.1336 - val_accuracy: 0.9726\n",
      "Epoch 26/30\n",
      "120/120 [==============================] - 2s 13ms/step - loss: 0.0119 - accuracy: 0.9962 - val_loss: 0.1262 - val_accuracy: 0.9734\n",
      "Epoch 27/30\n",
      "120/120 [==============================] - 2s 13ms/step - loss: 0.0111 - accuracy: 0.9964 - val_loss: 0.1256 - val_accuracy: 0.9738\n",
      "Epoch 28/30\n",
      "120/120 [==============================] - 2s 13ms/step - loss: 0.0107 - accuracy: 0.9965 - val_loss: 0.1210 - val_accuracy: 0.9755\n",
      "Epoch 29/30\n",
      "120/120 [==============================] - 2s 13ms/step - loss: 0.0073 - accuracy: 0.9977 - val_loss: 0.1265 - val_accuracy: 0.9748\n",
      "Epoch 30/30\n",
      "120/120 [==============================] - 2s 14ms/step - loss: 0.0115 - accuracy: 0.9959 - val_loss: 0.1155 - val_accuracy: 0.9752\n"
     ]
    },
    {
     "data": {
      "image/png": "[encoded data removed]",
      "text/plain": [
       "<Figure size 432x288 with 1 Axes>"
      ]
     },
     "metadata": {
      "needs_background": "light"
     },
     "output_type": "display_data"
    }
   ],
   "source": [
    "n = 30000\n",
    "\n",
    "history=model.fit(x_train[:n],\n",
    "                  y_train[:n],\n",
    "                 batch_size=250,\n",
    "                 epochs=30,\n",
    "                 validation_data=(x_train[n:], y_train[n:]),\n",
    "                 verbose=1)\n",
    "\n",
    "plt.plot(history.history['accuracy'], \n",
    "         label='Accuracy train')\n",
    "plt.plot(history.history['val_accuracy'], \n",
    "         label='Accuracy test')\n",
    "plt.xlabel('Epochs')\n",
    "plt.ylabel('Accuracy')\n",
    "plt.legend()\n",
    "plt.show()"
   ]
  },
  {
   "cell_type": "markdown",
   "id": "dc5780da-35cd-47c5-a56c-5d762b07ef03",
   "metadata": {
    "tags": []
   },
   "source": [
    "# Convolutional Neuron Network"
   ]
  },
  {
   "cell_type": "markdown",
   "id": "405e4be1-1f5e-41de-97ec-727a570e0431",
   "metadata": {},
   "source": [
    "## Import"
   ]
  },
  {
   "cell_type": "code",
   "execution_count": 15,
   "id": "afa4660d-b359-4533-9d6e-cb303287184b",
   "metadata": {},
   "outputs": [],
   "source": [
    "import pandas as pd\n",
    "import numpy as np\n",
    "import scipy\n",
    "import tensorflow as tf\n",
    "\n",
    "# sklearn\n",
    "from sklearn.model_selection import train_test_split\n",
    "from sklearn.model_selection import StratifiedKFold\n",
    "from sklearn.preprocessing import LabelEncoder\n",
    "from sklearn.metrics import accuracy_score\n",
    "\n",
    "# deep learning\n",
    "from tensorflow.keras import Sequential\n",
    "from tensorflow.keras.layers import Dense\n",
    "from tensorflow.keras.layers import Dropout\n",
    "from tensorflow.keras.layers import Conv2D # Convolutional Dence\n",
    "from tensorflow.keras.layers import MaxPool2D # \n",
    "from tensorflow.keras.layers import Flatten # Image to vector\n",
    "from tensorflow.keras.layers import BatchNormalization # Normalized batch\n",
    "from tensorflow.keras.layers import GlobalAveragePooling2D #\n",
    "\n",
    "from tensorflow.keras import utils\n",
    "from tensorflow.keras.preprocessing import image\n",
    "# from tensorflow.python.keras.optimizers import Adam, rmsprop_v2\n",
    "from tensorflow.keras.datasets import mnist\n",
    "\n",
    "from PIL import Image\n",
    "\n",
    "from matplotlib import pyplot as plt\n",
    "\n",
    "%matplotlib inline"
   ]
  },
  {
   "cell_type": "code",
   "execution_count": 16,
   "id": "06563a78-aebc-45ad-b213-1861d1f791c2",
   "metadata": {},
   "outputs": [],
   "source": [
    "# Load data\n",
    "(x_train_, y_train_), (x_test_, y_test_) = mnist.load_data()"
   ]
  },
  {
   "cell_type": "markdown",
   "id": "9aa2e28c-50cc-4be2-b130-9bf5d3290d9f",
   "metadata": {},
   "source": [
    "### Data preparation"
   ]
  },
  {
   "cell_type": "code",
   "execution_count": 19,
   "id": "1a0b5115-7afc-49be-a4a5-215c6e1b7b87",
   "metadata": {},
   "outputs": [],
   "source": [
    "x_train = x_train.reshape(x_train_.shape[0], 28, 28, 1)\n",
    "x_test = x_test.reshape(x_test_.shape[0], 28, 28, 1)"
   ]
  },
  {
   "cell_type": "code",
   "execution_count": 23,
   "id": "6d64c83b-9f99-4e71-8ace-0415f66d2e0c",
   "metadata": {},
   "outputs": [
    {
     "data": {
      "text/plain": [
       "array([0., 0., 1., 0., 0., 0., 0., 0., 0., 0.], dtype=float32)"
      ]
     },
     "execution_count": 23,
     "metadata": {},
     "output_type": "execute_result"
    }
   ],
   "source": [
    "# One hot encoding Y\n",
    "y_train = utils.to_categorical(y_train_, 10)\n",
    "y_test = utils.to_categorical(y_test_, 10)\n",
    "y_test[888]"
   ]
  },
  {
   "cell_type": "markdown",
   "id": "c954e9f0-4237-4214-bfa4-9e2dd84b1805",
   "metadata": {},
   "source": [
    "### Neural Network"
   ]
  },
  {
   "cell_type": "code",
   "execution_count": 22,
   "id": "4894ed2e-2625-4034-8b93-a61e8616f947",
   "metadata": {},
   "outputs": [],
   "source": [
    "# Create a model\n",
    "model = Sequential()\n",
    "\n",
    "# Input convolution layer\n",
    "model.add(Conv2D(32, # deep\n",
    "                 (3, 3), # window\n",
    "                 padding = 'same', # optional pixel \n",
    "                 activation='relu',\n",
    "                 input_shape=(28, 28, 1)\n",
    "                ))\n",
    "# Get 3x3 window, hightlights main features, and give 2x2 window\n",
    "model.add(MaxPooling2D(pool_size=(2,2)))\n",
    "# For get oppotunity to use just Dence\n",
    "# Вытягиваем в вектор\n",
    "model.add(Flatten())\n",
    "\n",
    "model.add(Dense(100, activation='relu'))\n",
    "# This layer will safe NN with retraining\n",
    "model.add(Dropout(0.2)) # % usual it's 10-50%\n",
    "# Output layer\n",
    "model.add(Dense(10, activation='softmax'))\n",
    "\n",
    "model.compile(loss='categorical_crossentropy', optimizer='adam', metrics=['accuracy'])"
   ]
  },
  {
   "cell_type": "code",
   "execution_count": null,
   "id": "1ac33700-a495-40da-9378-3250c44d44c9",
   "metadata": {},
   "outputs": [
    {
     "name": "stdout",
     "output_type": "stream",
     "text": [
      "Epoch 1/30\n",
      "120/120 [==============================] - 11s 95ms/step - loss: 0.1424 - accuracy: 0.9575 - val_loss: 0.1105 - val_accuracy: 0.9684\n",
      "Epoch 2/30\n",
      "120/120 [==============================] - 10s 85ms/step - loss: 0.0970 - accuracy: 0.9713 - val_loss: 0.0896 - val_accuracy: 0.9737\n",
      "Epoch 3/30\n",
      "120/120 [==============================] - 10s 86ms/step - loss: 0.0748 - accuracy: 0.9778 - val_loss: 0.0750 - val_accuracy: 0.9773\n",
      "Epoch 4/30\n",
      "120/120 [==============================] - 10s 85ms/step - loss: 0.0607 - accuracy: 0.9818 - val_loss: 0.0706 - val_accuracy: 0.9789\n",
      "Epoch 5/30\n",
      "120/120 [==============================] - 10s 87ms/step - loss: 0.0497 - accuracy: 0.9854 - val_loss: 0.0659 - val_accuracy: 0.9798\n",
      "Epoch 6/30\n",
      "120/120 [==============================] - 10s 85ms/step - loss: 0.0409 - accuracy: 0.9878 - val_loss: 0.0630 - val_accuracy: 0.9814\n",
      "Epoch 7/30\n",
      "120/120 [==============================] - 11s 92ms/step - loss: 0.0347 - accuracy: 0.9897 - val_loss: 0.0661 - val_accuracy: 0.9801\n",
      "Epoch 8/30\n",
      "120/120 [==============================] - 14s 119ms/step - loss: 0.0316 - accuracy: 0.9907 - val_loss: 0.0601 - val_accuracy: 0.9822\n",
      "Epoch 9/30\n",
      "120/120 [==============================] - 13s 111ms/step - loss: 0.0254 - accuracy: 0.9925 - val_loss: 0.0603 - val_accuracy: 0.9822\n",
      "Epoch 10/30\n",
      "120/120 [==============================] - 9s 78ms/step - loss: 0.0237 - accuracy: 0.9923 - val_loss: 0.0631 - val_accuracy: 0.9819\n",
      "Epoch 11/30\n",
      "120/120 [==============================] - 9s 75ms/step - loss: 0.0210 - accuracy: 0.9941 - val_loss: 0.0598 - val_accuracy: 0.9829\n",
      "Epoch 12/30\n",
      "120/120 [==============================] - 9s 76ms/step - loss: 0.0205 - accuracy: 0.9937 - val_loss: 0.0640 - val_accuracy: 0.9821\n",
      "Epoch 13/30\n",
      " 88/120 [=====================>........] - ETA: 1s - loss: 0.0162 - accuracy: 0.9952"
     ]
    }
   ],
   "source": [
    "n = 30000\n",
    "\n",
    "history=model.fit(x_train[:n],\n",
    "                  y_train[:n],\n",
    "                 batch_size=250,\n",
    "                 epochs=30,\n",
    "                 validation_data=(x_train[n:], y_train[n:]),\n",
    "                 verbose=1)\n",
    "\n",
    "plt.plot(history.history['accuracy'], \n",
    "         label='Accuracy train')\n",
    "plt.plot(history.history['val_accuracy'], \n",
    "         label='Accuracy test')\n",
    "plt.xlabel('Epochs')\n",
    "plt.ylabel('Accuracy')\n",
    "plt.legend()\n",
    "plt.show()"
   ]
  }
 ],
 "metadata": {
  "kernelspec": {
   "display_name": "Python 3",
   "language": "python",
   "name": "python3"
  },
  "language_info": {
   "codemirror_mode": {
    "name": "ipython",
    "version": 3
   },
   "file_extension": ".py",
   "mimetype": "text/x-python",
   "name": "python",
   "nbconvert_exporter": "python",
   "pygments_lexer": "ipython3",
   "version": "3.6.8"
  }
 },
 "nbformat": 4,
 "nbformat_minor": 5
}
