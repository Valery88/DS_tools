{
 "cells": [
  {
   "cell_type": "code",
   "execution_count": 1,
   "id": "04020a12-38d5-4bf0-8aef-f39fa51e11aa",
   "metadata": {},
   "outputs": [],
   "source": [
    "# pip install --upgrade pip setuptools wheel"
   ]
  },
  {
   "cell_type": "code",
   "execution_count": 2,
   "id": "d4c6ba40-8e69-411d-8648-75f618522fc5",
   "metadata": {},
   "outputs": [],
   "source": [
    "# pip install --upgrade opencv-python"
   ]
  },
  {
   "cell_type": "code",
   "execution_count": 9,
   "id": "16fc1fce-5813-44c9-9723-234935638025",
   "metadata": {},
   "outputs": [],
   "source": [
    "# pip install opencv-python==3.4.13.47"
   ]
  },
  {
   "cell_type": "code",
   "execution_count": 10,
   "id": "08bcf242-e80f-4641-9e21-8c85b72750fe",
   "metadata": {},
   "outputs": [],
   "source": [
    "import cv2"
   ]
  },
  {
   "cell_type": "code",
   "execution_count": null,
   "id": "0f636eaf-c018-4516-8c6c-191892778e4c",
   "metadata": {},
   "outputs": [],
   "source": []
  }
 ],
 "metadata": {
  "kernelspec": {
   "display_name": "Python 3",
   "language": "python",
   "name": "python3"
  },
  "language_info": {
   "codemirror_mode": {
    "name": "ipython",
    "version": 3
   },
   "file_extension": ".py",
   "mimetype": "text/x-python",
   "name": "python",
   "nbconvert_exporter": "python",
   "pygments_lexer": "ipython3",
   "version": "3.6.8"
  }
 },
 "nbformat": 4,
 "nbformat_minor": 5
}
