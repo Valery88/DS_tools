{
 "cells": [
  {
   "cell_type": "markdown",
   "id": "9ed1a86c-fd1c-467e-a619-53d9dcd40a18",
   "metadata": {},
   "source": [
    "## Import"
   ]
  },
  {
   "cell_type": "code",
   "execution_count": 1,
   "id": "5313e705-26c7-45a9-8f5a-a07c896bde69",
   "metadata": {},
   "outputs": [],
   "source": [
    "import pandas as pd\n",
    "import numpy as np\n",
    "import scipy\n",
    "\n",
    "# sklearn\n",
    "from sklearn.model_selection import train_test_split\n",
    "from sklearn.model_selection import StratifiedKFold\n",
    "from sklearn.preprocessing import LabelEncoder\n",
    "from sklearn.metrics import accuracy_score\n",
    "\n",
    "# deep learning\n",
    "from tensorflow.keras import Sequential\n",
    "from tensorflow.keras.layers import Dense\n",
    "\n",
    "from matplotlib import pyplot as plt\n",
    "\n",
    "%matplotlib inline"
   ]
  },
  {
   "cell_type": "markdown",
   "id": "e2a2493a-c1e4-4b60-b67d-065b2d2976a3",
   "metadata": {},
   "source": [
    "## Load Data"
   ]
  },
  {
   "cell_type": "code",
   "execution_count": 2,
   "id": "8f985f22-bc34-44d3-9037-b6b82d6a29ad",
   "metadata": {},
   "outputs": [],
   "source": [
    "path = './data_1/banknote_authentication.csv'"
   ]
  },
  {
   "cell_type": "code",
   "execution_count": 3,
   "id": "3ef81467-25fd-400a-a298-1e91b9b99ba4",
   "metadata": {},
   "outputs": [
    {
     "data": {
      "text/html": [
       "<div>\n",
       "<style scoped>\n",
       "    .dataframe tbody tr th:only-of-type {\n",
       "        vertical-align: middle;\n",
       "    }\n",
       "\n",
       "    .dataframe tbody tr th {\n",
       "        vertical-align: top;\n",
       "    }\n",
       "\n",
       "    .dataframe thead th {\n",
       "        text-align: right;\n",
       "    }\n",
       "</style>\n",
       "<table border=\"1\" class=\"dataframe\">\n",
       "  <thead>\n",
       "    <tr style=\"text-align: right;\">\n",
       "      <th></th>\n",
       "      <th>0</th>\n",
       "      <th>1</th>\n",
       "      <th>2</th>\n",
       "      <th>3</th>\n",
       "      <th>4</th>\n",
       "    </tr>\n",
       "  </thead>\n",
       "  <tbody>\n",
       "    <tr>\n",
       "      <th>876</th>\n",
       "      <td>-3.5916</td>\n",
       "      <td>-6.22850</td>\n",
       "      <td>10.2389</td>\n",
       "      <td>-1.15430</td>\n",
       "      <td>1</td>\n",
       "    </tr>\n",
       "    <tr>\n",
       "      <th>54</th>\n",
       "      <td>4.9264</td>\n",
       "      <td>5.49600</td>\n",
       "      <td>-2.4774</td>\n",
       "      <td>-0.50648</td>\n",
       "      <td>0</td>\n",
       "    </tr>\n",
       "    <tr>\n",
       "      <th>318</th>\n",
       "      <td>1.5799</td>\n",
       "      <td>-4.70760</td>\n",
       "      <td>7.9186</td>\n",
       "      <td>-1.54870</td>\n",
       "      <td>0</td>\n",
       "    </tr>\n",
       "    <tr>\n",
       "      <th>1254</th>\n",
       "      <td>-3.8894</td>\n",
       "      <td>-7.83220</td>\n",
       "      <td>9.8208</td>\n",
       "      <td>0.47498</td>\n",
       "      <td>1</td>\n",
       "    </tr>\n",
       "    <tr>\n",
       "      <th>883</th>\n",
       "      <td>-3.3604</td>\n",
       "      <td>-0.32696</td>\n",
       "      <td>2.1324</td>\n",
       "      <td>0.60170</td>\n",
       "      <td>1</td>\n",
       "    </tr>\n",
       "  </tbody>\n",
       "</table>\n",
       "</div>"
      ],
      "text/plain": [
       "           0        1        2        3  4\n",
       "876  -3.5916 -6.22850  10.2389 -1.15430  1\n",
       "54    4.9264  5.49600  -2.4774 -0.50648  0\n",
       "318   1.5799 -4.70760   7.9186 -1.54870  0\n",
       "1254 -3.8894 -7.83220   9.8208  0.47498  1\n",
       "883  -3.3604 -0.32696   2.1324  0.60170  1"
      ]
     },
     "execution_count": 3,
     "metadata": {},
     "output_type": "execute_result"
    }
   ],
   "source": [
    "df = pd.read_csv(path, header = None)\n",
    "df.sample(5)"
   ]
  },
  {
   "cell_type": "markdown",
   "id": "89ce2636-5f51-49c4-8dbc-99b89955817f",
   "metadata": {},
   "source": [
    "## Describer statistic"
   ]
  },
  {
   "cell_type": "code",
   "execution_count": 4,
   "id": "8c165584-eaed-4325-afd6-63a3e8e990f1",
   "metadata": {},
   "outputs": [
    {
     "data": {
      "text/html": [
       "<div>\n",
       "<style scoped>\n",
       "    .dataframe tbody tr th:only-of-type {\n",
       "        vertical-align: middle;\n",
       "    }\n",
       "\n",
       "    .dataframe tbody tr th {\n",
       "        vertical-align: top;\n",
       "    }\n",
       "\n",
       "    .dataframe thead th {\n",
       "        text-align: right;\n",
       "    }\n",
       "</style>\n",
       "<table border=\"1\" class=\"dataframe\">\n",
       "  <thead>\n",
       "    <tr style=\"text-align: right;\">\n",
       "      <th></th>\n",
       "      <th>0</th>\n",
       "      <th>1</th>\n",
       "      <th>2</th>\n",
       "      <th>3</th>\n",
       "      <th>4</th>\n",
       "    </tr>\n",
       "  </thead>\n",
       "  <tbody>\n",
       "    <tr>\n",
       "      <th>count</th>\n",
       "      <td>1372.000000</td>\n",
       "      <td>1372.000000</td>\n",
       "      <td>1372.000000</td>\n",
       "      <td>1372.000000</td>\n",
       "      <td>1372.000000</td>\n",
       "    </tr>\n",
       "    <tr>\n",
       "      <th>mean</th>\n",
       "      <td>0.433735</td>\n",
       "      <td>1.922353</td>\n",
       "      <td>1.397627</td>\n",
       "      <td>-1.191657</td>\n",
       "      <td>0.444606</td>\n",
       "    </tr>\n",
       "    <tr>\n",
       "      <th>std</th>\n",
       "      <td>2.842763</td>\n",
       "      <td>5.869047</td>\n",
       "      <td>4.310030</td>\n",
       "      <td>2.101013</td>\n",
       "      <td>0.497103</td>\n",
       "    </tr>\n",
       "    <tr>\n",
       "      <th>min</th>\n",
       "      <td>-7.042100</td>\n",
       "      <td>-13.773100</td>\n",
       "      <td>-5.286100</td>\n",
       "      <td>-8.548200</td>\n",
       "      <td>0.000000</td>\n",
       "    </tr>\n",
       "    <tr>\n",
       "      <th>25%</th>\n",
       "      <td>-1.773000</td>\n",
       "      <td>-1.708200</td>\n",
       "      <td>-1.574975</td>\n",
       "      <td>-2.413450</td>\n",
       "      <td>0.000000</td>\n",
       "    </tr>\n",
       "    <tr>\n",
       "      <th>50%</th>\n",
       "      <td>0.496180</td>\n",
       "      <td>2.319650</td>\n",
       "      <td>0.616630</td>\n",
       "      <td>-0.586650</td>\n",
       "      <td>0.000000</td>\n",
       "    </tr>\n",
       "    <tr>\n",
       "      <th>75%</th>\n",
       "      <td>2.821475</td>\n",
       "      <td>6.814625</td>\n",
       "      <td>3.179250</td>\n",
       "      <td>0.394810</td>\n",
       "      <td>1.000000</td>\n",
       "    </tr>\n",
       "    <tr>\n",
       "      <th>max</th>\n",
       "      <td>6.824800</td>\n",
       "      <td>12.951600</td>\n",
       "      <td>17.927400</td>\n",
       "      <td>2.449500</td>\n",
       "      <td>1.000000</td>\n",
       "    </tr>\n",
       "  </tbody>\n",
       "</table>\n",
       "</div>"
      ],
      "text/plain": [
       "                 0            1            2            3            4\n",
       "count  1372.000000  1372.000000  1372.000000  1372.000000  1372.000000\n",
       "mean      0.433735     1.922353     1.397627    -1.191657     0.444606\n",
       "std       2.842763     5.869047     4.310030     2.101013     0.497103\n",
       "min      -7.042100   -13.773100    -5.286100    -8.548200     0.000000\n",
       "25%      -1.773000    -1.708200    -1.574975    -2.413450     0.000000\n",
       "50%       0.496180     2.319650     0.616630    -0.586650     0.000000\n",
       "75%       2.821475     6.814625     3.179250     0.394810     1.000000\n",
       "max       6.824800    12.951600    17.927400     2.449500     1.000000"
      ]
     },
     "execution_count": 4,
     "metadata": {},
     "output_type": "execute_result"
    }
   ],
   "source": [
    "df.describe()"
   ]
  },
  {
   "cell_type": "code",
   "execution_count": 5,
   "id": "9c187f12-b516-449e-a93d-438aaa7eab33",
   "metadata": {},
   "outputs": [
    {
     "data": {
      "text/html": [
       "<div>\n",
       "<style scoped>\n",
       "    .dataframe tbody tr th:only-of-type {\n",
       "        vertical-align: middle;\n",
       "    }\n",
       "\n",
       "    .dataframe tbody tr th {\n",
       "        vertical-align: top;\n",
       "    }\n",
       "\n",
       "    .dataframe thead th {\n",
       "        text-align: right;\n",
       "    }\n",
       "</style>\n",
       "<table border=\"1\" class=\"dataframe\">\n",
       "  <thead>\n",
       "    <tr style=\"text-align: right;\">\n",
       "      <th></th>\n",
       "      <th>0</th>\n",
       "      <th>1</th>\n",
       "      <th>2</th>\n",
       "      <th>3</th>\n",
       "      <th>4</th>\n",
       "    </tr>\n",
       "  </thead>\n",
       "  <tbody>\n",
       "    <tr>\n",
       "      <th>0</th>\n",
       "      <td>1.000000</td>\n",
       "      <td>0.264026</td>\n",
       "      <td>-0.380850</td>\n",
       "      <td>0.276817</td>\n",
       "      <td>-0.724843</td>\n",
       "    </tr>\n",
       "    <tr>\n",
       "      <th>1</th>\n",
       "      <td>0.264026</td>\n",
       "      <td>1.000000</td>\n",
       "      <td>-0.786895</td>\n",
       "      <td>-0.526321</td>\n",
       "      <td>-0.444688</td>\n",
       "    </tr>\n",
       "    <tr>\n",
       "      <th>2</th>\n",
       "      <td>-0.380850</td>\n",
       "      <td>-0.786895</td>\n",
       "      <td>1.000000</td>\n",
       "      <td>0.318841</td>\n",
       "      <td>0.155883</td>\n",
       "    </tr>\n",
       "    <tr>\n",
       "      <th>3</th>\n",
       "      <td>0.276817</td>\n",
       "      <td>-0.526321</td>\n",
       "      <td>0.318841</td>\n",
       "      <td>1.000000</td>\n",
       "      <td>-0.023424</td>\n",
       "    </tr>\n",
       "    <tr>\n",
       "      <th>4</th>\n",
       "      <td>-0.724843</td>\n",
       "      <td>-0.444688</td>\n",
       "      <td>0.155883</td>\n",
       "      <td>-0.023424</td>\n",
       "      <td>1.000000</td>\n",
       "    </tr>\n",
       "  </tbody>\n",
       "</table>\n",
       "</div>"
      ],
      "text/plain": [
       "          0         1         2         3         4\n",
       "0  1.000000  0.264026 -0.380850  0.276817 -0.724843\n",
       "1  0.264026  1.000000 -0.786895 -0.526321 -0.444688\n",
       "2 -0.380850 -0.786895  1.000000  0.318841  0.155883\n",
       "3  0.276817 -0.526321  0.318841  1.000000 -0.023424\n",
       "4 -0.724843 -0.444688  0.155883 -0.023424  1.000000"
      ]
     },
     "execution_count": 5,
     "metadata": {},
     "output_type": "execute_result"
    }
   ],
   "source": [
    "df.corr()"
   ]
  },
  {
   "cell_type": "code",
   "execution_count": 6,
   "id": "bae3e340-67be-43f8-847e-968d28fb3998",
   "metadata": {},
   "outputs": [
    {
     "name": "stdout",
     "output_type": "stream",
     "text": [
      "<class 'pandas.core.frame.DataFrame'>\n",
      "RangeIndex: 1372 entries, 0 to 1371\n",
      "Data columns (total 5 columns):\n",
      " #   Column  Non-Null Count  Dtype  \n",
      "---  ------  --------------  -----  \n",
      " 0   0       1372 non-null   float64\n",
      " 1   1       1372 non-null   float64\n",
      " 2   2       1372 non-null   float64\n",
      " 3   3       1372 non-null   float64\n",
      " 4   4       1372 non-null   int64  \n",
      "dtypes: float64(4), int64(1)\n",
      "memory usage: 53.7 KB\n"
     ]
    }
   ],
   "source": [
    "df.info()"
   ]
  },
  {
   "cell_type": "code",
   "execution_count": 7,
   "id": "aabdbd39-88c8-4c25-8092-44f21d5e5230",
   "metadata": {},
   "outputs": [
    {
     "data": {
      "text/plain": [
       "0    762\n",
       "1    610\n",
       "Name: 4, dtype: int64"
      ]
     },
     "execution_count": 7,
     "metadata": {},
     "output_type": "execute_result"
    }
   ],
   "source": [
    "df[4].value_counts()"
   ]
  },
  {
   "cell_type": "code",
   "execution_count": 8,
   "id": "735c8c57-79b1-4ba8-914f-6d335e5d885c",
   "metadata": {},
   "outputs": [],
   "source": [
    "# DS is balanced"
   ]
  },
  {
   "cell_type": "code",
   "execution_count": 9,
   "id": "35d52939-d96d-4773-818f-2d26f536134c",
   "metadata": {},
   "outputs": [],
   "source": [
    "## Create sample"
   ]
  },
  {
   "cell_type": "code",
   "execution_count": 10,
   "id": "e365e70e-8138-43df-afb3-dc6d79ee42d2",
   "metadata": {},
   "outputs": [],
   "source": [
    "X, y = df.values[:, :-1], df.values[:, -1]"
   ]
  },
  {
   "cell_type": "code",
   "execution_count": 11,
   "id": "10416437-55a8-4147-9119-4b8a1df1f3c3",
   "metadata": {},
   "outputs": [],
   "source": [
    "X = X.astype('float32') # Check float value"
   ]
  },
  {
   "cell_type": "code",
   "execution_count": 12,
   "id": "9d0a1e8f-3bf3-435c-963f-e92f41bf1456",
   "metadata": {},
   "outputs": [
    {
     "data": {
      "text/plain": [
       "array([ 4.5459,  8.1674, -2.4586, -1.4621], dtype=float32)"
      ]
     },
     "execution_count": 12,
     "metadata": {},
     "output_type": "execute_result"
    }
   ],
   "source": [
    "X[1]"
   ]
  },
  {
   "cell_type": "code",
   "execution_count": 13,
   "id": "34734ec4-9dd3-4cef-aa71-cef7ddb190fa",
   "metadata": {},
   "outputs": [
    {
     "data": {
      "text/plain": [
       "0.0"
      ]
     },
     "execution_count": 13,
     "metadata": {},
     "output_type": "execute_result"
    }
   ],
   "source": [
    "y[1]"
   ]
  },
  {
   "cell_type": "code",
   "execution_count": 14,
   "id": "3ed84c0a-2582-4fd7-972f-92484c0b0c31",
   "metadata": {},
   "outputs": [],
   "source": [
    "# LabelEncoder for y\n",
    "y = LabelEncoder().fit_transform(y)"
   ]
  },
  {
   "cell_type": "markdown",
   "id": "87703884-caf9-4ee8-847b-4856b06d7556",
   "metadata": {},
   "source": [
    "## Train Test split"
   ]
  },
  {
   "cell_type": "code",
   "execution_count": 15,
   "id": "54adc467-bb16-4287-8ad9-25f205ad851c",
   "metadata": {},
   "outputs": [],
   "source": [
    "X_train, X_test, y_train, y_test = train_test_split(X, y, test_size = 0.25, shuffle=True)"
   ]
  },
  {
   "cell_type": "code",
   "execution_count": 16,
   "id": "e454239e-71a5-4e6d-806b-f66e3022cca7",
   "metadata": {},
   "outputs": [
    {
     "name": "stdout",
     "output_type": "stream",
     "text": [
      "(1029, 4)\n",
      "(343, 4)\n",
      "(1029,)\n",
      "(343,)\n"
     ]
    }
   ],
   "source": [
    "print(X_train.shape)\n",
    "print(X_test.shape)\n",
    "print(y_train.shape)\n",
    "print(y_test.shape)"
   ]
  },
  {
   "cell_type": "markdown",
   "id": "96a9bd17-a97f-4912-8afa-2ddde5575564",
   "metadata": {},
   "source": [
    "## Neural Network Input"
   ]
  },
  {
   "cell_type": "code",
   "execution_count": 17,
   "id": "73ac36c4-6cff-4180-b33a-58f1574f6c91",
   "metadata": {},
   "outputs": [],
   "source": [
    "n_futures = X.shape[1] # Size X"
   ]
  },
  {
   "cell_type": "code",
   "execution_count": 18,
   "id": "16e4b21a-a828-4e7a-ad67-f08e656dc699",
   "metadata": {},
   "outputs": [],
   "source": [
    "# Create a model\n",
    "model = Sequential()\n",
    "\n",
    "# Add input layer\n",
    "model.add(Dense(20, activation='relu', input_shape = (n_futures,) ))\n",
    "# Add layer\n",
    "model.add(Dense(10, activation='relu'))\n",
    "\n",
    "# output layer\n",
    "model.add(Dense(1, activation='sigmoid'))\n",
    "\n",
    "# Compile the model\n",
    "model.compile(optimizer='adam', loss='binary_crossentropy') # for binary classification"
   ]
  },
  {
   "cell_type": "code",
   "execution_count": 19,
   "id": "25bc0a7f-e39c-437f-ad19-b00c085b2fc3",
   "metadata": {},
   "outputs": [
    {
     "name": "stdout",
     "output_type": "stream",
     "text": [
      "Epoch 1/20\n",
      "21/21 [==============================] - 1s 10ms/step - loss: 0.6299 - val_loss: 0.5317\n",
      "Epoch 2/20\n",
      "21/21 [==============================] - 0s 3ms/step - loss: 0.4935 - val_loss: 0.4298\n",
      "Epoch 3/20\n",
      "21/21 [==============================] - 0s 4ms/step - loss: 0.3971 - val_loss: 0.3455\n",
      "Epoch 4/20\n",
      "21/21 [==============================] - 0s 5ms/step - loss: 0.3168 - val_loss: 0.2740\n",
      "Epoch 5/20\n",
      "21/21 [==============================] - 0s 4ms/step - loss: 0.2513 - val_loss: 0.2165\n",
      "Epoch 6/20\n",
      "21/21 [==============================] - 0s 4ms/step - loss: 0.1989 - val_loss: 0.1712\n",
      "Epoch 7/20\n",
      "21/21 [==============================] - 0s 2ms/step - loss: 0.1590 - val_loss: 0.1353\n",
      "Epoch 8/20\n",
      "21/21 [==============================] - 0s 3ms/step - loss: 0.1274 - val_loss: 0.1076\n",
      "Epoch 9/20\n",
      "21/21 [==============================] - 0s 3ms/step - loss: 0.1035 - val_loss: 0.0859\n",
      "Epoch 10/20\n",
      "21/21 [==============================] - 0s 3ms/step - loss: 0.0844 - val_loss: 0.0699\n",
      "Epoch 11/20\n",
      "21/21 [==============================] - 0s 2ms/step - loss: 0.0702 - val_loss: 0.0577\n",
      "Epoch 12/20\n",
      "21/21 [==============================] - 0s 3ms/step - loss: 0.0591 - val_loss: 0.0481\n",
      "Epoch 13/20\n",
      "21/21 [==============================] - 0s 2ms/step - loss: 0.0501 - val_loss: 0.0408\n",
      "Epoch 14/20\n",
      "21/21 [==============================] - 0s 3ms/step - loss: 0.0431 - val_loss: 0.0347\n",
      "Epoch 15/20\n",
      "21/21 [==============================] - 0s 3ms/step - loss: 0.0372 - val_loss: 0.0297\n",
      "Epoch 16/20\n",
      "21/21 [==============================] - 0s 3ms/step - loss: 0.0324 - val_loss: 0.0259\n",
      "Epoch 17/20\n",
      "21/21 [==============================] - 0s 2ms/step - loss: 0.0285 - val_loss: 0.0227\n",
      "Epoch 18/20\n",
      "21/21 [==============================] - 0s 2ms/step - loss: 0.0252 - val_loss: 0.0199\n",
      "Epoch 19/20\n",
      "21/21 [==============================] - 0s 2ms/step - loss: 0.0224 - val_loss: 0.0180\n",
      "Epoch 20/20\n",
      "21/21 [==============================] - 0s 2ms/step - loss: 0.0200 - val_loss: 0.0157\n"
     ]
    }
   ],
   "source": [
    "# Train our model\n",
    "history = model.fit(X_train, y_train,\n",
    "                    epochs=20,\n",
    "                    batch_size=50,\n",
    "                    verbose=1,\n",
    "                    validation_data=(X_test, y_test))"
   ]
  },
  {
   "cell_type": "code",
   "execution_count": 20,
   "id": "dbe80677-e85d-430e-9f12-6d441ad73b7f",
   "metadata": {},
   "outputs": [],
   "source": [
    "# predict test_set\n",
    "# yhat = model.predict(X_test)\n",
    "# yhat = model.predict_classes(X_test)\n",
    "yhat=(model.predict(X_test)>0.5).astype(\"int32\")\n",
    "# yhat = np.argmax(model.predict(X_test), axis=-1)"
   ]
  },
  {
   "cell_type": "code",
   "execution_count": 21,
   "id": "38194e67-7a9a-4539-adea-304b4319304a",
   "metadata": {},
   "outputs": [],
   "source": [
    "# y_test = y_test.astype('float32')\n",
    "# y_test"
   ]
  },
  {
   "cell_type": "code",
   "execution_count": 22,
   "id": "f7c79caf-4117-45cc-a794-43331055c9ca",
   "metadata": {},
   "outputs": [
    {
     "name": "stdout",
     "output_type": "stream",
     "text": [
      "Accuracy:  1.0\n"
     ]
    },
    {
     "data": {
      "image/png": "[encoded data removed]",
      "text/plain": [
       "<Figure size 432x288 with 1 Axes>"
      ]
     },
     "metadata": {
      "needs_background": "light"
     },
     "output_type": "display_data"
    }
   ],
   "source": [
    "#Validation our predict\n",
    "score = accuracy_score(y_test, yhat)\n",
    "print('Accuracy: ', score)\n",
    "\n",
    "#Visualizing the procces of training\n",
    "plt.title('Study')\n",
    "plt.xlabel('epochs')\n",
    "plt.ylabel('Cross_entropy')\n",
    "plt.plot(history.history['loss'], label='train')\n",
    "plt.plot(history.history['val_loss'], label='val')\n",
    "\n",
    "plt.legend()\n",
    "plt.show()"
   ]
  },
  {
   "cell_type": "markdown",
   "id": "17d4dea0-3ba6-4acd-af5b-81b7c8a8edd1",
   "metadata": {},
   "source": [
    "### Cross validation"
   ]
  },
  {
   "cell_type": "code",
   "execution_count": 23,
   "id": "88eeaa1c-0996-40c0-ba4e-99903e6ceceb",
   "metadata": {},
   "outputs": [],
   "source": [
    "# K Fold\n",
    "kfold = StratifiedKFold(10)"
   ]
  },
  {
   "cell_type": "code",
   "execution_count": 24,
   "id": "e7230f23-e41c-4e07-940b-5140928501f3",
   "metadata": {},
   "outputs": [],
   "source": [
    "# metrics array\n",
    "scores = []"
   ]
  },
  {
   "cell_type": "code",
   "execution_count": 28,
   "id": "f8d0ef2b-fb8d-4b1a-ad6c-26b74fe342bf",
   "metadata": {},
   "outputs": [
    {
     "name": "stdout",
     "output_type": "stream",
     "text": [
      "Epoch 1/20\n",
      "39/39 [==============================] - 0s 4ms/step - loss: 0.7710 - val_loss: 0.5148\n",
      "Epoch 2/20\n",
      "39/39 [==============================] - 0s 2ms/step - loss: 0.4249 - val_loss: 0.3194\n",
      "Epoch 3/20\n",
      "39/39 [==============================] - 0s 2ms/step - loss: 0.2847 - val_loss: 0.2120\n",
      "Epoch 4/20\n",
      "39/39 [==============================] - 0s 2ms/step - loss: 0.1895 - val_loss: 0.1414\n",
      "Epoch 5/20\n",
      "39/39 [==============================] - 0s 4ms/step - loss: 0.1293 - val_loss: 0.1024\n",
      "Epoch 6/20\n",
      "39/39 [==============================] - 0s 2ms/step - loss: 0.0948 - val_loss: 0.0780\n",
      "Epoch 7/20\n",
      "39/39 [==============================] - 0s 2ms/step - loss: 0.0728 - val_loss: 0.0615\n",
      "Epoch 8/20\n",
      "39/39 [==============================] - 0s 4ms/step - loss: 0.0578 - val_loss: 0.0503\n",
      "Epoch 9/20\n",
      "39/39 [==============================] - 0s 4ms/step - loss: 0.0462 - val_loss: 0.0411\n",
      "Epoch 10/20\n",
      "39/39 [==============================] - 0s 4ms/step - loss: 0.0378 - val_loss: 0.0341\n",
      "Epoch 11/20\n",
      "39/39 [==============================] - 0s 4ms/step - loss: 0.0312 - val_loss: 0.0285\n",
      "Epoch 12/20\n",
      "39/39 [==============================] - 0s 4ms/step - loss: 0.0262 - val_loss: 0.0243\n",
      "Epoch 13/20\n",
      "39/39 [==============================] - 0s 4ms/step - loss: 0.0224 - val_loss: 0.0212\n",
      "Epoch 14/20\n",
      "39/39 [==============================] - 0s 4ms/step - loss: 0.0193 - val_loss: 0.0182\n",
      "Epoch 15/20\n",
      "39/39 [==============================] - 0s 2ms/step - loss: 0.0168 - val_loss: 0.0159\n",
      "Epoch 16/20\n",
      "39/39 [==============================] - 0s 2ms/step - loss: 0.0146 - val_loss: 0.0142\n",
      "Epoch 17/20\n",
      "39/39 [==============================] - 0s 2ms/step - loss: 0.0130 - val_loss: 0.0125\n",
      "Epoch 18/20\n",
      "39/39 [==============================] - 0s 2ms/step - loss: 0.0117 - val_loss: 0.0113\n",
      "Epoch 19/20\n",
      "39/39 [==============================] - 0s 2ms/step - loss: 0.0104 - val_loss: 0.0100\n",
      "Epoch 20/20\n",
      "39/39 [==============================] - 0s 2ms/step - loss: 0.0092 - val_loss: 0.0090\n",
      "Accuracy:  1.0\n"
     ]
    },
    {
     "data": {
      "image/png": "[encoded data removed]",
      "text/plain": [
       "<Figure size 432x288 with 1 Axes>"
      ]
     },
     "metadata": {
      "needs_background": "light"
     },
     "output_type": "display_data"
    },
    {
     "name": "stdout",
     "output_type": "stream",
     "text": [
      "Epoch 1/20\n",
      "39/39 [==============================] - 1s 5ms/step - loss: 0.5582 - val_loss: 0.4474\n",
      "Epoch 2/20\n",
      "39/39 [==============================] - 0s 2ms/step - loss: 0.4187 - val_loss: 0.3586\n",
      "Epoch 3/20\n",
      "39/39 [==============================] - 0s 2ms/step - loss: 0.3408 - val_loss: 0.2892\n",
      "Epoch 4/20\n",
      "39/39 [==============================] - 0s 2ms/step - loss: 0.2749 - val_loss: 0.2243\n",
      "Epoch 5/20\n",
      "39/39 [==============================] - 0s 2ms/step - loss: 0.2110 - val_loss: 0.1652\n",
      "Epoch 6/20\n",
      "39/39 [==============================] - 0s 2ms/step - loss: 0.1559 - val_loss: 0.1092\n",
      "Epoch 7/20\n",
      "39/39 [==============================] - 0s 2ms/step - loss: 0.1025 - val_loss: 0.0710\n",
      "Epoch 8/20\n",
      "39/39 [==============================] - 0s 4ms/step - loss: 0.0730 - val_loss: 0.0484\n",
      "Epoch 9/20\n",
      "39/39 [==============================] - 0s 4ms/step - loss: 0.0548 - val_loss: 0.0353\n",
      "Epoch 10/20\n",
      "39/39 [==============================] - 0s 4ms/step - loss: 0.0427 - val_loss: 0.0259\n",
      "Epoch 11/20\n",
      "39/39 [==============================] - 0s 4ms/step - loss: 0.0340 - val_loss: 0.0194\n",
      "Epoch 12/20\n",
      "39/39 [==============================] - 0s 4ms/step - loss: 0.0270 - val_loss: 0.0143\n",
      "Epoch 13/20\n",
      "39/39 [==============================] - 0s 3ms/step - loss: 0.0212 - val_loss: 0.0114\n",
      "Epoch 14/20\n",
      "39/39 [==============================] - 0s 4ms/step - loss: 0.0177 - val_loss: 0.0092\n",
      "Epoch 15/20\n",
      "39/39 [==============================] - 0s 4ms/step - loss: 0.0149 - val_loss: 0.0077\n",
      "Epoch 16/20\n",
      "39/39 [==============================] - 0s 2ms/step - loss: 0.0128 - val_loss: 0.0063\n",
      "Epoch 17/20\n",
      "39/39 [==============================] - 0s 2ms/step - loss: 0.0111 - val_loss: 0.0053\n",
      "Epoch 18/20\n",
      "39/39 [==============================] - 0s 2ms/step - loss: 0.0096 - val_loss: 0.0046\n",
      "Epoch 19/20\n",
      "39/39 [==============================] - 0s 2ms/step - loss: 0.0086 - val_loss: 0.0042\n",
      "Epoch 20/20\n",
      "39/39 [==============================] - 0s 2ms/step - loss: 0.0075 - val_loss: 0.0035\n",
      "Accuracy:  1.0\n"
     ]
    },
    {
     "data": {
      "image/png": "[encoded data removed]",
      "text/plain": [
       "<Figure size 432x288 with 1 Axes>"
      ]
     },
     "metadata": {
      "needs_background": "light"
     },
     "output_type": "display_data"
    },
    {
     "name": "stdout",
     "output_type": "stream",
     "text": [
      "Epoch 1/20\n",
      "39/39 [==============================] - 1s 4ms/step - loss: 0.3728 - val_loss: 0.2986\n",
      "Epoch 2/20\n",
      "39/39 [==============================] - 0s 3ms/step - loss: 0.2079 - val_loss: 0.2028\n",
      "Epoch 3/20\n",
      "39/39 [==============================] - 0s 4ms/step - loss: 0.1252 - val_loss: 0.1465\n",
      "Epoch 4/20\n",
      "39/39 [==============================] - 0s 4ms/step - loss: 0.0829 - val_loss: 0.1097\n",
      "Epoch 5/20\n",
      "39/39 [==============================] - 0s 4ms/step - loss: 0.0586 - val_loss: 0.0849\n",
      "Epoch 6/20\n",
      "39/39 [==============================] - 0s 4ms/step - loss: 0.0435 - val_loss: 0.0684\n",
      "Epoch 7/20\n",
      "39/39 [==============================] - 0s 4ms/step - loss: 0.0333 - val_loss: 0.0563\n",
      "Epoch 8/20\n",
      "39/39 [==============================] - 0s 4ms/step - loss: 0.0265 - val_loss: 0.0479\n",
      "Epoch 9/20\n",
      "39/39 [==============================] - 0s 4ms/step - loss: 0.0215 - val_loss: 0.0388\n",
      "Epoch 10/20\n",
      "39/39 [==============================] - 0s 3ms/step - loss: 0.0180 - val_loss: 0.0345\n",
      "Epoch 11/20\n",
      "39/39 [==============================] - 0s 2ms/step - loss: 0.0149 - val_loss: 0.0288\n",
      "Epoch 12/20\n",
      "39/39 [==============================] - 0s 2ms/step - loss: 0.0128 - val_loss: 0.0246\n",
      "Epoch 13/20\n",
      "39/39 [==============================] - 0s 2ms/step - loss: 0.0109 - val_loss: 0.0219\n",
      "Epoch 14/20\n",
      "39/39 [==============================] - 0s 2ms/step - loss: 0.0095 - val_loss: 0.0196\n",
      "Epoch 15/20\n",
      "39/39 [==============================] - 0s 4ms/step - loss: 0.0083 - val_loss: 0.0173\n",
      "Epoch 16/20\n",
      "39/39 [==============================] - 0s 4ms/step - loss: 0.0074 - val_loss: 0.0154\n",
      "Epoch 17/20\n",
      "39/39 [==============================] - 0s 4ms/step - loss: 0.0065 - val_loss: 0.0137\n",
      "Epoch 18/20\n",
      "39/39 [==============================] - 0s 4ms/step - loss: 0.0058 - val_loss: 0.0123\n",
      "Epoch 19/20\n",
      "39/39 [==============================] - 0s 2ms/step - loss: 0.0052 - val_loss: 0.0112\n",
      "Epoch 20/20\n",
      "39/39 [==============================] - 0s 4ms/step - loss: 0.0047 - val_loss: 0.0100\n",
      "Accuracy:  1.0\n"
     ]
    },
    {
     "data": {
      "image/png": "[encoded data removed]",
      "text/plain": [
       "<Figure size 432x288 with 1 Axes>"
      ]
     },
     "metadata": {
      "needs_background": "light"
     },
     "output_type": "display_data"
    },
    {
     "name": "stdout",
     "output_type": "stream",
     "text": [
      "Epoch 1/20\n",
      "39/39 [==============================] - 1s 4ms/step - loss: 0.8259 - val_loss: 0.6107\n",
      "Epoch 2/20\n",
      "39/39 [==============================] - 0s 2ms/step - loss: 0.5183 - val_loss: 0.4145\n",
      "Epoch 3/20\n",
      "39/39 [==============================] - 0s 2ms/step - loss: 0.3287 - val_loss: 0.2553\n",
      "Epoch 4/20\n",
      "39/39 [==============================] - 0s 2ms/step - loss: 0.2069 - val_loss: 0.1610\n",
      "Epoch 5/20\n",
      "39/39 [==============================] - 0s 2ms/step - loss: 0.1373 - val_loss: 0.1112\n",
      "Epoch 6/20\n",
      "39/39 [==============================] - 0s 2ms/step - loss: 0.0996 - val_loss: 0.0810\n",
      "Epoch 7/20\n",
      "39/39 [==============================] - 0s 2ms/step - loss: 0.0748 - val_loss: 0.0610\n",
      "Epoch 8/20\n",
      "39/39 [==============================] - 0s 2ms/step - loss: 0.0585 - val_loss: 0.0473\n",
      "Epoch 9/20\n",
      "39/39 [==============================] - 0s 2ms/step - loss: 0.0472 - val_loss: 0.0383\n",
      "Epoch 10/20\n",
      "39/39 [==============================] - 0s 2ms/step - loss: 0.0392 - val_loss: 0.0315\n",
      "Epoch 11/20\n",
      "39/39 [==============================] - 0s 2ms/step - loss: 0.0329 - val_loss: 0.0261\n",
      "Epoch 12/20\n",
      "39/39 [==============================] - 0s 2ms/step - loss: 0.0280 - val_loss: 0.0224\n",
      "Epoch 13/20\n",
      "39/39 [==============================] - 0s 2ms/step - loss: 0.0242 - val_loss: 0.0188\n",
      "Epoch 14/20\n",
      "39/39 [==============================] - 0s 2ms/step - loss: 0.0210 - val_loss: 0.0162\n",
      "Epoch 15/20\n",
      "39/39 [==============================] - 0s 2ms/step - loss: 0.0183 - val_loss: 0.0143\n",
      "Epoch 16/20\n",
      "39/39 [==============================] - 0s 2ms/step - loss: 0.0162 - val_loss: 0.0126\n",
      "Epoch 17/20\n",
      "39/39 [==============================] - 0s 2ms/step - loss: 0.0145 - val_loss: 0.0108\n",
      "Epoch 18/20\n",
      "39/39 [==============================] - 0s 2ms/step - loss: 0.0128 - val_loss: 0.0096\n",
      "Epoch 19/20\n",
      "39/39 [==============================] - 0s 2ms/step - loss: 0.0114 - val_loss: 0.0085\n",
      "Epoch 20/20\n",
      "39/39 [==============================] - 0s 2ms/step - loss: 0.0103 - val_loss: 0.0075\n",
      "Accuracy:  1.0\n"
     ]
    },
    {
     "data": {
      "image/png": "[encoded data removed]",
      "text/plain": [
       "<Figure size 432x288 with 1 Axes>"
      ]
     },
     "metadata": {
      "needs_background": "light"
     },
     "output_type": "display_data"
    },
    {
     "name": "stdout",
     "output_type": "stream",
     "text": [
      "Epoch 1/20\n",
      "39/39 [==============================] - 1s 11ms/step - loss: 0.5553 - val_loss: 0.4701\n",
      "Epoch 2/20\n",
      "39/39 [==============================] - 0s 2ms/step - loss: 0.3833 - val_loss: 0.3073\n",
      "Epoch 3/20\n",
      "39/39 [==============================] - 0s 2ms/step - loss: 0.2130 - val_loss: 0.1851\n",
      "Epoch 4/20\n",
      "39/39 [==============================] - 0s 2ms/step - loss: 0.1312 - val_loss: 0.1390\n",
      "Epoch 5/20\n",
      "39/39 [==============================] - 0s 2ms/step - loss: 0.0965 - val_loss: 0.1107\n",
      "Epoch 6/20\n",
      "39/39 [==============================] - 0s 2ms/step - loss: 0.0746 - val_loss: 0.0943\n",
      "Epoch 7/20\n",
      "39/39 [==============================] - 0s 2ms/step - loss: 0.0589 - val_loss: 0.0787\n",
      "Epoch 8/20\n",
      "39/39 [==============================] - 0s 2ms/step - loss: 0.0476 - val_loss: 0.0639\n",
      "Epoch 9/20\n",
      "39/39 [==============================] - 0s 2ms/step - loss: 0.0389 - val_loss: 0.0552\n",
      "Epoch 10/20\n",
      "39/39 [==============================] - 0s 2ms/step - loss: 0.0324 - val_loss: 0.0472\n",
      "Epoch 11/20\n",
      "39/39 [==============================] - 0s 2ms/step - loss: 0.0273 - val_loss: 0.0413\n",
      "Epoch 12/20\n",
      "39/39 [==============================] - 0s 2ms/step - loss: 0.0233 - val_loss: 0.0357\n",
      "Epoch 13/20\n",
      "39/39 [==============================] - 0s 2ms/step - loss: 0.0201 - val_loss: 0.0311\n",
      "Epoch 14/20\n",
      "39/39 [==============================] - 0s 2ms/step - loss: 0.0173 - val_loss: 0.0282\n",
      "Epoch 15/20\n",
      "39/39 [==============================] - 0s 2ms/step - loss: 0.0151 - val_loss: 0.0243\n",
      "Epoch 16/20\n",
      "39/39 [==============================] - 0s 2ms/step - loss: 0.0132 - val_loss: 0.0223\n",
      "Epoch 17/20\n",
      "39/39 [==============================] - 0s 2ms/step - loss: 0.0116 - val_loss: 0.0202\n",
      "Epoch 18/20\n",
      "39/39 [==============================] - 0s 2ms/step - loss: 0.0105 - val_loss: 0.0172\n",
      "Epoch 19/20\n",
      "39/39 [==============================] - 0s 4ms/step - loss: 0.0092 - val_loss: 0.0158\n",
      "Epoch 20/20\n",
      "39/39 [==============================] - 0s 4ms/step - loss: 0.0081 - val_loss: 0.0143\n",
      "Accuracy:  1.0\n"
     ]
    },
    {
     "data": {
      "image/png": "[encoded data removed]",
      "text/plain": [
       "<Figure size 432x288 with 1 Axes>"
      ]
     },
     "metadata": {
      "needs_background": "light"
     },
     "output_type": "display_data"
    },
    {
     "name": "stdout",
     "output_type": "stream",
     "text": [
      "Epoch 1/20\n",
      "39/39 [==============================] - 0s 4ms/step - loss: 0.6420 - val_loss: 0.3969\n",
      "Epoch 2/20\n",
      "39/39 [==============================] - 0s 2ms/step - loss: 0.3211 - val_loss: 0.2391\n",
      "Epoch 3/20\n",
      "39/39 [==============================] - 0s 2ms/step - loss: 0.1995 - val_loss: 0.1567\n",
      "Epoch 4/20\n",
      "39/39 [==============================] - 0s 4ms/step - loss: 0.1300 - val_loss: 0.1089\n",
      "Epoch 5/20\n",
      "39/39 [==============================] - 0s 4ms/step - loss: 0.0904 - val_loss: 0.0788\n",
      "Epoch 6/20\n",
      "39/39 [==============================] - 0s 3ms/step - loss: 0.0660 - val_loss: 0.0585\n",
      "Epoch 7/20\n",
      "39/39 [==============================] - 0s 2ms/step - loss: 0.0495 - val_loss: 0.0457\n",
      "Epoch 8/20\n",
      "39/39 [==============================] - 0s 2ms/step - loss: 0.0381 - val_loss: 0.0369\n",
      "Epoch 9/20\n",
      "39/39 [==============================] - 0s 2ms/step - loss: 0.0300 - val_loss: 0.0296\n",
      "Epoch 10/20\n",
      "39/39 [==============================] - 0s 2ms/step - loss: 0.0242 - val_loss: 0.0247\n",
      "Epoch 11/20\n",
      "39/39 [==============================] - 0s 2ms/step - loss: 0.0197 - val_loss: 0.0207\n",
      "Epoch 12/20\n",
      "39/39 [==============================] - 0s 2ms/step - loss: 0.0164 - val_loss: 0.0176\n",
      "Epoch 13/20\n",
      "39/39 [==============================] - 0s 2ms/step - loss: 0.0139 - val_loss: 0.0151\n",
      "Epoch 14/20\n",
      "39/39 [==============================] - 0s 2ms/step - loss: 0.0119 - val_loss: 0.0131\n",
      "Epoch 15/20\n",
      "39/39 [==============================] - 0s 2ms/step - loss: 0.0103 - val_loss: 0.0115\n",
      "Epoch 16/20\n",
      "39/39 [==============================] - 0s 2ms/step - loss: 0.0090 - val_loss: 0.0102\n",
      "Epoch 17/20\n",
      "39/39 [==============================] - 0s 2ms/step - loss: 0.0079 - val_loss: 0.0092\n",
      "Epoch 18/20\n",
      "39/39 [==============================] - 0s 2ms/step - loss: 0.0070 - val_loss: 0.0081\n",
      "Epoch 19/20\n",
      "39/39 [==============================] - 0s 2ms/step - loss: 0.0062 - val_loss: 0.0072\n",
      "Epoch 20/20\n",
      "39/39 [==============================] - 0s 2ms/step - loss: 0.0056 - val_loss: 0.0064\n",
      "Accuracy:  1.0\n"
     ]
    },
    {
     "data": {
      "image/png": "[encoded data removed]",
      "text/plain": [
       "<Figure size 432x288 with 1 Axes>"
      ]
     },
     "metadata": {
      "needs_background": "light"
     },
     "output_type": "display_data"
    },
    {
     "name": "stdout",
     "output_type": "stream",
     "text": [
      "Epoch 1/20\n",
      "39/39 [==============================] - 1s 5ms/step - loss: 0.6794 - val_loss: 0.5256\n",
      "Epoch 2/20\n",
      "39/39 [==============================] - 0s 2ms/step - loss: 0.4835 - val_loss: 0.3520\n",
      "Epoch 3/20\n",
      "39/39 [==============================] - 0s 2ms/step - loss: 0.3358 - val_loss: 0.2207\n",
      "Epoch 4/20\n",
      "39/39 [==============================] - 0s 2ms/step - loss: 0.2232 - val_loss: 0.1361\n",
      "Epoch 5/20\n",
      "39/39 [==============================] - 0s 2ms/step - loss: 0.1493 - val_loss: 0.0853\n",
      "Epoch 6/20\n",
      "39/39 [==============================] - 0s 2ms/step - loss: 0.1031 - val_loss: 0.0565\n",
      "Epoch 7/20\n",
      "39/39 [==============================] - 0s 2ms/step - loss: 0.0742 - val_loss: 0.0380\n",
      "Epoch 8/20\n",
      "39/39 [==============================] - 0s 2ms/step - loss: 0.0551 - val_loss: 0.0263\n",
      "Epoch 9/20\n",
      "39/39 [==============================] - 0s 4ms/step - loss: 0.0408 - val_loss: 0.0189\n",
      "Epoch 10/20\n",
      "39/39 [==============================] - 0s 2ms/step - loss: 0.0312 - val_loss: 0.0145\n",
      "Epoch 11/20\n",
      "39/39 [==============================] - 0s 3ms/step - loss: 0.0251 - val_loss: 0.0115\n",
      "Epoch 12/20\n",
      "39/39 [==============================] - 0s 2ms/step - loss: 0.0208 - val_loss: 0.0093\n",
      "Epoch 13/20\n",
      "39/39 [==============================] - 0s 2ms/step - loss: 0.0171 - val_loss: 0.0076\n",
      "Epoch 14/20\n",
      "39/39 [==============================] - 0s 4ms/step - loss: 0.0144 - val_loss: 0.0064\n",
      "Epoch 15/20\n",
      "39/39 [==============================] - 0s 4ms/step - loss: 0.0122 - val_loss: 0.0054\n",
      "Epoch 16/20\n",
      "39/39 [==============================] - 0s 4ms/step - loss: 0.0105 - val_loss: 0.0047\n",
      "Epoch 17/20\n",
      "39/39 [==============================] - 0s 4ms/step - loss: 0.0091 - val_loss: 0.0041\n",
      "Epoch 18/20\n",
      "39/39 [==============================] - 0s 4ms/step - loss: 0.0080 - val_loss: 0.0036\n",
      "Epoch 19/20\n",
      "39/39 [==============================] - 0s 3ms/step - loss: 0.0069 - val_loss: 0.0032\n",
      "Epoch 20/20\n",
      "39/39 [==============================] - 0s 4ms/step - loss: 0.0062 - val_loss: 0.0029\n",
      "Accuracy:  1.0\n"
     ]
    },
    {
     "data": {
      "image/png": "[encoded data removed]",
      "text/plain": [
       "<Figure size 432x288 with 1 Axes>"
      ]
     },
     "metadata": {
      "needs_background": "light"
     },
     "output_type": "display_data"
    },
    {
     "name": "stdout",
     "output_type": "stream",
     "text": [
      "Epoch 1/20\n",
      "39/39 [==============================] - 1s 4ms/step - loss: 0.6667 - val_loss: 0.4543\n",
      "Epoch 2/20\n",
      "39/39 [==============================] - 0s 2ms/step - loss: 0.4024 - val_loss: 0.3168\n",
      "Epoch 3/20\n",
      "39/39 [==============================] - 0s 2ms/step - loss: 0.2966 - val_loss: 0.2223\n",
      "Epoch 4/20\n",
      "39/39 [==============================] - 0s 2ms/step - loss: 0.2160 - val_loss: 0.1456\n",
      "Epoch 5/20\n",
      "39/39 [==============================] - 0s 2ms/step - loss: 0.1508 - val_loss: 0.0928\n",
      "Epoch 6/20\n",
      "39/39 [==============================] - 0s 2ms/step - loss: 0.1067 - val_loss: 0.0608\n",
      "Epoch 7/20\n",
      "39/39 [==============================] - 0s 2ms/step - loss: 0.0786 - val_loss: 0.0414\n",
      "Epoch 8/20\n",
      "39/39 [==============================] - 0s 2ms/step - loss: 0.0596 - val_loss: 0.0296\n",
      "Epoch 9/20\n",
      "39/39 [==============================] - 0s 2ms/step - loss: 0.0461 - val_loss: 0.0215\n",
      "Epoch 10/20\n",
      "39/39 [==============================] - 0s 2ms/step - loss: 0.0364 - val_loss: 0.0165\n",
      "Epoch 11/20\n",
      "39/39 [==============================] - 0s 2ms/step - loss: 0.0293 - val_loss: 0.0127\n",
      "Epoch 12/20\n",
      "39/39 [==============================] - 0s 2ms/step - loss: 0.0242 - val_loss: 0.0102\n",
      "Epoch 13/20\n",
      "39/39 [==============================] - 0s 3ms/step - loss: 0.0201 - val_loss: 0.0082\n",
      "Epoch 14/20\n",
      "39/39 [==============================] - 0s 2ms/step - loss: 0.0170 - val_loss: 0.0067\n",
      "Epoch 15/20\n",
      "39/39 [==============================] - 0s 2ms/step - loss: 0.0145 - val_loss: 0.0055\n",
      "Epoch 16/20\n",
      "39/39 [==============================] - 0s 2ms/step - loss: 0.0125 - val_loss: 0.0046\n",
      "Epoch 17/20\n",
      "39/39 [==============================] - 0s 2ms/step - loss: 0.0108 - val_loss: 0.0040\n",
      "Epoch 18/20\n",
      "39/39 [==============================] - 0s 2ms/step - loss: 0.0095 - val_loss: 0.0033\n",
      "Epoch 19/20\n",
      "39/39 [==============================] - 0s 2ms/step - loss: 0.0085 - val_loss: 0.0029\n",
      "Epoch 20/20\n",
      "39/39 [==============================] - 0s 2ms/step - loss: 0.0075 - val_loss: 0.0025\n",
      "Accuracy:  1.0\n"
     ]
    },
    {
     "data": {
      "image/png": "[encoded data removed]",
      "text/plain": [
       "<Figure size 432x288 with 1 Axes>"
      ]
     },
     "metadata": {
      "needs_background": "light"
     },
     "output_type": "display_data"
    },
    {
     "name": "stdout",
     "output_type": "stream",
     "text": [
      "Epoch 1/20\n",
      "39/39 [==============================] - 1s 4ms/step - loss: 0.6935 - val_loss: 0.5471\n",
      "Epoch 2/20\n",
      "39/39 [==============================] - 0s 2ms/step - loss: 0.4508 - val_loss: 0.3792\n",
      "Epoch 3/20\n",
      "39/39 [==============================] - 0s 2ms/step - loss: 0.3077 - val_loss: 0.2273\n",
      "Epoch 4/20\n",
      "39/39 [==============================] - 0s 2ms/step - loss: 0.1919 - val_loss: 0.1465\n",
      "Epoch 5/20\n",
      "39/39 [==============================] - 0s 3ms/step - loss: 0.1281 - val_loss: 0.0931\n",
      "Epoch 6/20\n",
      "39/39 [==============================] - 0s 4ms/step - loss: 0.0886 - val_loss: 0.0601\n",
      "Epoch 7/20\n",
      "39/39 [==============================] - 0s 4ms/step - loss: 0.0671 - val_loss: 0.0469\n",
      "Epoch 8/20\n",
      "39/39 [==============================] - 0s 3ms/step - loss: 0.0528 - val_loss: 0.0347\n",
      "Epoch 9/20\n",
      "39/39 [==============================] - 0s 2ms/step - loss: 0.0424 - val_loss: 0.0278\n",
      "Epoch 10/20\n",
      "39/39 [==============================] - 0s 2ms/step - loss: 0.0346 - val_loss: 0.0211\n",
      "Epoch 11/20\n",
      "39/39 [==============================] - 0s 2ms/step - loss: 0.0289 - val_loss: 0.0178\n",
      "Epoch 12/20\n",
      "39/39 [==============================] - 0s 4ms/step - loss: 0.0241 - val_loss: 0.0139\n",
      "Epoch 13/20\n",
      "39/39 [==============================] - 0s 4ms/step - loss: 0.0205 - val_loss: 0.0122\n",
      "Epoch 14/20\n",
      "39/39 [==============================] - 0s 4ms/step - loss: 0.0177 - val_loss: 0.0105\n",
      "Epoch 15/20\n",
      "39/39 [==============================] - 0s 4ms/step - loss: 0.0154 - val_loss: 0.0088\n",
      "Epoch 16/20\n",
      "39/39 [==============================] - 0s 3ms/step - loss: 0.0135 - val_loss: 0.0076\n",
      "Epoch 17/20\n",
      "39/39 [==============================] - 0s 4ms/step - loss: 0.0118 - val_loss: 0.0068\n",
      "Epoch 18/20\n",
      "39/39 [==============================] - 0s 4ms/step - loss: 0.0105 - val_loss: 0.0060\n",
      "Epoch 19/20\n",
      "39/39 [==============================] - 0s 2ms/step - loss: 0.0093 - val_loss: 0.0053\n",
      "Epoch 20/20\n",
      "39/39 [==============================] - 0s 2ms/step - loss: 0.0082 - val_loss: 0.0046\n",
      "Accuracy:  1.0\n"
     ]
    },
    {
     "data": {
      "image/png": "[encoded data removed]",
      "text/plain": [
       "<Figure size 432x288 with 1 Axes>"
      ]
     },
     "metadata": {
      "needs_background": "light"
     },
     "output_type": "display_data"
    },
    {
     "name": "stdout",
     "output_type": "stream",
     "text": [
      "Epoch 1/20\n",
      "39/39 [==============================] - 1s 4ms/step - loss: 0.7265 - val_loss: 0.5364\n",
      "Epoch 2/20\n",
      "39/39 [==============================] - 0s 2ms/step - loss: 0.3598 - val_loss: 0.2762\n",
      "Epoch 3/20\n",
      "39/39 [==============================] - 0s 2ms/step - loss: 0.1952 - val_loss: 0.1745\n",
      "Epoch 4/20\n",
      "39/39 [==============================] - 0s 2ms/step - loss: 0.1238 - val_loss: 0.1256\n",
      "Epoch 5/20\n",
      "39/39 [==============================] - 0s 2ms/step - loss: 0.0872 - val_loss: 0.0945\n",
      "Epoch 6/20\n",
      "39/39 [==============================] - 0s 4ms/step - loss: 0.0655 - val_loss: 0.0747\n",
      "Epoch 7/20\n",
      "39/39 [==============================] - 0s 4ms/step - loss: 0.0510 - val_loss: 0.0605\n",
      "Epoch 8/20\n",
      "39/39 [==============================] - 0s 3ms/step - loss: 0.0401 - val_loss: 0.0501\n",
      "Epoch 9/20\n",
      "39/39 [==============================] - 0s 3ms/step - loss: 0.0322 - val_loss: 0.0414\n",
      "Epoch 10/20\n",
      "39/39 [==============================] - 0s 2ms/step - loss: 0.0265 - val_loss: 0.0351\n",
      "Epoch 11/20\n",
      "39/39 [==============================] - 0s 2ms/step - loss: 0.0221 - val_loss: 0.0303\n",
      "Epoch 12/20\n",
      "39/39 [==============================] - 0s 2ms/step - loss: 0.0186 - val_loss: 0.0259\n",
      "Epoch 13/20\n",
      "39/39 [==============================] - 0s 2ms/step - loss: 0.0159 - val_loss: 0.0228\n",
      "Epoch 14/20\n",
      "39/39 [==============================] - 0s 2ms/step - loss: 0.0138 - val_loss: 0.0204\n",
      "Epoch 15/20\n",
      "39/39 [==============================] - 0s 2ms/step - loss: 0.0121 - val_loss: 0.0180\n",
      "Epoch 16/20\n",
      "39/39 [==============================] - 0s 2ms/step - loss: 0.0106 - val_loss: 0.0162\n",
      "Epoch 17/20\n",
      "39/39 [==============================] - 0s 2ms/step - loss: 0.0095 - val_loss: 0.0147\n",
      "Epoch 18/20\n",
      "39/39 [==============================] - 0s 2ms/step - loss: 0.0085 - val_loss: 0.0133\n",
      "Epoch 19/20\n",
      "39/39 [==============================] - 0s 2ms/step - loss: 0.0076 - val_loss: 0.0122\n",
      "Epoch 20/20\n",
      "39/39 [==============================] - 0s 2ms/step - loss: 0.0069 - val_loss: 0.0112\n",
      "Accuracy:  1.0\n"
     ]
    },
    {
     "data": {
      "image/png": "[encoded data removed]",
      "text/plain": [
       "<Figure size 432x288 with 1 Axes>"
      ]
     },
     "metadata": {
      "needs_background": "light"
     },
     "output_type": "display_data"
    },
    {
     "name": "stdout",
     "output_type": "stream",
     "text": [
      "Cross validation mean accuracy:  0.8795461758172008\n"
     ]
    }
   ],
   "source": [
    "for train_ix, test_ix in kfold.split(X, y):\n",
    "    X_train, X_test, y_train, y_test = X[train_ix], X[test_ix], y[train_ix], y[test_ix]\n",
    "    n_futures = X.shape[1] # Size X\n",
    "\n",
    "    # Create a model\n",
    "    model = Sequential()\n",
    "    # Add input layer\n",
    "    model.add(Dense(20, activation='relu', input_shape = (n_futures,) ))\n",
    "    # Add layer\n",
    "    model.add(Dense(10, activation='relu'))\n",
    "    # output layer\n",
    "    model.add(Dense(1, activation='sigmoid'))\n",
    "    # Compile the model\n",
    "    model.compile(optimizer='adam', loss='binary_crossentropy') # for binary classification\n",
    "    \n",
    "    # Train our model\n",
    "    history = model.fit(X_train, y_train,\n",
    "                        epochs=20,\n",
    "                        batch_size=32,\n",
    "                        verbose=1,\n",
    "                        validation_data=(X_test, y_test))\n",
    "    \n",
    "    # predict test_set\n",
    "    yhat=(model.predict(X_test)>0.5).astype(\"int32\")\n",
    "    \n",
    "    #Validation our predict\n",
    "    score = accuracy_score(y_test, yhat)\n",
    "    print('Accuracy: ', score)\n",
    "    \n",
    "    #Visualizing the procces of training\n",
    "    plt.title('Study')\n",
    "    plt.xlabel('epochs')\n",
    "    plt.ylabel('Cross_entropy')\n",
    "    plt.plot(history.history['loss'], label='train')\n",
    "    plt.plot(history.history['val_loss'], label='val')\n",
    "\n",
    "    plt.legend()\n",
    "    plt.show()\n",
    "    \n",
    "    scores.append(score)\n",
    "    \n",
    "print('Cross validation mean accuracy: ', np.mean(scores))"
   ]
  }
 ],
 "metadata": {
  "kernelspec": {
   "display_name": "Python 3",
   "language": "python",
   "name": "python3"
  },
  "language_info": {
   "codemirror_mode": {
    "name": "ipython",
    "version": 3
   },
   "file_extension": ".py",
   "mimetype": "text/x-python",
   "name": "python",
   "nbconvert_exporter": "python",
   "pygments_lexer": "ipython3",
   "version": "3.6.8"
  }
 },
 "nbformat": 4,
 "nbformat_minor": 5
}
