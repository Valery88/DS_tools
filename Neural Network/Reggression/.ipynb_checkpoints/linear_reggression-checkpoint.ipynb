{
 "cells": [
  {
   "cell_type": "markdown",
   "id": "0e795fc9-b7be-44c3-a23b-1f17411e5600",
   "metadata": {},
   "source": [
    "# Imports"
   ]
  },
  {
   "cell_type": "code",
   "execution_count": 1,
   "id": "8ef5a1a6-2f30-4ddb-b259-8a8029af23a9",
   "metadata": {},
   "outputs": [],
   "source": [
    "import torch\n",
    "from torch.autograd import Variable\n",
    "\n",
    "import matplotlib.pyplot as plt\n",
    "from IPython.display import IFrame\n",
    "\n",
    "%matplotlib inline\n",
    "\n",
    "import numpy as np\n",
    "# For generated GIF\n",
    "import imageio\n",
    "\n",
    "torch.manual_seed(42);"
   ]
  },
  {
   "cell_type": "markdown",
   "id": "c553b355-6fa4-493a-aad3-55a0a8a74fa4",
   "metadata": {},
   "source": [
    "# Generate DS"
   ]
  },
  {
   "cell_type": "code",
   "execution_count": 2,
   "id": "6779342c-848c-46a0-a05c-8497d1698641",
   "metadata": {},
   "outputs": [
    {
     "data": {
      "text/plain": [
       "tensor([0.8823, 0.9150, 0.3829, 0.9593, 0.3904, 0.6009, 0.2566, 0.7936, 0.9408,\n",
       "        0.1332, 0.9346, 0.5936, 0.8694, 0.5677, 0.7411, 0.4294, 0.8854, 0.5739,\n",
       "        0.2666, 0.6274, 0.2696, 0.4414, 0.2969, 0.8317, 0.1053, 0.2695, 0.3588,\n",
       "        0.1994, 0.5472, 0.0062, 0.9516, 0.0753, 0.8860, 0.5832, 0.3376, 0.8090,\n",
       "        0.5779, 0.9040, 0.5547, 0.3423, 0.6343, 0.3644, 0.7104, 0.9464, 0.7890,\n",
       "        0.2814, 0.7886, 0.5895, 0.7539, 0.1952, 0.0050, 0.3068, 0.1165, 0.9103,\n",
       "        0.6440, 0.7071, 0.6581, 0.4913, 0.8913, 0.1447, 0.5315, 0.1587, 0.6542,\n",
       "        0.3278, 0.6532, 0.3958, 0.9147, 0.2036, 0.2018, 0.2018, 0.9497, 0.6666,\n",
       "        0.9811, 0.0874, 0.0041, 0.1088, 0.1637, 0.7025, 0.6790, 0.9155, 0.2418,\n",
       "        0.1591, 0.7653, 0.2979, 0.8035, 0.3813, 0.7860, 0.1115, 0.2477, 0.6524,\n",
       "        0.6057, 0.3725, 0.7980, 0.8399, 0.1374, 0.2331, 0.9578, 0.3313, 0.3227,\n",
       "        0.0162])"
      ]
     },
     "execution_count": 2,
     "metadata": {},
     "output_type": "execute_result"
    }
   ],
   "source": [
    "# Generated random equidisributed subsequence \n",
    "torch.rand(100)"
   ]
  },
  {
   "cell_type": "code",
   "execution_count": 3,
   "id": "bb9d1a21-03f1-4d3c-8aa5-ccc025bada4b",
   "metadata": {},
   "outputs": [
    {
     "data": {
      "text/plain": [
       "tensor([0.0029, 0.0293, 0.0337, 0.0594, 0.0600, 0.0624, 0.0758, 0.0766, 0.0850,\n",
       "        0.0897, 0.1035, 0.1054, 0.1258, 0.1265, 0.1330, 0.1330, 0.1371, 0.1568,\n",
       "        0.1585, 0.1612, 0.1716, 0.1816, 0.2007, 0.2083, 0.2137, 0.2147, 0.2234,\n",
       "        0.2247, 0.2297, 0.2469, 0.2709, 0.2846, 0.2849, 0.3083, 0.3139, 0.3219,\n",
       "        0.3288, 0.3289, 0.3336, 0.3510, 0.3624, 0.3676, 0.3722, 0.3881, 0.3908,\n",
       "        0.4008, 0.4117, 0.4121, 0.4137, 0.4250, 0.4340, 0.4452, 0.4505, 0.4654,\n",
       "        0.4701, 0.4761, 0.5014, 0.5073, 0.5117, 0.5535, 0.5643, 0.5782, 0.5907,\n",
       "        0.5944, 0.6044, 0.6099, 0.6115, 0.6161, 0.6202, 0.6249, 0.6258, 0.6401,\n",
       "        0.6431, 0.6541, 0.6558, 0.6625, 0.6757, 0.6783, 0.6870, 0.6947, 0.7099,\n",
       "        0.7581, 0.7583, 0.7610, 0.7628, 0.7672, 0.7792, 0.8196, 0.8460, 0.8712,\n",
       "        0.8870, 0.9037, 0.9192, 0.9295, 0.9297, 0.9302, 0.9545, 0.9554, 0.9555,\n",
       "        0.9998])"
      ]
     },
     "execution_count": 3,
     "metadata": {},
     "output_type": "execute_result"
    }
   ],
   "source": [
    "# Sort our subsequence\n",
    "# [1] - indexes\n",
    "torch.sort(torch.rand(100))[0]"
   ]
  },
  {
   "cell_type": "code",
   "execution_count": 4,
   "id": "1f162710-634f-45e8-9f4c-441680c09a46",
   "metadata": {},
   "outputs": [
    {
     "data": {
      "text/plain": [
       "tensor([[0.0023],\n",
       "        [0.0026],\n",
       "        [0.0036],\n",
       "        [0.0065],\n",
       "        [0.0134],\n",
       "        [0.0240],\n",
       "        [0.0248],\n",
       "        [0.0323],\n",
       "        [0.0459],\n",
       "        [0.0485],\n",
       "        [0.0521],\n",
       "        [0.0580],\n",
       "        [0.0716],\n",
       "        [0.0825],\n",
       "        [0.0892],\n",
       "        [0.0939],\n",
       "        [0.1165],\n",
       "        [0.1197],\n",
       "        [0.1332],\n",
       "        [0.1481],\n",
       "        [0.1514],\n",
       "        [0.1519],\n",
       "        [0.1733],\n",
       "        [0.1764],\n",
       "        [0.1786],\n",
       "        [0.1941],\n",
       "        [0.1985],\n",
       "        [0.1993],\n",
       "        [0.2003],\n",
       "        [0.2122],\n",
       "        [0.2255],\n",
       "        [0.2539],\n",
       "        [0.2545],\n",
       "        [0.2576],\n",
       "        [0.2636],\n",
       "        [0.2726],\n",
       "        [0.2956],\n",
       "        [0.2959],\n",
       "        [0.3096],\n",
       "        [0.3155],\n",
       "        [0.3335],\n",
       "        [0.3370],\n",
       "        [0.3382],\n",
       "        [0.3396],\n",
       "        [0.3413],\n",
       "        [0.3470],\n",
       "        [0.3514],\n",
       "        [0.3705],\n",
       "        [0.3821],\n",
       "        [0.3849],\n",
       "        [0.3865],\n",
       "        [0.3994],\n",
       "        [0.3998],\n",
       "        [0.4089],\n",
       "        [0.4118],\n",
       "        [0.4211],\n",
       "        [0.4216],\n",
       "        [0.4295],\n",
       "        [0.4431],\n",
       "        [0.4563],\n",
       "        [0.4610],\n",
       "        [0.4751],\n",
       "        [0.4951],\n",
       "        [0.4961],\n",
       "        [0.5723],\n",
       "        [0.6124],\n",
       "        [0.6265],\n",
       "        [0.6659],\n",
       "        [0.6689],\n",
       "        [0.6822],\n",
       "        [0.6855],\n",
       "        [0.6858],\n",
       "        [0.6948],\n",
       "        [0.7047],\n",
       "        [0.7069],\n",
       "        [0.7269],\n",
       "        [0.7308],\n",
       "        [0.7400],\n",
       "        [0.7401],\n",
       "        [0.7513],\n",
       "        [0.7619],\n",
       "        [0.7762],\n",
       "        [0.7797],\n",
       "        [0.8087],\n",
       "        [0.8104],\n",
       "        [0.8188],\n",
       "        [0.8346],\n",
       "        [0.8572],\n",
       "        [0.8596],\n",
       "        [0.8649],\n",
       "        [0.8729],\n",
       "        [0.8741],\n",
       "        [0.8788],\n",
       "        [0.9103],\n",
       "        [0.9192],\n",
       "        [0.9208],\n",
       "        [0.9211],\n",
       "        [0.9696],\n",
       "        [0.9729],\n",
       "        [0.9837]])"
      ]
     },
     "execution_count": 4,
     "metadata": {},
     "output_type": "execute_result"
    }
   ],
   "source": [
    "# Make more main view\n",
    "x = torch.unsqueeze(torch.sort(torch.rand(100))[0], dim=1)\n",
    "x"
   ]
  },
  {
   "cell_type": "code",
   "execution_count": 5,
   "id": "843c1785-8ecf-4bfb-8339-0cb0e0d0f08c",
   "metadata": {},
   "outputs": [
    {
     "data": {
      "text/plain": [
       "tensor([[ 0.0208],\n",
       "        [-0.1009],\n",
       "        [-0.1649],\n",
       "        [-0.2263],\n",
       "        [-0.3801],\n",
       "        [ 0.4673],\n",
       "        [-0.1504],\n",
       "        [ 0.1971],\n",
       "        [-0.0817],\n",
       "        [ 0.1376],\n",
       "        [ 0.5704],\n",
       "        [ 0.3464],\n",
       "        [-0.2901],\n",
       "        [ 0.3635],\n",
       "        [ 0.6530],\n",
       "        [ 0.3194],\n",
       "        [ 0.5682],\n",
       "        [ 0.7324],\n",
       "        [ 0.1898],\n",
       "        [ 0.3999],\n",
       "        [-0.0448],\n",
       "        [ 0.2008],\n",
       "        [ 0.7169],\n",
       "        [ 0.6091],\n",
       "        [ 0.0407],\n",
       "        [-0.0127],\n",
       "        [ 0.0554],\n",
       "        [-0.0948],\n",
       "        [ 0.0147],\n",
       "        [ 0.3008],\n",
       "        [ 0.7884],\n",
       "        [ 0.5915],\n",
       "        [ 0.1287],\n",
       "        [ 0.1141],\n",
       "        [ 0.7760],\n",
       "        [ 0.1734],\n",
       "        [ 0.5297],\n",
       "        [ 0.8317],\n",
       "        [ 0.3877],\n",
       "        [ 0.5764],\n",
       "        [ 0.6235],\n",
       "        [ 0.5557],\n",
       "        [ 0.4230],\n",
       "        [ 0.2335],\n",
       "        [ 0.2784],\n",
       "        [ 0.4263],\n",
       "        [ 1.1857],\n",
       "        [ 0.4995],\n",
       "        [ 0.4284],\n",
       "        [ 0.8910],\n",
       "        [ 0.9108],\n",
       "        [ 1.0727],\n",
       "        [ 1.1796],\n",
       "        [ 1.0962],\n",
       "        [ 0.3278],\n",
       "        [ 0.8865],\n",
       "        [ 1.1460],\n",
       "        [ 0.8128],\n",
       "        [ 0.5915],\n",
       "        [ 1.3892],\n",
       "        [ 0.7350],\n",
       "        [ 0.6656],\n",
       "        [ 0.5394],\n",
       "        [ 1.0146],\n",
       "        [ 1.3662],\n",
       "        [ 1.3355],\n",
       "        [ 1.3520],\n",
       "        [ 0.9525],\n",
       "        [ 0.8708],\n",
       "        [ 1.3733],\n",
       "        [ 1.8270],\n",
       "        [ 1.6601],\n",
       "        [ 1.0984],\n",
       "        [ 1.3445],\n",
       "        [ 1.0451],\n",
       "        [ 1.2126],\n",
       "        [ 1.5522],\n",
       "        [ 1.7522],\n",
       "        [ 1.8943],\n",
       "        [ 1.0436],\n",
       "        [ 1.8582],\n",
       "        [ 1.1998],\n",
       "        [ 1.7467],\n",
       "        [ 2.0405],\n",
       "        [ 1.6278],\n",
       "        [ 2.0925],\n",
       "        [ 1.2432],\n",
       "        [ 1.5235],\n",
       "        [ 2.0108],\n",
       "        [ 1.6210],\n",
       "        [ 1.6434],\n",
       "        [ 1.5398],\n",
       "        [ 2.1023],\n",
       "        [ 2.0658],\n",
       "        [ 1.9986],\n",
       "        [ 1.5605],\n",
       "        [ 1.4363],\n",
       "        [ 1.9932],\n",
       "        [ 2.0938],\n",
       "        [ 1.7365]])"
      ]
     },
     "execution_count": 5,
     "metadata": {},
     "output_type": "execute_result"
    }
   ],
   "source": [
    "# Create function this object\n",
    "y_true = 2 * x\n",
    "# Add noize\n",
    "y = y_true + (torch.rand(x.size()) - 0.5)\n",
    "y"
   ]
  },
  {
   "cell_type": "code",
   "execution_count": 6,
   "id": "bd9c66e5-0be8-488f-b11f-9cb82612c61b",
   "metadata": {},
   "outputs": [],
   "source": [
    "x, y = Variable(x), Variable(y)"
   ]
  },
  {
   "cell_type": "code",
   "execution_count": 7,
   "id": "b12b1aef-9c8e-47f1-a641-868ecd19ee43",
   "metadata": {},
   "outputs": [
    {
     "data": {
      "image/png": "[encoded data removed]",
      "text/plain": [
       "<Figure size 720x288 with 1 Axes>"
      ]
     },
     "metadata": {
      "needs_background": "light"
     },
     "output_type": "display_data"
    }
   ],
   "source": [
    "plt.figure(figsize=(10, 4))\n",
    "plt.scatter(x.data.numpy(), y.data.numpy(), color='black', label='Измерения', s=15)\n",
    "\n",
    "plt.plot(x.data.numpy(), y_true, color='red', label='y')\n",
    "plt.title('Пример зависимости с шумом', fontdict={'size': 15})\n",
    "plt.xlabel('x', fontdict={'size': 15})\n",
    "plt.ylabel('y', fontdict={'size': 15})\n",
    "plt.xlim(-0.05, 1.05)\n",
    "plt.ylim(-0.55, 2.55)\n",
    "plt.legend()\n",
    "plt.show()"
   ]
  },
  {
   "cell_type": "raw",
   "id": "cddeeaba-054a-497c-b5e3-21d6af421ee4",
   "metadata": {},
   "source": [
    "Дабы предсказать поведение данных мы должны усреднить нашу модель\n",
    "\n",
    "Мы строим лиейный персепторн"
   ]
  },
  {
   "cell_type": "code",
   "execution_count": 8,
   "id": "14037f20-6db9-46f9-a50a-2c3843f93a5c",
   "metadata": {},
   "outputs": [],
   "source": [
    "class LinearNet(torch.nn.Module):\n",
    "    def __init__(self,  \n",
    "                 n_feature, \n",
    "                 n_output, \n",
    "                 use_bias=False):\n",
    "        super(LinearNet, self).__init__()\n",
    "        self.output = torch.nn.Linear(n_feature, n_output, bias=use_bias)\n",
    "    \n",
    "    def forward(self, x):\n",
    "        x = self.output(x)\n",
    "        return x"
   ]
  },
  {
   "cell_type": "code",
   "execution_count": 9,
   "id": "ee371bbc-a21f-4956-bafc-af50e02bb867",
   "metadata": {},
   "outputs": [
    {
     "data": {
      "text/plain": [
       "LinearNet(\n",
       "  (output): Linear(in_features=1, out_features=1, bias=False)\n",
       ")"
      ]
     },
     "execution_count": 9,
     "metadata": {},
     "output_type": "execute_result"
    }
   ],
   "source": [
    "net = LinearNet(n_feature=1, n_output=1)\n",
    "net"
   ]
  },
  {
   "cell_type": "code",
   "execution_count": 10,
   "id": "a4f02149-9479-4066-8188-0063756cf042",
   "metadata": {},
   "outputs": [],
   "source": [
    "loss_func = torch.nn.MSELoss()"
   ]
  },
  {
   "cell_type": "code",
   "execution_count": 11,
   "id": "cafdbb04-1dc8-414a-965e-14d3f5a515a7",
   "metadata": {},
   "outputs": [],
   "source": [
    "prediction = net(x)\n",
    "\n",
    "loss = loss_func(prediction, y)"
   ]
  },
  {
   "cell_type": "code",
   "execution_count": 12,
   "id": "fac25d3e-8330-418e-96cf-004a1c811039",
   "metadata": {},
   "outputs": [
    {
     "data": {
      "text/plain": [
       "tensor([[-0.0007],\n",
       "        [-0.0007],\n",
       "        [-0.0010],\n",
       "        [-0.0018],\n",
       "        [-0.0038],\n",
       "        [-0.0067],\n",
       "        [-0.0070],\n",
       "        [-0.0090],\n",
       "        [-0.0128],\n",
       "        [-0.0136],\n",
       "        [-0.0146],\n",
       "        [-0.0162],\n",
       "        [-0.0200],\n",
       "        [-0.0231],\n",
       "        [-0.0250],\n",
       "        [-0.0263],\n",
       "        [-0.0326],\n",
       "        [-0.0335],\n",
       "        [-0.0373],\n",
       "        [-0.0414],\n",
       "        [-0.0424],\n",
       "        [-0.0425],\n",
       "        [-0.0485],\n",
       "        [-0.0493],\n",
       "        [-0.0500],\n",
       "        [-0.0543],\n",
       "        [-0.0556],\n",
       "        [-0.0558],\n",
       "        [-0.0560],\n",
       "        [-0.0594],\n",
       "        [-0.0631],\n",
       "        [-0.0710],\n",
       "        [-0.0712],\n",
       "        [-0.0721],\n",
       "        [-0.0738],\n",
       "        [-0.0763],\n",
       "        [-0.0827],\n",
       "        [-0.0828],\n",
       "        [-0.0866],\n",
       "        [-0.0883],\n",
       "        [-0.0933],\n",
       "        [-0.0943],\n",
       "        [-0.0946],\n",
       "        [-0.0950],\n",
       "        [-0.0955],\n",
       "        [-0.0971],\n",
       "        [-0.0983],\n",
       "        [-0.1037],\n",
       "        [-0.1069],\n",
       "        [-0.1077],\n",
       "        [-0.1081],\n",
       "        [-0.1117],\n",
       "        [-0.1119],\n",
       "        [-0.1144],\n",
       "        [-0.1152],\n",
       "        [-0.1178],\n",
       "        [-0.1180],\n",
       "        [-0.1202],\n",
       "        [-0.1240],\n",
       "        [-0.1277],\n",
       "        [-0.1290],\n",
       "        [-0.1329],\n",
       "        [-0.1385],\n",
       "        [-0.1388],\n",
       "        [-0.1601],\n",
       "        [-0.1714],\n",
       "        [-0.1753],\n",
       "        [-0.1863],\n",
       "        [-0.1871],\n",
       "        [-0.1909],\n",
       "        [-0.1918],\n",
       "        [-0.1919],\n",
       "        [-0.1944],\n",
       "        [-0.1972],\n",
       "        [-0.1978],\n",
       "        [-0.2034],\n",
       "        [-0.2045],\n",
       "        [-0.2070],\n",
       "        [-0.2071],\n",
       "        [-0.2102],\n",
       "        [-0.2132],\n",
       "        [-0.2172],\n",
       "        [-0.2182],\n",
       "        [-0.2263],\n",
       "        [-0.2267],\n",
       "        [-0.2291],\n",
       "        [-0.2335],\n",
       "        [-0.2398],\n",
       "        [-0.2405],\n",
       "        [-0.2420],\n",
       "        [-0.2442],\n",
       "        [-0.2446],\n",
       "        [-0.2459],\n",
       "        [-0.2547],\n",
       "        [-0.2572],\n",
       "        [-0.2576],\n",
       "        [-0.2577],\n",
       "        [-0.2713],\n",
       "        [-0.2722],\n",
       "        [-0.2752]], grad_fn=<MmBackward0>)"
      ]
     },
     "execution_count": 12,
     "metadata": {},
     "output_type": "execute_result"
    }
   ],
   "source": [
    "prediction"
   ]
  },
  {
   "cell_type": "code",
   "execution_count": 13,
   "id": "3e2f6984-866d-4088-8031-4a5c97cdc581",
   "metadata": {},
   "outputs": [
    {
     "data": {
      "text/plain": [
       "tensor(1.4986, grad_fn=<MseLossBackward0>)"
      ]
     },
     "execution_count": 13,
     "metadata": {},
     "output_type": "execute_result"
    }
   ],
   "source": [
    "loss"
   ]
  },
  {
   "cell_type": "code",
   "execution_count": 14,
   "id": "da32f08c-ae86-472b-9134-2c471ad64ac5",
   "metadata": {},
   "outputs": [
    {
     "data": {
      "text/plain": [
       "tensor(1.4986, grad_fn=<MeanBackward0>)"
      ]
     },
     "execution_count": 14,
     "metadata": {},
     "output_type": "execute_result"
    }
   ],
   "source": [
    "torch.mean((prediction - y)*(prediction - y))"
   ]
  },
  {
   "cell_type": "code",
   "execution_count": 15,
   "id": "2040cfbf-005c-42c8-82b0-099b8078ed06",
   "metadata": {},
   "outputs": [
    {
     "data": {
      "text/html": [
       "\n",
       "        <iframe\n",
       "            width=\"900\"\n",
       "            height=\"550\"\n",
       "            src=\"./gif/simple.gif\"\n",
       "            frameborder=\"0\"\n",
       "            allowfullscreen\n",
       "        ></iframe>\n",
       "        "
      ],
      "text/plain": [
       "<IPython.lib.display.IFrame at 0x169fbade7f0>"
      ]
     },
     "execution_count": 15,
     "metadata": {},
     "output_type": "execute_result"
    },
    {
     "data": {
      "image/png": "[encoded data removed]",
      "text/plain": [
       "<Figure size 864x504 with 1 Axes>"
      ]
     },
     "metadata": {
      "needs_background": "light"
     },
     "output_type": "display_data"
    }
   ],
   "source": [
    "optimizer = torch.optim.SGD(net.parameters(), lr=0.2)\n",
    "\n",
    "my_images = []\n",
    "fig, ax = plt.subplots(figsize=(12, 7))\n",
    "\n",
    "for t in range(100):\n",
    "    prediction = net(x) # make a predict\n",
    "    \n",
    "    loss = loss_func(y, prediction) # calculate loss function\n",
    "    \n",
    "    optimizer.zero_grad() # zeroing grads\n",
    "    loss.backward() # Calculate misstake\n",
    "    optimizer.step() # step to optimization\n",
    "    \n",
    "    plt.cla()\n",
    "    ax.scatter(x.data.numpy(), y.data.numpy(), color='black', label='Измерения', s=15)\n",
    "    plt.plot(x.data.numpy(), y_true, color='red', label='y')\n",
    "    plt.plot(x.data.numpy(), prediction.data.numpy(), color='blue', lw=3, label='Предсказания')\n",
    "    \n",
    "    plt.title('Пример зависимости с шумом', fontdict={'size': 15})\n",
    "    plt.xlabel('x', fontdict={'size': 15})\n",
    "    plt.ylabel('y', fontdict={'size': 15})\n",
    "    plt.xlim(-0.05, 1.05)\n",
    "    plt.ylim(-0.55, 2.55)\n",
    "    plt.legend()\n",
    "    \n",
    "    \n",
    "    fig.canvas.draw()\n",
    "    image = np.frombuffer(fig.canvas.tostring_rgb(), dtype='uint8')\n",
    "    image = image.reshape(fig.canvas.get_width_height()[::-1] + (3,))\n",
    "    \n",
    "    my_images.append(image)\n",
    "\n",
    "# To freeze our gif\n",
    "for _ in range(10):\n",
    "    my_images.append(image)\n",
    "\n",
    "imageio.mimsave('./gif/simple.gif', my_images, fps=10)\n",
    "IFrame(src='./gif/simple.gif', width=900, height=550)"
   ]
  },
  {
   "cell_type": "markdown",
   "id": "2a67927e-a278-42ba-809f-144160ac23f0",
   "metadata": {},
   "source": [
    "### Данные со смещением"
   ]
  },
  {
   "cell_type": "code",
   "execution_count": 16,
   "id": "a6f9853a-42db-456e-aba8-1dcd6385b39a",
   "metadata": {},
   "outputs": [
    {
     "data": {
      "image/png": "[encoded data removed]",
      "text/plain": [
       "<Figure size 720x288 with 1 Axes>"
      ]
     },
     "metadata": {
      "needs_background": "light"
     },
     "output_type": "display_data"
    }
   ],
   "source": [
    "# Generated random equidisributed subsequence \n",
    "# Sort our subsequence\n",
    "# [1] - indexes\n",
    "# Make more main view\n",
    "x = torch.unsqueeze(torch.sort(torch.rand(100))[0], dim=1)\n",
    "\n",
    "# Create function this object\n",
    "y_true = 2 * x + 1\n",
    "# Add noize\n",
    "y = y_true + (torch.rand(x.size()) - 0.5)\n",
    "\n",
    "x, y = Variable(x), Variable(y)\n",
    "plt.figure(figsize=(10, 4))\n",
    "plt.scatter(x.data.numpy(), y.data.numpy(), color='black', label='Измерения', s=15)\n",
    "\n",
    "plt.plot(x.data.numpy(), y_true, color='red', label='y')\n",
    "plt.title('Пример зависимости с шумом', fontdict={'size': 15})\n",
    "plt.xlabel('x', fontdict={'size': 15})\n",
    "plt.ylabel('y', fontdict={'size': 15})\n",
    "plt.xlim(-0.05, 1.05)\n",
    "plt.ylim(0.55, 3.55)\n",
    "plt.legend()\n",
    "plt.show()"
   ]
  },
  {
   "cell_type": "code",
   "execution_count": 17,
   "id": "63f77561-3fb4-4703-9a9e-6b6042d25681",
   "metadata": {},
   "outputs": [],
   "source": [
    "class LinearNet(torch.nn.Module):\n",
    "    def __init__(self,  \n",
    "                 n_feature, \n",
    "                 n_output, \n",
    "                 use_bias=False):\n",
    "        super(LinearNet, self).__init__()\n",
    "        self.output = torch.nn.Linear(n_feature, n_output, bias=use_bias)\n",
    "    \n",
    "    def forward(self, x):\n",
    "        x = self.output(x)\n",
    "        return x"
   ]
  },
  {
   "cell_type": "code",
   "execution_count": 18,
   "id": "b3dbeaa8-f92d-4fe2-a571-1c4e509eec23",
   "metadata": {},
   "outputs": [
    {
     "name": "stdout",
     "output_type": "stream",
     "text": [
      "LinearNet(\n",
      "  (output): Linear(in_features=1, out_features=1, bias=True)\n",
      ")\n"
     ]
    }
   ],
   "source": [
    "net = LinearNet(n_feature=1, n_output=1, use_bias=True)\n",
    "print(net)"
   ]
  },
  {
   "cell_type": "code",
   "execution_count": 19,
   "id": "99b4ee78-8250-4bc3-bf4f-308ef06dee9d",
   "metadata": {},
   "outputs": [
    {
     "data": {
      "text/html": [
       "\n",
       "        <iframe\n",
       "            width=\"900\"\n",
       "            height=\"550\"\n",
       "            src=\"./gif/simple.gif\"\n",
       "            frameborder=\"0\"\n",
       "            allowfullscreen\n",
       "        ></iframe>\n",
       "        "
      ],
      "text/plain": [
       "<IPython.lib.display.IFrame at 0x169fc2e72b0>"
      ]
     },
     "execution_count": 19,
     "metadata": {},
     "output_type": "execute_result"
    },
    {
     "data": {
      "image/png": "[encoded data removed]",
      "text/plain": [
       "<Figure size 864x504 with 1 Axes>"
      ]
     },
     "metadata": {
      "needs_background": "light"
     },
     "output_type": "display_data"
    }
   ],
   "source": [
    "optimizer = torch.optim.SGD(net.parameters(), lr=0.2)\n",
    "\n",
    "my_images = []\n",
    "fig, ax = plt.subplots(figsize=(12, 7))\n",
    "\n",
    "for t in range(100):\n",
    "    prediction = net(x) # make a predict\n",
    "    \n",
    "    loss = loss_func(y, prediction) # calculate loss function\n",
    "    \n",
    "    optimizer.zero_grad() # zeroing grads\n",
    "    loss.backward() # Calculate misstake\n",
    "    optimizer.step() # step to optimization\n",
    "    \n",
    "    plt.cla()\n",
    "    ax.scatter(x.data.numpy(), y.data.numpy(), color='black', label='Измерения', s=15)\n",
    "    plt.plot(x.data.numpy(), y_true, color='red', label='y')\n",
    "    plt.plot(x.data.numpy(), prediction.data.numpy(), color='blue', lw=3, label='Предсказания')\n",
    "    \n",
    "    plt.title('Пример зависимости с шумом', fontdict={'size': 15})\n",
    "    plt.xlabel('x', fontdict={'size': 15})\n",
    "    plt.ylabel('y', fontdict={'size': 15})\n",
    "    plt.xlim(-0.05, 1.05)\n",
    "    plt.ylim(0.55, 3.55)\n",
    "    plt.legend()\n",
    "    \n",
    "    \n",
    "    fig.canvas.draw()\n",
    "    image = np.frombuffer(fig.canvas.tostring_rgb(), dtype='uint8')\n",
    "    image = image.reshape(fig.canvas.get_width_height()[::-1] + (3,))\n",
    "    \n",
    "    my_images.append(image)\n",
    "\n",
    "# To freeze our gif\n",
    "for _ in range(10):\n",
    "    my_images.append(image)\n",
    "\n",
    "imageio.mimsave('./gif/simple_.gif', my_images, fps=10)\n",
    "IFrame(src='./gif/simple_.gif', width=900, height=550)"
   ]
  }
 ],
 "metadata": {
  "kernelspec": {
   "display_name": "Python 3",
   "language": "python",
   "name": "python3"
  },
  "language_info": {
   "codemirror_mode": {
    "name": "ipython",
    "version": 3
   },
   "file_extension": ".py",
   "mimetype": "text/x-python",
   "name": "python",
   "nbconvert_exporter": "python",
   "pygments_lexer": "ipython3",
   "version": "3.6.8"
  }
 },
 "nbformat": 4,
 "nbformat_minor": 5
}
