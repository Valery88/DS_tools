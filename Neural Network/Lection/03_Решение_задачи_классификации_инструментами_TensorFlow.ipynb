{
 "cells": [
  {
   "cell_type": "markdown",
   "id": "83c416d4",
   "metadata": {},
   "source": [
    "# Построение многослойного персептрона для решения задачи классификации\n",
    "Определение модели с нуля, включая описание алгоритмов оптимизации достаточно трудоемко. Вместо этого TensorFlow предоставляет уже определенные слои через библиотеку tf.keras.layers, которые могут быть легко использованы в качестве строительных блоков нейросетевой модели. В этом разделе будет разобрано, как использовать эти слои для решения задачи классификации с использованием набора данных Iris flower и построения двухслойного персептрона с использованием Keras API. Сначала необходимо получить данные из tensorflow_datasets."
   ]
  },
  {
   "cell_type": "code",
   "execution_count": 1,
   "id": "98a17c43",
   "metadata": {},
   "outputs": [
    {
     "name": "stdout",
     "output_type": "stream",
     "text": [
      "\u001b[1mDownloading and preparing dataset Unknown size (download: Unknown size, generated: Unknown size, total: Unknown size) to C:\\Users\\acer\\tensorflow_datasets\\iris\\2.0.0...\u001b[0m\n"
     ]
    },
    {
     "data": {
      "application/vnd.jupyter.widget-view+json": {
       "model_id": "f427ee3a2cc6482482c088806037ac6a",
       "version_major": 2,
       "version_minor": 0
      },
      "text/plain": [
       "Dl Completed...: 0 url [00:00, ? url/s]"
      ]
     },
     "metadata": {},
     "output_type": "display_data"
    },
    {
     "data": {
      "application/vnd.jupyter.widget-view+json": {
       "model_id": "ae6fd1e038cf4dd4b9dc97cb48cdc28e",
       "version_major": 2,
       "version_minor": 0
      },
      "text/plain": [
       "Dl Size...: 0 MiB [00:00, ? MiB/s]"
      ]
     },
     "metadata": {},
     "output_type": "display_data"
    },
    {
     "data": {
      "application/vnd.jupyter.widget-view+json": {
       "model_id": "",
       "version_major": 2,
       "version_minor": 0
      },
      "text/plain": [
       "Generating splits...:   0%|          | 0/1 [00:00<?, ? splits/s]"
      ]
     },
     "metadata": {},
     "output_type": "display_data"
    },
    {
     "data": {
      "application/vnd.jupyter.widget-view+json": {
       "model_id": "",
       "version_major": 2,
       "version_minor": 0
      },
      "text/plain": [
       "Generating train examples...: 0 examples [00:00, ? examples/s]"
      ]
     },
     "metadata": {},
     "output_type": "display_data"
    },
    {
     "data": {
      "application/vnd.jupyter.widget-view+json": {
       "model_id": "",
       "version_major": 2,
       "version_minor": 0
      },
      "text/plain": [
       "Shuffling C:\\Users\\acer\\tensorflow_datasets\\iris\\2.0.0.incompleteL2U15G\\iris-train.tfrecord*...:   0%|        …"
      ]
     },
     "metadata": {},
     "output_type": "display_data"
    },
    {
     "name": "stdout",
     "output_type": "stream",
     "text": [
      "\u001b[1mDataset iris downloaded and prepared to C:\\Users\\acer\\tensorflow_datasets\\iris\\2.0.0. Subsequent calls will reuse this data.\u001b[0m\n",
      "tfds.core.DatasetInfo(\n",
      "    name='iris',\n",
      "    full_name='iris/2.0.0',\n",
      "    description=\"\"\"\n",
      "    This is perhaps the best known database to be found in the pattern recognition\n",
      "    literature. Fisher's paper is a classic in the field and is referenced\n",
      "    frequently to this day. (See Duda & Hart, for example.) The data set contains\n",
      "    3 classes of 50 instances each, where each class refers to a type of iris\n",
      "    plant. One class is linearly separable from the other 2; the latter are NOT\n",
      "    linearly separable from each other.\n",
      "    \"\"\",\n",
      "    homepage='https://archive.ics.uci.edu/ml/datasets/iris',\n",
      "    data_path='C:\\\\Users\\\\acer\\\\tensorflow_datasets\\\\iris\\\\2.0.0',\n",
      "    file_format=tfrecord,\n",
      "    download_size=4.44 KiB,\n",
      "    dataset_size=7.62 KiB,\n",
      "    features=FeaturesDict({\n",
      "        'features': Tensor(shape=(4,), dtype=float32),\n",
      "        'label': ClassLabel(shape=(), dtype=int64, num_classes=3),\n",
      "    }),\n",
      "    supervised_keys=('features', 'label'),\n",
      "    disable_shuffling=False,\n",
      "    splits={\n",
      "        'train': <SplitInfo num_examples=150, num_shards=1>,\n",
      "    },\n",
      "    citation=\"\"\"@misc{Dua:2019 ,\n",
      "    author = \"Dua, Dheeru and Graff, Casey\",\n",
      "    year = \"2017\",\n",
      "    title = \"{UCI} Machine Learning Repository\",\n",
      "    url = \"http://archive.ics.uci.edu/ml\",\n",
      "    institution = \"University of California, Irvine, School of Information and Computer Sciences\"\n",
      "    }\"\"\",\n",
      ")\n"
     ]
    }
   ],
   "source": [
    "import tensorflow_datasets as tfds\n",
    "iris, iris_info = tfds.load('iris', with_info=True)\n",
    "print(iris_info)"
   ]
  },
  {
   "cell_type": "markdown",
   "id": "6b53a766",
   "metadata": {},
   "source": [
    "Можно видеть, что при этом выводится сводная информация о датасете. Можно видеть, что этот набор данных поставляется только с одним разделом, поэтому его необходимо разделить на обучающий и тестовый разделы (и валидационный для правильной практики машинного обучения) самостоятельно. \n",
    "\n",
    "Предположим, что мы хотим использовать две трети набора данных для обучения и сохранить оставшиеся примеры для тестирования. Библиотека tensorflow_datasets предоставляет удобный инструмент, который позволяет нам определять срезы и разбиения с помощью объекта DatasetBuilder перед загрузкой набор данных. \n",
    "\n",
    "Студенты, заинтересованные в том, чтобы детальнее разобраться в работе с датасетами, могут сделать по ссылке в сети Интернет:  https://www.tensorflow.org/datasets/splits.\n",
    "Альтернативный подход заключается в том, чтобы сначала загрузить весь набор данных, а затем использовать .take() и .skip(), чтобы разделить набор данных на два раздела. Если набор данных сначала не перетасовывается, его можно также перетасовать. Однако необходимо быть очень осторожными с этим, потому что смешивание может привести к смешиванию обучающих / тестовых примеров, что неприемлемо в машинном обучении. Чтобы избежать этого, мы должны задать аргумент reshuffle_each_iteration=False в методе .shuffle(). Код для разделения набора данных на тестовый и обучающий выглядит следующим образом:"
   ]
  },
  {
   "cell_type": "code",
   "execution_count": 3,
   "id": "4f3454cd",
   "metadata": {},
   "outputs": [],
   "source": [
    "import tensorflow as tf\n",
    "tf.random.set_seed(1)\n",
    "ds_orig = iris['train']\n",
    "ds_orig = ds_orig.shuffle(150, reshuffle_each_iteration=False)\n",
    "ds_train_orig = ds_orig.take(100)\n",
    "ds_test = ds_orig.skip(100)"
   ]
  },
  {
   "cell_type": "markdown",
   "id": "4f6f2733",
   "metadata": {},
   "source": [
    "Далее, как мы уже видели в предыдущих разделах, нужно применить преобразование с помощью метода .map(), чтобы сформировать из словаря кортеж:"
   ]
  },
  {
   "cell_type": "code",
   "execution_count": 4,
   "id": "4843dd27",
   "metadata": {},
   "outputs": [],
   "source": [
    "ds_train_orig = ds_train_orig.map(lambda x: (x['features'], x['label']))\n",
    "ds_test = ds_test.map(lambda x: (x['features'], x['label']))"
   ]
  },
  {
   "cell_type": "markdown",
   "id": "efadde09",
   "metadata": {},
   "source": [
    "Мы готовы перейти к построению нейросетевой модели с помощью API Keras.\n",
    "Будем использовать класс tf.keras.Sequential, с помощью которого можно сформировать модель из нескольких слоев Keras. Со списком и описаниями всех слоев Keras можно ознакомиться по следующей ссылке в сети Интернет: https://www.tensorflow.org/versions/r2.0/api_docs/python/tf/keras/layers.\n",
    "Для решения задачи мы собираемся использовать полносвязный (FC), состоящий из персептронов, слой Dense (tf.keras.слои.Плотный), который может быть наилучшим образом представлен с помощью функции 𝑓(𝑤 × 𝑥 + 𝑏), где x - входные характеристики, w и b - весовая матрица и вектор смещения, а f - функция активации.\n",
    "Стоит помнить, что в нейронных сетях каждый слой получает свои входные данные от предыдущего слоя; следовательно, его размерность (ранг и форма) фиксирована. Соответственно, о размерности выходных данных следует помнить только в момент проектирования нейросети. \n",
    "\n",
    "**Примечание:** первый слой является исключением, TensorFlow/Keras позволяет определять размерность входных данных первого слоя после определения модели посредством позднего создания переменной. \n",
    "\n",
    "В данном примене мы хотим определить модель с двумя скрытыми слоями.\n",
    "Первый получает входные данные из четырех признаков и проецирует их на 16 нейронов. Второй слой получает выходные данные предыдущего слоя (который имеет размер 16) и проецирует их на три выходных нейрона, поскольку у нас есть три метки класса. Это можно сделать, используя класс Sequential и слой Dense в Keras следующим образом:"
   ]
  },
  {
   "cell_type": "code",
   "execution_count": 5,
   "id": "1ac7095f",
   "metadata": {},
   "outputs": [
    {
     "name": "stdout",
     "output_type": "stream",
     "text": [
      "Model: \"sequential\"\n",
      "_________________________________________________________________\n",
      " Layer (type)                Output Shape              Param #   \n",
      "=================================================================\n",
      " fc1 (Dense)                 (None, 16)                80        \n",
      "                                                                 \n",
      " fc2 (Dense)                 (None, 3)                 51        \n",
      "                                                                 \n",
      "=================================================================\n",
      "Total params: 131\n",
      "Trainable params: 131\n",
      "Non-trainable params: 0\n",
      "_________________________________________________________________\n"
     ]
    }
   ],
   "source": [
    "iris_model = tf.keras.Sequential([\n",
    "tf.keras.layers.Dense(16, activation='sigmoid',name='fc1', input_shape=(4,)),\n",
    "tf.keras.layers.Dense(3, name='fc2', activation='softmax')])\n",
    "iris_model.summary() "
   ]
  },
  {
   "cell_type": "markdown",
   "id": "7a11517e",
   "metadata": {},
   "source": [
    "Обратите внимание, что мы определили входную форму для первого слоя с помощью input_shape=(4,), и, следовательно, нам больше не нужно было вызывать .build(), чтобы использовать iris_ model.summary().\n",
    "В распечатанной сводке модели указано, что первый слой (fc1) имеет 80 параметров, а второй слой имеет 51 параметр. Вы можете убедиться в этом с помощью ($𝑛_{i}$𝑖𝑛 + 1) × $𝑛_{n}$out , где $𝑛_{i}$𝑖𝑛 - это количество входных единиц, а $𝑛_{n}$out - количество выходных единиц. Напомним, что для полностью (плотно) связанного слоя изучаемыми параметрами являются весовая матрица размера $𝑛_{i}$𝑖𝑛 × $𝑛_{n}$out и вектор смещения размера $𝑛_{n}$out. Кроме того, обратите внимание, что мы использовали сигмоидную функцию активации для первого слоя и softmax для последнего (выходного) слоя. Функция активация Softmax на последнем слое используется для поддержки многоклассовой классификации, поскольку в данной задаче необходимо разделить три метки классов (именно поэтому у нас есть три нейрона на выходном уровне). Далее в этой главе обсудим различные функции активации и их применение.\n",
    "Далее мы скомпилируем эту модель, чтобы указать функцию ошибки, оптимизатор и показатели для оценки:"
   ]
  },
  {
   "cell_type": "code",
   "execution_count": 6,
   "id": "04aaf279",
   "metadata": {},
   "outputs": [],
   "source": [
    "iris_model.compile(optimizer='adam', loss='sparse_categorical_crossentropy', metrics=['accuracy'])"
   ]
  },
  {
   "cell_type": "markdown",
   "id": "b741ce98",
   "metadata": {},
   "source": [
    "Теперь мы можем обучить модель. Мы укажем количество эпох равным 100, а размер пакета - 2. В следующем коде мы создадим бесконечно повторяющийся набор данных, который будет передан методу fit() для обучения модели. В этом случае, для того чтобы метод fit() мог отслеживать эпохи, ему необходимо знать количество шагов для каждой эпохи.\n",
    "Учитывая размер наших обучающих данных (здесь 100) и размер пакета (batch_size), мы можем определить количество шагов в каждой эпохе, steps_per_epoch:"
   ]
  },
  {
   "cell_type": "code",
   "execution_count": 8,
   "id": "3156e635",
   "metadata": {},
   "outputs": [],
   "source": [
    "import numpy as np\n",
    "num_epochs = 100\n",
    "training_size = 100\n",
    "batch_size = 2\n",
    "steps_per_epoch = np.ceil(training_size / batch_size)\n",
    "\n",
    "ds_train = ds_train_orig.shuffle(buffer_size=training_size)\n",
    "ds_train = ds_train.repeat()\n",
    "ds_train = ds_train.batch(batch_size=batch_size)\n",
    "ds_train = ds_train.prefetch(buffer_size=1000)\n",
    "\n",
    "history = iris_model.fit(ds_train, epochs=num_epochs, steps_per_epoch=steps_per_epoch, verbose=0)"
   ]
  },
  {
   "cell_type": "markdown",
   "id": "83af8765",
   "metadata": {},
   "source": [
    "Возвращаемая переменная history сохраняет потери при обучении и точность обучения (поскольку они были указаны в качестве показателей для iris_model.compile()) после каждой эпохи. Мы можем использовать это для визуализации кривых обучения следующим образом. Программа в следующем фрагменте демонстрирует кривые обучения (ошибка при обучении и точность предсказания)"
   ]
  },
  {
   "cell_type": "code",
   "execution_count": 10,
   "id": "bf8d3569",
   "metadata": {},
   "outputs": [
    {
     "data": {
      "image/png": "[encoded data removed]",
      "text/plain": [
       "<Figure size 1200x500 with 2 Axes>"
      ]
     },
     "metadata": {},
     "output_type": "display_data"
    }
   ],
   "source": [
    "import matplotlib.pyplot as plt\n",
    "hist = history.history\n",
    "\n",
    "fig = plt.figure(figsize=(12, 5))\n",
    "ax = fig.add_subplot(1, 2, 1)\n",
    "ax.plot(hist['loss'], lw=3)\n",
    "ax.set_title('Training loss', size=15)\n",
    "ax.set_xlabel('Epoch', size=15)\n",
    "ax.tick_params(axis='both', which='major', labelsize=15)\n",
    "ax = fig.add_subplot(1, 2, 2)\n",
    "ax.plot(hist['accuracy'], lw=3)\n",
    "ax.set_title('Training accuracy', size=15)\n",
    "ax.set_xlabel('Epoch', size=15)\n",
    "ax.tick_params(axis='both', which='major', labelsize=15)\n",
    "plt.show()"
   ]
  },
  {
   "cell_type": "markdown",
   "id": "1638dce5",
   "metadata": {},
   "source": [
    "## Оценка обученной модели на основе тестового набора данных\n",
    "Поскольку  в качестве нашей оценочной метрики в iris_model.compile() была указана указали accuracy (\"точность\"), то теперь на основе этой метрики можно оценить модель на тестовом наборе данных."
   ]
  },
  {
   "cell_type": "code",
   "execution_count": 14,
   "id": "bd17223d",
   "metadata": {},
   "outputs": [
    {
     "name": "stdout",
     "output_type": "stream",
     "text": [
      "Test loss: 0.1479 Test Acc.: 0.9600\n"
     ]
    }
   ],
   "source": [
    "results = iris_model.evaluate(ds_test.batch(50), verbose=0)\n",
    "print('Test loss: {:.4f} Test Acc.: {:.4f}'.format(*results)) "
   ]
  },
  {
   "cell_type": "markdown",
   "id": "0ab66f20",
   "metadata": {},
   "source": [
    "Следует обратить внимание, что при решении задачи необходимо выполнить упаковку тестового набора данных, чтобы убедиться, что входные данные для модели имеют правильную размерность (ранг). Как мы обсуждали ранее, вызов .batch() увеличит ранг извлеченных тензоров на 1. Входные данные для .evaluate() должны иметь одно назначенное измерение для пакета, хотя здесь (для оценки) размер пакета не имеет значения. Следовательно, если мы передадим ds_batch.batch(50) методу .evaluate(), весь тестовый набор данных будет обработан в одном пакете размером 50, но если мы передадим ds_batch.batch(1), будет обработано 50 пакетов размером 1."
   ]
  },
  {
   "cell_type": "markdown",
   "id": "3feb340f",
   "metadata": {},
   "source": [
    "## Сохранение и загрузка обученной модели\n",
    "Обученные модели можно сохранить на диске для дальнейшего использования. Делается это следующим образом:"
   ]
  },
  {
   "cell_type": "code",
   "execution_count": 15,
   "id": "fe49340c",
   "metadata": {},
   "outputs": [],
   "source": [
    "iris_model.save('iris-classifier.h5', overwrite=True, include_optimizer=True, save_format='h5')"
   ]
  },
  {
   "cell_type": "markdown",
   "id": "dd94c140",
   "metadata": {},
   "source": [
    "Первый параметр - это имя файла. Вызов iris_model.save() сохранит как архитектуру модели, так и все значения синаптических весов модели. Если необходимо сохранить только архитектуру, то следует использовать метод iris_model.to_json(), который сохраняет конфигурацию модели в формате JSON. Если вы хотите сохранить только веса модели, вы можете сделать это, вызвав iris_model.save_weights(). Параметр save_format определяет формат файла сохранения и может быть указан как \"h5\" для формата HDF5 или \"tf\" для формата TensorFlow.\n",
    "\n",
    "\n",
    "Теперь сохраненную модель можно считать из папки сохранения. Поскольку мы сохранили как архитектуру модели, так и веса, мы можем легко перестроить и перезагрузить параметры нейросети всего в одной строке:"
   ]
  },
  {
   "cell_type": "code",
   "execution_count": 16,
   "id": "491fc588",
   "metadata": {},
   "outputs": [],
   "source": [
    "iris_model_new = tf.keras.models.load_model('iris-classifier.h5')"
   ]
  },
  {
   "cell_type": "markdown",
   "id": "3d11faf0",
   "metadata": {},
   "source": [
    "Проверить архитектуру модели можно, вызвав iris_model_new.summary().\n",
    "Загруженную модель можно оценить на тестовом наборе данных, чтобы убедиться, что результаты такие же, как и раньше."
   ]
  },
  {
   "cell_type": "code",
   "execution_count": 17,
   "id": "b1fbf170",
   "metadata": {},
   "outputs": [
    {
     "name": "stdout",
     "output_type": "stream",
     "text": [
      "Test loss: 0.1479\tTest Acc.: 0.9600\n"
     ]
    }
   ],
   "source": [
    "results = iris_model_new.evaluate(ds_test.batch(33), verbose=0)\n",
    "print('Test loss: {:.4f}\tTest Acc.: {:.4f}'.format(*results))"
   ]
  },
  {
   "cell_type": "markdown",
   "id": "55b27e0f",
   "metadata": {},
   "source": [
    "Таким образом, мы прошли базовый цикл создания, обучения и тестирования нейросети при помощи библиотеки TensorFlow, а также сохранения и считывания модели."
   ]
  }
 ],
 "metadata": {
  "kernelspec": {
   "display_name": "Python 3 (ipykernel)",
   "language": "python",
   "name": "python3"
  },
  "language_info": {
   "codemirror_mode": {
    "name": "ipython",
    "version": 3
   },
   "file_extension": ".py",
   "mimetype": "text/x-python",
   "name": "python",
   "nbconvert_exporter": "python",
   "pygments_lexer": "ipython3",
   "version": "3.10.9"
  }
 },
 "nbformat": 4,
 "nbformat_minor": 5
}
