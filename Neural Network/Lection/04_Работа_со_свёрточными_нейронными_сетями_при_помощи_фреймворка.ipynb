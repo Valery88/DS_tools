{
 "cells": [
  {
   "cell_type": "markdown",
   "id": "40355676",
   "metadata": {},
   "source": [
    "# Распознавание рукописных цифр (датасет MNIST)\n",
    "Сначала посмотрим, как ведет себя при распознавании рукописных букв нейросеть с обычными полносвязными слоями Dense"
   ]
  },
  {
   "cell_type": "code",
   "execution_count": 2,
   "id": "24684541",
   "metadata": {},
   "outputs": [
    {
     "name": "stdout",
     "output_type": "stream",
     "text": [
      "Downloading data from https://storage.googleapis.com/tensorflow/tf-keras-datasets/mnist.npz\n",
      "11490434/11490434 [==============================] - 1s 0us/step\n",
      "Model: \"model\"\n",
      "_________________________________________________________________\n",
      " Layer (type)                Output Shape              Param #   \n",
      "=================================================================\n",
      " input_1 (InputLayer)        [(None, 784)]             0         \n",
      "                                                                 \n",
      " dense (Dense)               (None, 512)               401920    \n",
      "                                                                 \n",
      " dense_1 (Dense)             (None, 512)               262656    \n",
      "                                                                 \n",
      " dense_2 (Dense)             (None, 10)                5130      \n",
      "                                                                 \n",
      "=================================================================\n",
      "Total params: 669,706\n",
      "Trainable params: 669,706\n",
      "Non-trainable params: 0\n",
      "_________________________________________________________________\n",
      "Epoch 1/20\n",
      "422/422 [==============================] - 4s 9ms/step - loss: 0.2315 - accuracy: 0.9310 - val_loss: 0.0908 - val_accuracy: 0.9722\n",
      "Epoch 2/20\n",
      "422/422 [==============================] - 4s 9ms/step - loss: 0.0852 - accuracy: 0.9732 - val_loss: 0.0924 - val_accuracy: 0.9740\n",
      "Epoch 3/20\n",
      "422/422 [==============================] - 4s 9ms/step - loss: 0.0537 - accuracy: 0.9826 - val_loss: 0.0654 - val_accuracy: 0.9802\n",
      "Epoch 4/20\n",
      "422/422 [==============================] - 3s 8ms/step - loss: 0.0384 - accuracy: 0.9875 - val_loss: 0.0658 - val_accuracy: 0.9795\n",
      "Epoch 5/20\n",
      "422/422 [==============================] - 3s 8ms/step - loss: 0.0276 - accuracy: 0.9905 - val_loss: 0.0653 - val_accuracy: 0.9820\n",
      "Epoch 6/20\n",
      "422/422 [==============================] - 3s 8ms/step - loss: 0.0201 - accuracy: 0.9935 - val_loss: 0.0764 - val_accuracy: 0.9800\n",
      "Epoch 7/20\n",
      "422/422 [==============================] - 4s 8ms/step - loss: 0.0179 - accuracy: 0.9939 - val_loss: 0.0926 - val_accuracy: 0.9747\n",
      "Epoch 8/20\n",
      "422/422 [==============================] - 4s 8ms/step - loss: 0.0200 - accuracy: 0.9931 - val_loss: 0.0863 - val_accuracy: 0.9798\n",
      "Epoch 9/20\n",
      "422/422 [==============================] - 4s 8ms/step - loss: 0.0141 - accuracy: 0.9950 - val_loss: 0.1059 - val_accuracy: 0.9762\n",
      "Epoch 10/20\n",
      "422/422 [==============================] - 3s 8ms/step - loss: 0.0146 - accuracy: 0.9950 - val_loss: 0.0838 - val_accuracy: 0.9822\n",
      "Epoch 11/20\n",
      "422/422 [==============================] - 3s 8ms/step - loss: 0.0106 - accuracy: 0.9961 - val_loss: 0.0858 - val_accuracy: 0.9823\n",
      "Epoch 12/20\n",
      "422/422 [==============================] - 3s 8ms/step - loss: 0.0098 - accuracy: 0.9967 - val_loss: 0.0968 - val_accuracy: 0.9802\n",
      "Epoch 13/20\n",
      "422/422 [==============================] - 4s 9ms/step - loss: 0.0116 - accuracy: 0.9961 - val_loss: 0.1257 - val_accuracy: 0.9748\n",
      "Epoch 14/20\n",
      "422/422 [==============================] - 3s 8ms/step - loss: 0.0096 - accuracy: 0.9967 - val_loss: 0.1125 - val_accuracy: 0.9795\n",
      "Epoch 15/20\n",
      "422/422 [==============================] - 4s 8ms/step - loss: 0.0099 - accuracy: 0.9967 - val_loss: 0.0932 - val_accuracy: 0.9837\n",
      "Epoch 16/20\n",
      "422/422 [==============================] - 3s 8ms/step - loss: 0.0111 - accuracy: 0.9963 - val_loss: 0.1283 - val_accuracy: 0.9783\n",
      "Epoch 17/20\n",
      "422/422 [==============================] - 4s 9ms/step - loss: 0.0092 - accuracy: 0.9971 - val_loss: 0.0949 - val_accuracy: 0.9847\n",
      "Epoch 18/20\n",
      "422/422 [==============================] - 4s 9ms/step - loss: 0.0084 - accuracy: 0.9972 - val_loss: 0.1150 - val_accuracy: 0.9813\n",
      "Epoch 19/20\n",
      "422/422 [==============================] - 4s 8ms/step - loss: 0.0079 - accuracy: 0.9977 - val_loss: 0.0998 - val_accuracy: 0.9848\n",
      "Epoch 20/20\n",
      "422/422 [==============================] - 4s 9ms/step - loss: 0.0025 - accuracy: 0.9992 - val_loss: 0.0993 - val_accuracy: 0.9857\n",
      "313/313 [==============================] - 1s 2ms/step - loss: 0.1010 - accuracy: 0.9813\n",
      "1/1 [==============================] - 0s 103ms/step\n",
      "[[3.3360119e-24 4.9461519e-15 9.3691672e-20 5.1120003e-17 4.8320586e-28\n",
      "  1.4686165e-27 6.6403844e-29 1.0000000e+00 2.1478998e-18 3.0372307e-16]]\n",
      "1/1 [==============================] - 0s 19ms/step\n",
      "[[3.6154059e-11 2.4448260e-12 2.8029237e-14 4.1805663e-11 3.2770463e-16\n",
      "  3.3994684e-12 1.6513738e-12 8.6709662e-16 1.0000000e+00 3.5287003e-14]]\n",
      "1/1 [==============================] - 0s 20ms/step\n",
      "[[2.7538271e-25 3.1575151e-20 1.6680142e-17 2.9030131e-13 5.0060411e-11\n",
      "  8.5122965e-19 1.0483896e-25 2.0822926e-14 5.6028748e-19 1.0000000e+00]]\n",
      "1/1 [==============================] - 0s 20ms/step\n",
      "[[1.0000000e+00 7.1064250e-21 9.4750355e-16 3.7201498e-20 1.4573478e-21\n",
      "  2.1560514e-18 1.7683406e-15 2.1274076e-18 4.3651159e-14 1.7751390e-16]]\n",
      "1/1 [==============================] - 0s 26ms/step\n",
      "[[3.2371895e-15 1.0000000e+00 1.7666283e-11 1.2201153e-20 2.0856662e-15\n",
      "  4.5945277e-19 8.1745059e-16 4.8152861e-13 2.9994039e-11 9.8457757e-19]]\n",
      "1/1 [==============================] - 0s 22ms/step\n",
      "[[4.0008594e-22 1.9600028e-17 1.0000000e+00 2.7488781e-14 1.7660437e-28\n",
      "  1.0159311e-20 2.1816116e-22 8.1451968e-13 8.9265692e-14 9.5745886e-24]]\n",
      "1/1 [==============================] - 0s 23ms/step\n",
      "[[1.3913206e-23 1.9478300e-18 7.4779092e-19 1.0000000e+00 1.3158388e-24\n",
      "  3.6329257e-09 2.7002073e-29 4.5880452e-20 7.2367597e-19 1.4531430e-13]]\n",
      "1/1 [==============================] - 0s 21ms/step\n",
      "[[4.6710592e-22 5.2652246e-14 5.2375562e-19 9.9719477e-19 1.0000000e+00\n",
      "  7.4230563e-19 4.3870899e-19 2.1294579e-14 7.4233051e-13 4.3441813e-12]]\n",
      "1/1 [==============================] - 0s 20ms/step\n",
      "[[3.5771809e-21 3.2806528e-21 8.3848003e-27 1.5856533e-19 5.6175175e-25\n",
      "  1.0000000e+00 1.2762018e-16 3.6858611e-23 9.5725552e-14 3.3677876e-23]]\n",
      "1/1 [==============================] - 0s 28ms/step\n",
      "[[3.3017520e-13 1.0313945e-20 6.4848613e-19 2.2325946e-17 1.5414366e-18\n",
      "  2.3053354e-11 1.0000000e+00 2.3420561e-21 4.3591898e-15 2.9007768e-17]]\n"
     ]
    },
    {
     "data": {
      "image/png": "[encoded data removed]",
      "text/plain": [
       "<Figure size 640x480 with 10 Axes>"
      ]
     },
     "metadata": {},
     "output_type": "display_data"
    }
   ],
   "source": [
    "from keras.datasets import mnist # процедуры для извлечения набора данных MNIST\n",
    "from keras.models import Model # basic class for specifying and training a neural network\n",
    "from keras.layers import Input, Dense # базовый класс для задания и обучения нейронной сети\n",
    "from keras.utils import np_utils # утилиты для предобработки (бинаризации) изображений\n",
    "import matplotlib.pyplot as plt# библиотеки вывода изображений\n",
    "\n",
    "batch_size = 128 # на каждой итерации обучения мы обрабатываем 128 примеров обучающей выборки\n",
    "num_epochs = 20 # мы делаем 20 проходов обучения по обучающей выборке\n",
    "hidden_size = 512 # каждый скрытый слой содержит 512 нейронов\n",
    "\n",
    "num_train = 60000 # в базе MNIST 60000 обучающих примеров\n",
    "num_test = 10000 # в базе MNIST 60000 тестовых примеров\n",
    "\n",
    "height, width, depth = 28, 28, 1 # картинки MNIST имеют размер 28x28 в оттенках серого\n",
    "num_classes = 10 # сеть будет различать 10 классров - по одному на цифру\n",
    "\n",
    "(X_train, y_train), (X_test, y_test) = mnist.load_data() # загружаем данные MNIST\n",
    "\n",
    "X_train = X_train.reshape(num_train, height * width) # преобразуем данные в одномерные\n",
    "X_test = X_test.reshape(num_test, height * width) # преобразуем данные в одномерные\n",
    "X_train = X_train.astype('float32') \n",
    "X_test = X_test.astype('float32')\n",
    "X_train /= 255 # Нормализуем данные на интервал [0, 1]\n",
    "X_test /= 255 # Нормализуем данные на интервал [0, 1]\n",
    "\n",
    "Y_train = np_utils.to_categorical(y_train, num_classes) # Преобразование в матрицу классов\n",
    "Y_test = np_utils.to_categorical(y_test, num_classes) # Преобразование в матрицу классов\n",
    "\n",
    "inp = Input(shape=(height * width,)) # На входе одномерный вектор из 784 элементов (28*28)\n",
    "hidden_1 = Dense(hidden_size, activation='relu')(inp) # Первый скрытый слой сети - полносвязный с функцией активации ReLU\n",
    "hidden_2 = Dense(hidden_size, activation='relu')(hidden_1) # Второй скрытый слой сети - полносвязный с функцией активации ReLU\n",
    "out = Dense(num_classes, activation='softmax')(hidden_2) # Выходной слой сети - полносвязный с функцией активации softmax\n",
    "\n",
    "model = Model(inputs=inp, outputs=out) # Чтобы определить модель ИНС достаточно определить параметры входного и выходного слоев\n",
    "model.summary() # Выводим структуру сети\n",
    "\n",
    "model.compile(loss='categorical_crossentropy', # используем кроссэнтропийную функцию ошибки\n",
    "              optimizer='adam', # используем алгоритм оптимизации Adam\n",
    "              metrics=['accuracy']) # accuracy - функция оценки точности модели (не используется для обучения), соответствует числу корректно определенных классов\n",
    "\n",
    "model.fit(X_train, Y_train, # Обучаем модель на обучающей выборке...\n",
    "          batch_size=batch_size, epochs=num_epochs,\n",
    "          verbose=1, validation_split=0.1) # ...сохраняем 10% выборки для валидации в процессе обучения\n",
    "model.evaluate(X_test, Y_test, verbose=1) # Оцениваем обученную модель по тестовой выборке\n",
    "\n",
    "#Выведем ответ сети по 10 последним тестовым примерам и сравним с изображениями\n",
    "f, mytest = plt.subplots(10,1)\n",
    "for i in range(num_test-10, num_test):\n",
    "    mytest[i-(num_test-10)].imshow((X_test[i].reshape(28,28)))\n",
    "    print(model.predict(X_test[i].reshape(1,784)))"
   ]
  },
  {
   "cell_type": "markdown",
   "id": "2e4ee8fb",
   "metadata": {},
   "source": [
    "# Создадим простейшую сверточную сеть\n",
    "Посмотрим, как справится сеть из двух сверточных слоев с одним выходным полносвязным."
   ]
  },
  {
   "cell_type": "code",
   "execution_count": 3,
   "id": "97d6a361",
   "metadata": {},
   "outputs": [
    {
     "name": "stdout",
     "output_type": "stream",
     "text": [
      "(28, 28)\n",
      "[0. 0. 0. 0. 0. 1. 0. 0. 0. 0.]\n",
      "Model: \"sequential\"\n",
      "_________________________________________________________________\n",
      " Layer (type)                Output Shape              Param #   \n",
      "=================================================================\n",
      " conv2d (Conv2D)             (None, 26, 26, 64)        640       \n",
      "                                                                 \n",
      " conv2d_1 (Conv2D)           (None, 24, 24, 32)        18464     \n",
      "                                                                 \n",
      " flatten (Flatten)           (None, 18432)             0         \n",
      "                                                                 \n",
      " dense_3 (Dense)             (None, 10)                184330    \n",
      "                                                                 \n",
      "=================================================================\n",
      "Total params: 203,434\n",
      "Trainable params: 203,434\n",
      "Non-trainable params: 0\n",
      "_________________________________________________________________\n",
      "Epoch 1/50\n",
      "1875/1875 [==============================] - 94s 50ms/step - loss: 0.2686 - accuracy: 0.9478 - val_loss: 0.1079 - val_accuracy: 0.9680\n",
      "Epoch 2/50\n",
      "1875/1875 [==============================] - 88s 47ms/step - loss: 0.0743 - accuracy: 0.9772 - val_loss: 0.0756 - val_accuracy: 0.9762\n",
      "Epoch 3/50\n",
      "1875/1875 [==============================] - 88s 47ms/step - loss: 0.0512 - accuracy: 0.9837 - val_loss: 0.0989 - val_accuracy: 0.9722\n",
      "Epoch 4/50\n",
      "1875/1875 [==============================] - 89s 47ms/step - loss: 0.0360 - accuracy: 0.9889 - val_loss: 0.1185 - val_accuracy: 0.9723\n",
      "Epoch 5/50\n",
      "1875/1875 [==============================] - 83s 44ms/step - loss: 0.0316 - accuracy: 0.9900 - val_loss: 0.0994 - val_accuracy: 0.9799\n",
      "Epoch 6/50\n",
      "1875/1875 [==============================] - 87s 46ms/step - loss: 0.0250 - accuracy: 0.9923 - val_loss: 0.1032 - val_accuracy: 0.9768\n",
      "Epoch 7/50\n",
      "1875/1875 [==============================] - 93s 50ms/step - loss: 0.0201 - accuracy: 0.9940 - val_loss: 0.1307 - val_accuracy: 0.9759\n",
      "Epoch 8/50\n",
      "1875/1875 [==============================] - 99s 53ms/step - loss: 0.0185 - accuracy: 0.9946 - val_loss: 0.1297 - val_accuracy: 0.9784\n",
      "Epoch 9/50\n",
      "1875/1875 [==============================] - 97s 52ms/step - loss: 0.0151 - accuracy: 0.9954 - val_loss: 0.1537 - val_accuracy: 0.9741\n",
      "Epoch 10/50\n",
      "1875/1875 [==============================] - 101s 54ms/step - loss: 0.0176 - accuracy: 0.9952 - val_loss: 0.1919 - val_accuracy: 0.9743\n",
      "Epoch 11/50\n",
      "1875/1875 [==============================] - 106s 56ms/step - loss: 0.0124 - accuracy: 0.9969 - val_loss: 0.2058 - val_accuracy: 0.9766\n",
      "Epoch 12/50\n",
      "1875/1875 [==============================] - 105s 56ms/step - loss: 0.0184 - accuracy: 0.9956 - val_loss: 0.2250 - val_accuracy: 0.9768\n",
      "Epoch 13/50\n",
      "1875/1875 [==============================] - 103s 55ms/step - loss: 0.0163 - accuracy: 0.9961 - val_loss: 0.2572 - val_accuracy: 0.9767\n",
      "Epoch 14/50\n",
      "1875/1875 [==============================] - 102s 55ms/step - loss: 0.0113 - accuracy: 0.9972 - val_loss: 0.2789 - val_accuracy: 0.9764\n",
      "Epoch 15/50\n",
      "1875/1875 [==============================] - 104s 56ms/step - loss: 0.0179 - accuracy: 0.9963 - val_loss: 0.2665 - val_accuracy: 0.9785\n",
      "Epoch 16/50\n",
      "1875/1875 [==============================] - 107s 57ms/step - loss: 0.0128 - accuracy: 0.9971 - val_loss: 0.3171 - val_accuracy: 0.9783\n",
      "Epoch 17/50\n",
      "1875/1875 [==============================] - 105s 56ms/step - loss: 0.0126 - accuracy: 0.9972 - val_loss: 0.2503 - val_accuracy: 0.9799\n",
      "Epoch 18/50\n",
      "1875/1875 [==============================] - 103s 55ms/step - loss: 0.0108 - accuracy: 0.9977 - val_loss: 0.3447 - val_accuracy: 0.9755\n",
      "Epoch 19/50\n",
      "1875/1875 [==============================] - 106s 57ms/step - loss: 0.0146 - accuracy: 0.9975 - val_loss: 0.3763 - val_accuracy: 0.9791\n",
      "Epoch 20/50\n",
      "1875/1875 [==============================] - 106s 57ms/step - loss: 0.0125 - accuracy: 0.9978 - val_loss: 0.4389 - val_accuracy: 0.9759\n",
      "Epoch 21/50\n",
      "1875/1875 [==============================] - 110s 59ms/step - loss: 0.0146 - accuracy: 0.9977 - val_loss: 0.4229 - val_accuracy: 0.9793\n",
      "Epoch 22/50\n",
      "1875/1875 [==============================] - 104s 55ms/step - loss: 0.0110 - accuracy: 0.9981 - val_loss: 0.4478 - val_accuracy: 0.9779\n",
      "Epoch 23/50\n",
      "1875/1875 [==============================] - 93s 50ms/step - loss: 0.0180 - accuracy: 0.9974 - val_loss: 0.4141 - val_accuracy: 0.9797\n",
      "Epoch 24/50\n",
      "1875/1875 [==============================] - 89s 47ms/step - loss: 0.0153 - accuracy: 0.9980 - val_loss: 0.5304 - val_accuracy: 0.9787\n",
      "Epoch 25/50\n",
      "1875/1875 [==============================] - 77s 41ms/step - loss: 0.0147 - accuracy: 0.9981 - val_loss: 0.4878 - val_accuracy: 0.9797\n",
      "Epoch 26/50\n",
      "1875/1875 [==============================] - 76s 40ms/step - loss: 0.0142 - accuracy: 0.9981 - val_loss: 0.5331 - val_accuracy: 0.9788\n",
      "Epoch 27/50\n",
      "1875/1875 [==============================] - 75s 40ms/step - loss: 0.0124 - accuracy: 0.9982 - val_loss: 0.5641 - val_accuracy: 0.9773\n",
      "Epoch 28/50\n",
      "1875/1875 [==============================] - 73s 39ms/step - loss: 0.0148 - accuracy: 0.9983 - val_loss: 0.5790 - val_accuracy: 0.9783\n",
      "Epoch 29/50\n",
      "1875/1875 [==============================] - 73s 39ms/step - loss: 0.0105 - accuracy: 0.9987 - val_loss: 0.5436 - val_accuracy: 0.9807\n",
      "Epoch 30/50\n",
      "1875/1875 [==============================] - 72s 39ms/step - loss: 0.0141 - accuracy: 0.9985 - val_loss: 0.6160 - val_accuracy: 0.9796\n",
      "Epoch 31/50\n",
      "1875/1875 [==============================] - 71s 38ms/step - loss: 0.0138 - accuracy: 0.9985 - val_loss: 0.7062 - val_accuracy: 0.9786\n",
      "Epoch 32/50\n",
      "1875/1875 [==============================] - 69s 37ms/step - loss: 0.0186 - accuracy: 0.9983 - val_loss: 0.8004 - val_accuracy: 0.9763\n",
      "Epoch 33/50\n",
      "1875/1875 [==============================] - 69s 37ms/step - loss: 0.0220 - accuracy: 0.9982 - val_loss: 0.7791 - val_accuracy: 0.9781\n",
      "Epoch 34/50\n",
      "1875/1875 [==============================] - 70s 37ms/step - loss: 0.0110 - accuracy: 0.9990 - val_loss: 0.7351 - val_accuracy: 0.9796\n",
      "Epoch 35/50\n",
      "1875/1875 [==============================] - 69s 37ms/step - loss: 0.0160 - accuracy: 0.9985 - val_loss: 0.7913 - val_accuracy: 0.9769\n",
      "Epoch 36/50\n",
      "1875/1875 [==============================] - 67s 36ms/step - loss: 0.0213 - accuracy: 0.9983 - val_loss: 0.9703 - val_accuracy: 0.9779\n",
      "Epoch 37/50\n",
      "1875/1875 [==============================] - 67s 35ms/step - loss: 0.0170 - accuracy: 0.9985 - val_loss: 0.8940 - val_accuracy: 0.9764\n",
      "Epoch 38/50\n",
      "1875/1875 [==============================] - 66s 35ms/step - loss: 0.0139 - accuracy: 0.9989 - val_loss: 0.9466 - val_accuracy: 0.9785\n",
      "Epoch 39/50\n",
      "1875/1875 [==============================] - 66s 35ms/step - loss: 0.0140 - accuracy: 0.9988 - val_loss: 0.9321 - val_accuracy: 0.9793\n",
      "Epoch 40/50\n",
      "1875/1875 [==============================] - 75s 40ms/step - loss: 0.0197 - accuracy: 0.9987 - val_loss: 1.1003 - val_accuracy: 0.9764\n",
      "Epoch 41/50\n",
      "1875/1875 [==============================] - 88s 47ms/step - loss: 0.0183 - accuracy: 0.9983 - val_loss: 0.9817 - val_accuracy: 0.9812\n",
      "Epoch 42/50\n",
      "1875/1875 [==============================] - 91s 48ms/step - loss: 0.0146 - accuracy: 0.9991 - val_loss: 1.1919 - val_accuracy: 0.9779\n",
      "Epoch 43/50\n",
      "1875/1875 [==============================] - 79s 42ms/step - loss: 0.0210 - accuracy: 0.9987 - val_loss: 0.9851 - val_accuracy: 0.9762\n",
      "Epoch 44/50\n",
      "1875/1875 [==============================] - 76s 41ms/step - loss: 0.0191 - accuracy: 0.9988 - val_loss: 1.0506 - val_accuracy: 0.9784\n",
      "Epoch 45/50\n",
      "1875/1875 [==============================] - 80s 43ms/step - loss: 0.0127 - accuracy: 0.9990 - val_loss: 1.1115 - val_accuracy: 0.9798\n",
      "Epoch 46/50\n",
      "1875/1875 [==============================] - 75s 40ms/step - loss: 0.0175 - accuracy: 0.9988 - val_loss: 1.0608 - val_accuracy: 0.9801\n",
      "Epoch 47/50\n",
      "1875/1875 [==============================] - 80s 43ms/step - loss: 0.0153 - accuracy: 0.9988 - val_loss: 1.1114 - val_accuracy: 0.9797\n",
      "Epoch 48/50\n",
      "1875/1875 [==============================] - 91s 48ms/step - loss: 0.0243 - accuracy: 0.9985 - val_loss: 1.3094 - val_accuracy: 0.9796\n",
      "Epoch 49/50\n",
      "1875/1875 [==============================] - 86s 46ms/step - loss: 0.0155 - accuracy: 0.9991 - val_loss: 1.4540 - val_accuracy: 0.9782\n"
     ]
    },
    {
     "name": "stdout",
     "output_type": "stream",
     "text": [
      "Epoch 50/50\n",
      "1875/1875 [==============================] - 85s 45ms/step - loss: 0.0156 - accuracy: 0.9991 - val_loss: 1.3156 - val_accuracy: 0.9800\n",
      "1/1 [==============================] - 0s 72ms/step\n",
      "[[0. 0. 0. 0. 0. 0. 0. 1. 0. 0.]\n",
      " [0. 0. 1. 0. 0. 0. 0. 0. 0. 0.]\n",
      " [0. 1. 0. 0. 0. 0. 0. 0. 0. 0.]\n",
      " [1. 0. 0. 0. 0. 0. 0. 0. 0. 0.]\n",
      " [0. 0. 0. 0. 1. 0. 0. 0. 0. 0.]\n",
      " [0. 1. 0. 0. 0. 0. 0. 0. 0. 0.]\n",
      " [0. 0. 0. 0. 1. 0. 0. 0. 0. 0.]\n",
      " [0. 0. 0. 0. 0. 0. 0. 0. 0. 1.]\n",
      " [0. 0. 0. 0. 0. 1. 0. 0. 0. 0.]\n",
      " [0. 0. 0. 0. 0. 0. 0. 0. 0. 1.]]\n",
      "313/313 [==============================] - 2s 7ms/step - loss: 1.3156 - accuracy: 0.9800\n",
      "1/1 [==============================] - 0s 22ms/step\n",
      "[[0. 0. 0. 0. 0. 0. 0. 1. 0. 0.]]\n",
      "1/1 [==============================] - 0s 18ms/step\n",
      "[[0. 0. 0. 0. 0. 0. 0. 0. 1. 0.]]\n",
      "1/1 [==============================] - 0s 19ms/step\n",
      "[[0. 0. 0. 0. 0. 0. 0. 0. 0. 1.]]\n",
      "1/1 [==============================] - 0s 17ms/step\n",
      "[[1. 0. 0. 0. 0. 0. 0. 0. 0. 0.]]\n",
      "1/1 [==============================] - 0s 18ms/step\n",
      "[[0. 1. 0. 0. 0. 0. 0. 0. 0. 0.]]\n",
      "1/1 [==============================] - 0s 21ms/step\n",
      "[[0. 0. 1. 0. 0. 0. 0. 0. 0. 0.]]\n",
      "1/1 [==============================] - 0s 18ms/step\n",
      "[[0. 0. 0. 1. 0. 0. 0. 0. 0. 0.]]\n",
      "1/1 [==============================] - 0s 18ms/step\n",
      "[[0. 0. 0. 0. 1. 0. 0. 0. 0. 0.]]\n",
      "1/1 [==============================] - 0s 18ms/step\n",
      "[[0. 0. 0. 0. 0. 1. 0. 0. 0. 0.]]\n",
      "1/1 [==============================] - 0s 19ms/step\n",
      "[[0. 0. 0. 0. 0. 0. 1. 0. 0. 0.]]\n"
     ]
    },
    {
     "data": {
      "image/png": "[encoded data removed]",
      "text/plain": [
       "<Figure size 640x480 with 10 Axes>"
      ]
     },
     "metadata": {},
     "output_type": "display_data"
    }
   ],
   "source": [
    "from keras.datasets import mnist # процедуры для извлечения набора данных MNIST\n",
    "import matplotlib.pyplot as plt# библиотеки вывода изображений\n",
    "# from keras.utils import to_categorical#для преобразования ответов в классы\n",
    "from keras.models import Sequential # импорт последовательной модели ИНС\n",
    "from keras.layers import Input, Dense, Conv2D, Flatten # слои - входной, полносвязный, сверточный, преобразующий 2D-данные в 1D-данные;\n",
    "from keras.utils import np_utils # утилиты для предобработки (бинаризации) изображений\n",
    "\n",
    "(X_train, y_train), (X_test, y_test) = mnist.load_data() # Загрузка данных из базы\n",
    "\n",
    "print(X_train[0].shape) # проверка размера изображения\n",
    "\n",
    "#приведение размеров обучающего и датасетов к стандарту 28*28\n",
    "X_train = X_train.reshape(60000,28,28,1)\n",
    "X_test = X_test.reshape(10000,28,28,1)\n",
    "\n",
    "y_train = np_utils.to_categorical(y_train) # Преобразование в матрицу классов\n",
    "y_test = np_utils.to_categorical(y_test) # Преобразование в матрицу классов \n",
    "print(y_train[0])\n",
    "\n",
    "model = Sequential()#создаем последовательную ИНС и добавляем 2 сверточных слоя, слой понижения размерности и полносвязный слой\n",
    "model.add(Conv2D(64, kernel_size=3, activation='relu', input_shape=(28,28,1)))\n",
    "model.add(Conv2D(32, kernel_size=3, activation='relu'))\n",
    "model.add(Flatten())\n",
    "model.add(Dense(10, activation='softmax'))\n",
    "model.summary()\n",
    "\n",
    "#компилируем модель с оптимизатором Adam, функцией ошибки категориальной кроссэнтропии и метрикоц точности - доля верных ответов\n",
    "model.compile(optimizer='adam', loss='categorical_crossentropy', metrics=['accuracy'])\n",
    "\n",
    "#обучаем модель\n",
    "model.fit(X_train, y_train, validation_data=(X_test, y_test), epochs=50)\n",
    "\n",
    "#предскажем первые 10 примеров из тестового датасета\n",
    "print(model.predict(X_test[:10]))\n",
    "\n",
    "model.evaluate(X_test, y_test, verbose=1) # Оцениваем обученную модель по тестовой выборке\n",
    "\n",
    "#Выведем ответ сети по 10 последним тестовым примерам и сравним с изображениями\n",
    "f, mytest = plt.subplots(10,1)\n",
    "for i in range(num_test-10, num_test):\n",
    "    mytest[i-(num_test-10)].imshow((X_test[i].reshape(28,28)))\n",
    "    print(model.predict(X_test[i].reshape(1,28,28,1)))"
   ]
  },
  {
   "cell_type": "markdown",
   "id": "be487fed",
   "metadata": {},
   "source": [
    "# Классическая архитектура Яна Лекуна LaNet5\n",
    "![Архитектура сети LaNet5](./LaNet5.png)"
   ]
  },
  {
   "cell_type": "code",
   "execution_count": 1,
   "id": "7ddf894c",
   "metadata": {},
   "outputs": [
    {
     "name": "stdout",
     "output_type": "stream",
     "text": [
      "(28, 28)\n",
      "[0. 0. 0. 0. 0. 1. 0. 0. 0. 0.]\n",
      "Model: \"model\"\n",
      "_________________________________________________________________\n",
      "Layer (type)                 Output Shape              Param #   \n",
      "=================================================================\n",
      "input_1 (InputLayer)         [(None, 28, 28, 1)]       0         \n",
      "_________________________________________________________________\n",
      "conv2d (Conv2D)              (None, 26, 26, 6)         60        \n",
      "_________________________________________________________________\n",
      "average_pooling2d (AveragePo (None, 13, 13, 6)         0         \n",
      "_________________________________________________________________\n",
      "conv2d_1 (Conv2D)            (None, 11, 11, 16)        880       \n",
      "_________________________________________________________________\n",
      "average_pooling2d_1 (Average (None, 5, 5, 16)          0         \n",
      "_________________________________________________________________\n",
      "flatten (Flatten)            (None, 400)               0         \n",
      "_________________________________________________________________\n",
      "dense (Dense)                (None, 120)               48120     \n",
      "_________________________________________________________________\n",
      "dense_1 (Dense)              (None, 84)                10164     \n",
      "_________________________________________________________________\n",
      "dense_2 (Dense)              (None, 10)                850       \n",
      "=================================================================\n",
      "Total params: 60,074\n",
      "Trainable params: 60,074\n",
      "Non-trainable params: 0\n",
      "_________________________________________________________________\n",
      "Epoch 1/10\n",
      "1875/1875 [==============================] - 32s 4ms/step - loss: 0.1678 - accuracy: 0.9514 - val_loss: 0.0683 - val_accuracy: 0.9776\n",
      "Epoch 2/10\n",
      "1875/1875 [==============================] - 6s 3ms/step - loss: 0.0537 - accuracy: 0.9835 - val_loss: 0.0486 - val_accuracy: 0.9845\n",
      "Epoch 3/10\n",
      "1875/1875 [==============================] - 6s 3ms/step - loss: 0.0417 - accuracy: 0.9871 - val_loss: 0.0572 - val_accuracy: 0.9828\n",
      "Epoch 4/10\n",
      "1875/1875 [==============================] - 6s 3ms/step - loss: 0.0311 - accuracy: 0.9905 - val_loss: 0.0487 - val_accuracy: 0.9854\n",
      "Epoch 5/10\n",
      "1875/1875 [==============================] - 6s 3ms/step - loss: 0.0284 - accuracy: 0.9910 - val_loss: 0.0464 - val_accuracy: 0.9865\n",
      "Epoch 6/10\n",
      "1875/1875 [==============================] - 6s 3ms/step - loss: 0.0231 - accuracy: 0.9930 - val_loss: 0.0385 - val_accuracy: 0.9881\n",
      "Epoch 7/10\n",
      "1875/1875 [==============================] - 6s 3ms/step - loss: 0.0206 - accuracy: 0.9932 - val_loss: 0.0406 - val_accuracy: 0.9891\n",
      "Epoch 8/10\n",
      "1875/1875 [==============================] - 6s 3ms/step - loss: 0.0182 - accuracy: 0.9942 - val_loss: 0.0638 - val_accuracy: 0.9845\n",
      "Epoch 9/10\n",
      "1875/1875 [==============================] - 6s 3ms/step - loss: 0.0152 - accuracy: 0.9951 - val_loss: 0.0516 - val_accuracy: 0.9875\n",
      "Epoch 10/10\n",
      "1875/1875 [==============================] - 6s 3ms/step - loss: 0.0167 - accuracy: 0.9948 - val_loss: 0.0423 - val_accuracy: 0.9889\n",
      "[[3.6703592e-12 2.6569287e-09 1.7055599e-07 2.2377608e-06 3.7729635e-07\n",
      "  1.7290951e-08 2.2036342e-12 9.9999487e-01 5.3478302e-09 2.3930040e-06]\n",
      " [3.3100330e-12 4.9734995e-12 1.0000000e+00 3.8871586e-13 2.5546931e-13\n",
      "  2.7822544e-16 1.2452723e-12 3.1857774e-09 1.6689268e-14 5.9881529e-16]\n",
      " [4.8158726e-09 9.9996138e-01 4.0657844e-07 9.7775420e-11 8.8289835e-06\n",
      "  2.4742351e-07 2.0329184e-05 7.4882309e-06 1.3100404e-06 8.2754227e-08]\n",
      " [9.9999928e-01 2.9337879e-09 1.7129645e-09 1.5343660e-11 7.0411103e-12\n",
      "  1.7369963e-08 6.4685162e-07 2.3349844e-10 1.6758335e-08 2.0551969e-09]\n",
      " [7.3296984e-13 2.5427773e-09 3.4334924e-10 2.1208672e-11 9.9999762e-01\n",
      "  4.3847156e-10 1.0046002e-09 1.8340699e-09 2.4885149e-10 2.3508492e-06]\n",
      " [3.5729475e-09 9.9998462e-01 6.4652475e-08 7.5902833e-11 3.1757759e-07\n",
      "  7.5146097e-08 2.6255907e-06 1.1639833e-05 4.1736152e-07 2.1843096e-07]\n",
      " [2.5944396e-09 4.5097014e-03 3.8993551e-08 1.1273844e-07 9.8043215e-01\n",
      "  3.6280887e-04 9.3334260e-05 2.0100549e-08 1.1846429e-02 2.7554636e-03]\n",
      " [7.1274535e-08 9.4804511e-09 3.0008032e-08 1.9401813e-07 3.9072102e-06\n",
      "  5.8769041e-07 4.7025162e-10 6.9538624e-09 1.8687515e-05 9.9997652e-01]\n",
      " [2.1373372e-12 2.7646913e-12 4.4929494e-12 1.2531001e-10 4.7967758e-10\n",
      "  9.9887496e-01 2.6522088e-04 1.1883303e-09 8.3584298e-04 2.3990287e-05]\n",
      " [7.7616386e-11 3.7749098e-10 5.0294297e-10 2.1967762e-06 7.8645235e-07\n",
      "  1.8338524e-07 3.3741140e-10 3.4016161e-06 7.7646355e-06 9.9998569e-01]]\n",
      "313/313 [==============================] - 1s 2ms/step - loss: 0.0423 - accuracy: 0.9889\n",
      "[[6.0105039e-11 2.6132616e-07 3.4973559e-06 8.2251027e-08 2.1557376e-08\n",
      "  6.2663186e-09 1.3761541e-10 9.9999619e-01 7.9031084e-09 2.4496012e-08]]\n",
      "[[4.4752825e-15 8.2826040e-10 2.5698348e-12 2.3758395e-11 3.0585775e-16\n",
      "  5.6001257e-09 2.2597699e-09 3.2039486e-13 1.0000000e+00 5.3782066e-13]]\n",
      "[[2.1429371e-13 5.5672013e-14 1.3764024e-11 1.8095110e-07 4.6305590e-09\n",
      "  1.1431418e-09 1.5161553e-11 3.9431849e-10 4.3808650e-09 9.9999976e-01]]\n",
      "[[9.9896204e-01 1.5015235e-07 3.9497913e-06 9.0295259e-07 4.2884210e-07\n",
      "  5.4762774e-07 1.9189098e-04 1.2024439e-07 8.2628819e-04 1.3563142e-05]]\n",
      "[[1.9539177e-08 9.9999678e-01 2.5269999e-08 6.6394459e-12 7.9886846e-08\n",
      "  1.7175907e-08 2.0740301e-06 3.0044905e-07 7.4494449e-07 2.1070710e-08]]\n",
      "[[1.21511918e-13 1.04202036e-09 9.99999762e-01 7.77417852e-11\n",
      "  1.24589922e-12 1.33994425e-17 2.35103185e-15 2.54294520e-07\n",
      "  7.02969453e-12 8.57691586e-15]]\n",
      "[[9.9917304e-11 7.3822024e-09 1.2837280e-07 9.9999976e-01 5.9130706e-13\n",
      "  6.5672943e-09 1.9308435e-11 1.3533883e-09 6.4287384e-08 2.0453472e-09]]\n",
      "[[1.2173900e-14 8.8710053e-09 5.6573179e-12 2.7851350e-14 1.0000000e+00\n",
      "  1.7168435e-11 1.5233015e-10 7.5443785e-09 2.4052236e-09 1.2362324e-08]]\n",
      "[[1.32007003e-12 6.11786963e-16 3.30416012e-16 5.64865432e-10\n",
      "  3.01455759e-18 1.00000000e+00 2.11399537e-10 6.57889270e-13\n",
      "  1.17688104e-09 1.14479544e-10]]\n",
      "[[4.7206498e-08 8.8855747e-15 9.6030903e-15 4.7590119e-14 3.7185172e-13\n",
      "  2.1341100e-10 1.0000000e+00 5.4125384e-20 1.4459678e-10 1.5081739e-16]]\n"
     ]
    },
    {
     "data": {
      "image/png": "[encoded data removed]",
      "text/plain": [
       "<Figure size 432x288 with 1 Axes>"
      ]
     },
     "metadata": {
      "needs_background": "light"
     },
     "output_type": "display_data"
    },
    {
     "data": {
      "image/png": "[encoded data removed]",
      "text/plain": [
       "<Figure size 432x288 with 10 Axes>"
      ]
     },
     "metadata": {
      "needs_background": "light"
     },
     "output_type": "display_data"
    }
   ],
   "source": [
    "from keras.datasets import mnist # процедуры для извлечения набора данных MNIST\n",
    "import matplotlib.pyplot as plt# библиотеки вывода изображений\n",
    "# from keras.utils import to_categorical#для преобразования ответов в классы\n",
    "from keras.models import Sequential # импорт последовательной модели ИНС\n",
    "from keras.models import Model # basic class for specifying and training a neural network\n",
    "import keras.layers as layers\n",
    "# from keras.layers import Input, Dense, Conv2D, Flatten # слои - входной, полносвязный, сверточный, преобразующий 2D-данные в 1D-данные;\n",
    "from keras.utils import np_utils # утилиты для предобработки (бинаризации) изображений\n",
    "\n",
    "batch_size = 128 # на каждой итерации обучения мы обрабатываем 128 примеров обучающей выборки\n",
    "num_epochs = 10 # мы делаем 20 проходов обучения по обучающей выборке\n",
    "hidden_size = 512 # каждый скрытый слой содержит 512 нейронов\n",
    "\n",
    "num_train = 60000 # в базе MNIST 60000 обучающих примеров\n",
    "num_test = 10000 # в базе MNIST 60000 тестовых примеров\n",
    "\n",
    "height, width, depth = 28, 28, 1 # картинки MNIST имеют размер 28x28 в оттенках серого\n",
    "num_classes = 10 # сеть будет различать 10 классров - по одному на цифру\n",
    "\n",
    "(X_train, y_train), (X_test, y_test) = mnist.load_data() # Загрузка данных из базы\n",
    "\n",
    "plt.imshow(X_train[0])\n",
    "print(X_train[0].shape) # проверка размера изображения\n",
    "\n",
    "#приведение размеров обучающего и датасетов к стандарту 28*28\n",
    "X_train = X_train.reshape(60000,28,28,1)\n",
    "X_test = X_test.reshape(10000,28,28,1)\n",
    "\n",
    "y_train = np_utils.to_categorical(y_train) # Преобразование в матрицу классов\n",
    "y_test = np_utils.to_categorical(y_test) # Преобразование в матрицу классов \n",
    "print(y_train[0])\n",
    "\n",
    "inp = layers.Input(shape=(height, width, 1)) # На входе одномерный вектор из 784 элементов (28*28)\n",
    "hidden_1 = layers.Conv2D(filters=6, kernel_size=(3, 3), activation='relu', input_shape=(28,28,1))(inp)\n",
    "hidden_2 = layers.AveragePooling2D()(hidden_1)\n",
    "hidden_3 = layers.Conv2D(filters=16, kernel_size=(3, 3), activation='relu')(hidden_2)\n",
    "hidden_4 = layers.AveragePooling2D()(hidden_3)\n",
    "hidden_5 = layers.Flatten()(hidden_4)\n",
    "hidden_6 = layers.Dense(units=120, activation='relu')(hidden_5)\n",
    "hidden_7 = layers.Dense(units=84, activation='relu')(hidden_6)\n",
    "out=layers.Dense(num_classes, activation='softmax')(hidden_7) # Выходной слой сети - полносвязный с функцией активации softmax\n",
    "\n",
    "model = Model(inputs=inp, outputs=out) # Чтобы определить модель ИНС достаточно определить параметры входного и выходного слоев\n",
    "model.summary()\n",
    "\n",
    "#компилируем модель с оптимизатором Adam, функцией ошибки категориальной кроссэнтропии и метрикоц точности - доля верных ответов\n",
    "model.compile(optimizer='adam', loss='categorical_crossentropy', metrics=['accuracy'])\n",
    "\n",
    "#обучаем модель\n",
    "model.fit(X_train, y_train, validation_data=(X_test, y_test), epochs=num_epochs)\n",
    "\n",
    "#предскажем первые 10 примеров из тестового датасета\n",
    "print(model.predict(X_test[:10]))\n",
    "\n",
    "model.evaluate(X_test, y_test, verbose=1) # Оцениваем обученную модель по тестовой выборке\n",
    "\n",
    "#Выведем ответ сети по 10 последним тестовым примерам и сравним с изображениями\n",
    "f, mytest = plt.subplots(10,1)\n",
    "for i in range(num_test-10, num_test):\n",
    "    mytest[i-(num_test-10)].imshow((X_test[i].reshape(28,28)))\n",
    "    print(model.predict(X_test[i].reshape(1,28,28,1)))"
   ]
  },
  {
   "cell_type": "markdown",
   "id": "5a049a51",
   "metadata": {},
   "source": [
    "Как выглядят значения сверток первого сверточного слоя:\n"
   ]
  },
  {
   "cell_type": "code",
   "execution_count": 2,
   "id": "4325b933",
   "metadata": {},
   "outputs": [
    {
     "name": "stderr",
     "output_type": "stream",
     "text": [
      "Clipping input data to the valid range for imshow with RGB data ([0..1] for floats or [0..255] for integers).\n",
      "Clipping input data to the valid range for imshow with RGB data ([0..1] for floats or [0..255] for integers).\n",
      "Clipping input data to the valid range for imshow with RGB data ([0..1] for floats or [0..255] for integers).\n",
      "Clipping input data to the valid range for imshow with RGB data ([0..1] for floats or [0..255] for integers).\n",
      "Clipping input data to the valid range for imshow with RGB data ([0..1] for floats or [0..255] for integers).\n",
      "Clipping input data to the valid range for imshow with RGB data ([0..1] for floats or [0..255] for integers).\n"
     ]
    },
    {
     "name": "stdout",
     "output_type": "stream",
     "text": [
      "[[ 0.57264274  0.         59.72586   ]\n",
      " [14.93942    82.53277    85.49455   ]\n",
      " [ 0.          0.          0.        ]]\n",
      "[[   0.        -46.134785    0.      ]\n",
      " [   0.          0.          0.      ]\n",
      " [-174.41222  -108.19292  -163.05011 ]]\n",
      "[[ 0.        0.       39.150585]\n",
      " [57.004307 25.454311  0.      ]\n",
      " [76.70316   0.        0.      ]]\n",
      "[[ -94.57898    -16.098463     0.       ]\n",
      " [   0.           0.         -66.52418  ]\n",
      " [   0.          -6.3940473 -127.84734  ]]\n",
      "[[ 0.       27.600477 25.624645]\n",
      " [37.606995 49.63022  90.726654]\n",
      " [18.334442  0.       13.255417]]\n",
      "[[-104.30428     0.          0.      ]\n",
      " [   0.          0.          0.      ]\n",
      " [   0.        -96.506165    0.      ]]\n",
      "[[ 0.        0.        0.      ]\n",
      " [85.907486  0.        0.      ]\n",
      " [49.495224  0.        0.      ]]\n",
      "[[-139.58437   -73.37947   -74.15144 ]\n",
      " [   0.       -177.49657  -255.      ]\n",
      " [   0.        -74.84766   -51.870995]]\n",
      "[[  0.        0.      111.54772]\n",
      " [  0.       88.95469   0.     ]\n",
      " [  0.        0.        0.     ]]\n",
      "[[-212.84366   -65.24121     0.      ]\n",
      " [-135.22757     0.        -10.417867]\n",
      " [-148.98987  -175.52722  -103.01827 ]]\n",
      "[[ 0.        0.        0.      ]\n",
      " [ 0.       11.792073  0.      ]\n",
      " [57.312874 87.87049   9.174603]]\n",
      "[[ -59.138035 -120.29456   -10.247421]\n",
      " [ -40.313297    0.       -143.71574 ]\n",
      " [   0.          0.          0.      ]]\n"
     ]
    },
    {
     "data": {
      "image/png": "[encoded data removed]",
      "text/plain": [
       "<Figure size 432x288 with 1 Axes>"
      ]
     },
     "metadata": {
      "needs_background": "light"
     },
     "output_type": "display_data"
    },
    {
     "data": {
      "image/png": "[encoded data removed]",
      "text/plain": [
       "<Figure size 432x288 with 1 Axes>"
      ]
     },
     "metadata": {
      "needs_background": "light"
     },
     "output_type": "display_data"
    },
    {
     "data": {
      "image/png": "[encoded data removed]",
      "text/plain": [
       "<Figure size 432x288 with 1 Axes>"
      ]
     },
     "metadata": {
      "needs_background": "light"
     },
     "output_type": "display_data"
    },
    {
     "data": {
      "image/png": "[encoded data removed]",
      "text/plain": [
       "<Figure size 432x288 with 1 Axes>"
      ]
     },
     "metadata": {
      "needs_background": "light"
     },
     "output_type": "display_data"
    },
    {
     "data": {
      "image/png": "[encoded data removed]",
      "text/plain": [
       "<Figure size 432x288 with 1 Axes>"
      ]
     },
     "metadata": {
      "needs_background": "light"
     },
     "output_type": "display_data"
    },
    {
     "data": {
      "image/png": "[encoded data removed]",
      "text/plain": [
       "<Figure size 432x288 with 1 Axes>"
      ]
     },
     "metadata": {
      "needs_background": "light"
     },
     "output_type": "display_data"
    }
   ],
   "source": [
    "import numpy as np\n",
    "convolutions = model.layers[1].get_weights()[0]\n",
    "#нормализуем значение сверток на интервал однобайтного целого для отображения в графике:\n",
    "\n",
    "maxVal = convolutions.max()\n",
    "minVal = convolutions.min()\n",
    "absMax = max(abs(minVal),abs(maxVal))\n",
    "\n",
    "convolutions = (convolutions / absMax)*255\n",
    "\n",
    "\n",
    "for outputChannel in range(6):\n",
    "    for inputChannel in range(1):\n",
    "        convolut = convolutions[:,:,inputChannel,outputChannel]\n",
    "\n",
    "      #отрицательные значения - оттенками синего, положительные - оттенками красного\n",
    "        imageRed = np.array(convolut)\n",
    "        imageBlue = np.array(convolut)\n",
    "        imageRed[imageRed<0] = 0\n",
    "        imageBlue[imageBlue>0]= 0\n",
    "\n",
    "        print(imageRed)\n",
    "        print(imageBlue)\n",
    "\n",
    "        finalImage = np.zeros((convolut.shape[0],convolut.shape[1],3))\n",
    "        finalImage[:,:,0] = imageRed\n",
    "        finalImage[:,:,2] = -imageBlue\n",
    "\n",
    "        #plot image here\n",
    "        plt.figure()  \n",
    "        plt.imshow(finalImage) "
   ]
  },
  {
   "cell_type": "markdown",
   "id": "c44ea404",
   "metadata": {},
   "source": [
    "И посмотрим на карты активации для первого сверточного слоя и разных сверток:"
   ]
  },
  {
   "cell_type": "code",
   "execution_count": 3,
   "id": "08cdf54e",
   "metadata": {},
   "outputs": [
    {
     "name": "stdout",
     "output_type": "stream",
     "text": [
      "(1, 28, 28, 1)\n",
      "(1, 26, 26, 6)\n"
     ]
    },
    {
     "data": {
      "image/png": "[encoded data removed]",
      "text/plain": [
       "<Figure size 288x288 with 1 Axes>"
      ]
     },
     "metadata": {
      "needs_background": "light"
     },
     "output_type": "display_data"
    },
    {
     "data": {
      "image/png": "[encoded data removed]",
      "text/plain": [
       "<Figure size 288x288 with 1 Axes>"
      ]
     },
     "metadata": {
      "needs_background": "light"
     },
     "output_type": "display_data"
    },
    {
     "data": {
      "image/png": "[encoded data removed]",
      "text/plain": [
       "<Figure size 288x288 with 1 Axes>"
      ]
     },
     "metadata": {
      "needs_background": "light"
     },
     "output_type": "display_data"
    },
    {
     "data": {
      "image/png": "[encoded data removed]",
      "text/plain": [
       "<Figure size 288x288 with 1 Axes>"
      ]
     },
     "metadata": {
      "needs_background": "light"
     },
     "output_type": "display_data"
    },
    {
     "data": {
      "image/png": "[encoded data removed]",
      "text/plain": [
       "<Figure size 288x288 with 1 Axes>"
      ]
     },
     "metadata": {
      "needs_background": "light"
     },
     "output_type": "display_data"
    },
    {
     "data": {
      "image/png": "[encoded data removed]",
      "text/plain": [
       "<Figure size 288x288 with 1 Axes>"
      ]
     },
     "metadata": {
      "needs_background": "light"
     },
     "output_type": "display_data"
    },
    {
     "data": {
      "image/png": "[encoded data removed]",
      "text/plain": [
       "<Figure size 288x288 with 1 Axes>"
      ]
     },
     "metadata": {
      "needs_background": "light"
     },
     "output_type": "display_data"
    }
   ],
   "source": [
    "# Извлечем выходы слоев нашей сети\n",
    "layer_outputs = [layer.output for layer in model.layers] \n",
    "# Создадим копию модели, которая вернет эти выходы для заданного входа\n",
    "activation_model = Model(inputs=model.input, outputs=layer_outputs) \n",
    "# Получим список массивов Numpy, по одному на выход каждого слоя\n",
    "activations = activation_model.predict(X_test[:1])\n",
    "#Выход входного слоя сети - исходное изображение\n",
    "input_layer_activation = activations[0]\n",
    "# Его размерность - (1, 28, 28, 1)\n",
    "print(input_layer_activation.shape)\n",
    "plt.matshow(input_layer_activation[0, :, :, 0], cmap='gray')\n",
    "#Выход первого сверточного слоя сети - 6 матриц активации, результат применения 6 сверток к входному изображению\n",
    "first_layer_activation = activations[1]\n",
    "# Его размерность - (1, 28, 28, 6)\n",
    "print(first_layer_activation.shape)\n",
    "#Визуализируем поверхности активации:\n",
    "for i_conv in range(6):\n",
    "    plt.matshow(first_layer_activation[0, :, :, i_conv], cmap='viridis')"
   ]
  },
  {
   "cell_type": "markdown",
   "id": "c61bfa02",
   "metadata": {},
   "source": [
    "# Домашнее задание\n",
    "\n",
    "1. Проработайте блокнот Jupyter содержащий пример, демонстрировавшийся на занятии.\n",
    "2. Решите по аналогии задачу распознавания для датасета кириллических рукописных букв датасета CoMNIST\n",
    "https://github.com/GregVial/CoMNIST "
   ]
  }
 ],
 "metadata": {
  "kernelspec": {
   "display_name": "Python 3 (ipykernel)",
   "language": "python",
   "name": "python3"
  },
  "language_info": {
   "codemirror_mode": {
    "name": "ipython",
    "version": 3
   },
   "file_extension": ".py",
   "mimetype": "text/x-python",
   "name": "python",
   "nbconvert_exporter": "python",
   "pygments_lexer": "ipython3",
   "version": "3.10.9"
  }
 },
 "nbformat": 4,
 "nbformat_minor": 5
}
