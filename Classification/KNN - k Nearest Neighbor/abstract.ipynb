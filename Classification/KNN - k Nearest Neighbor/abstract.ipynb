{
 "cells": [
  {
   "cell_type": "markdown",
   "id": "d3c7e718-c964-47d0-8569-1f638b60dc43",
   "metadata": {},
   "source": [
    "https://education.yandex.ru/handbook/ml/article/metricheskiye-metody\n",
    "\n",
    "https://scikit-learn.org/stable/modules/generated/sklearn.neighbors.KNeighborsClassifier.html\n",
    "\n",
    "https://www.kdnuggets.com/2020/11/most-popular-distance-metrics-knn.html\n",
    "\n",
    "https://www.kaggle.com/code/kane6543/knn-with-euclidean-minkowski-manhattan-distance?scriptVersionId=128083261\n",
    "\n",
    "https://education.yandex.ru/handbook/ml/article/metricheskiye-metody"
   ]
  },
  {
   "cell_type": "markdown",
   "id": "8cafcd28-b84d-4e85-9e5a-03ccfd184db4",
   "metadata": {},
   "source": [
    "# Metrix"
   ]
  },
  {
   "cell_type": "markdown",
   "id": "fc4b292b-bfff-4454-a4c4-0a8fcf04d724",
   "metadata": {},
   "source": [
    "Metrix function\n",
    "https://blog.devgenius.io/exploring-knn-with-different-distance-metrics-85aea1e8299"
   ]
  },
  {
   "cell_type": "markdown",
   "id": "62338176-7f2d-4650-8a8f-edd43e8c5137",
   "metadata": {},
   "source": [
    "### Euclidean Distance"
   ]
  },
  {
   "cell_type": "code",
   "execution_count": 2,
   "id": "c500aecc-5a66-411b-89b8-367d5887f683",
   "metadata": {},
   "outputs": [],
   "source": [
    "def euclidean_distance(x1, x2):\n",
    "    return math.sqrt(np.sum((x1 - x2)**2))"
   ]
  },
  {
   "cell_type": "markdown",
   "id": "6bbe11d2-0bf9-41e6-9e59-37a581ae1ec1",
   "metadata": {},
   "source": [
    "### Minkowski Distance:"
   ]
  },
  {
   "cell_type": "code",
   "execution_count": 3,
   "id": "97d7294c-930e-4e60-911f-53ea3294287c",
   "metadata": {},
   "outputs": [],
   "source": [
    "def minkowski_distance(x1, x2, p):\n",
    "    return np.power(np.sum(np.power(np.abs(x1 - x2), p)), 1/p)"
   ]
  },
  {
   "cell_type": "markdown",
   "id": "ae1ca3ce-ede7-45de-831b-d5d1cbb734fb",
   "metadata": {},
   "source": [
    "### Manhattan Distance"
   ]
  },
  {
   "cell_type": "code",
   "execution_count": 4,
   "id": "2041fc6c-37e1-4aa7-a584-62d5c859cbff",
   "metadata": {},
   "outputs": [],
   "source": [
    "def manhattan_distance(x1, x2):\n",
    "    return np.sum(np.abs(x1 - x2))"
   ]
  },
  {
   "cell_type": "code",
   "execution_count": null,
   "id": "a84b1d1b-622e-4cd6-99ed-699622dabe61",
   "metadata": {},
   "outputs": [],
   "source": []
  },
  {
   "cell_type": "code",
   "execution_count": null,
   "id": "83e13a5f-9257-4dfd-876a-c5fb21481b32",
   "metadata": {},
   "outputs": [],
   "source": []
  }
 ],
 "metadata": {
  "kernelspec": {
   "display_name": "Python 3",
   "language": "python",
   "name": "python3"
  },
  "language_info": {
   "codemirror_mode": {
    "name": "ipython",
    "version": 3
   },
   "file_extension": ".py",
   "mimetype": "text/x-python",
   "name": "python",
   "nbconvert_exporter": "python",
   "pygments_lexer": "ipython3",
   "version": "3.6.8"
  }
 },
 "nbformat": 4,
 "nbformat_minor": 5
}
