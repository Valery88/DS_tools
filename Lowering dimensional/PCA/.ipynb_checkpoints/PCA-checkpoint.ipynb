{
 "cells": [
  {
   "cell_type": "code",
   "execution_count": 1,
   "id": "405cea12-76d8-4410-84e0-6c1f9dee8567",
   "metadata": {},
   "outputs": [],
   "source": [
    "import sklearn\n",
    "import numpy as np\n",
    "import matplotlib.pyplot as plt\n",
    "\n",
    "from sklearn import manifold, datasets"
   ]
  },
  {
   "cell_type": "code",
   "execution_count": 2,
   "id": "405f6164-4b09-495b-84d1-b15e77a34737",
   "metadata": {},
   "outputs": [],
   "source": [
    "from mpl_toolkits.mplot3d import Axes3D\n",
    "from sklearn import decomposition\n",
    "from sklearn import datasets"
   ]
  },
  {
   "cell_type": "raw",
   "id": "384915e1-f8c3-4fc5-9284-eab899574061",
   "metadata": {},
   "source": [
    "Скачиваем данные с ирисами Фишера\n",
    "# 1. Длина наружной доли околоцветника (sepal length).\n",
    "# 2. Ширина наружной доли околоцветника (sepal width).\n",
    "# 3. Длина внутренней доли околоцветника (petal length).\n",
    "# 4. Ширина внутренней доли околоцветника (petal width)."
   ]
  },
  {
   "cell_type": "code",
   "execution_count": 23,
   "id": "0acc0a91-3495-4c96-b60e-6e7fe41f6855",
   "metadata": {},
   "outputs": [],
   "source": [
    "iris = datasets.load_iris()"
   ]
  },
  {
   "cell_type": "code",
   "execution_count": 25,
   "id": "1a2345d7-97f1-4b4a-ab09-dcbda780b7d2",
   "metadata": {},
   "outputs": [
    {
     "data": {
      "text/plain": [
       "(150, 4)"
      ]
     },
     "execution_count": 25,
     "metadata": {},
     "output_type": "execute_result"
    }
   ],
   "source": [
    "# Target value y - flower type\n",
    "# 0 - Setosa, 1 - Versicolor, 2 - Virginia\n",
    "X = iris.data\n",
    "Y = iris.target\n",
    "X.shape"
   ]
  },
  {
   "cell_type": "markdown",
   "id": "7b142240-39b9-4ead-a62a-3e41e24ae9ca",
   "metadata": {},
   "source": [
    "PCA"
   ]
  },
  {
   "cell_type": "code",
   "execution_count": 5,
   "id": "f2f87436-4c1c-4a01-876f-25459abec1dd",
   "metadata": {},
   "outputs": [
    {
     "data": {
      "text/html": [
       "<style>#sk-container-id-1 {color: black;}#sk-container-id-1 pre{padding: 0;}#sk-container-id-1 div.sk-toggleable {background-color: white;}#sk-container-id-1 label.sk-toggleable__label {cursor: pointer;display: block;width: 100%;margin-bottom: 0;padding: 0.3em;box-sizing: border-box;text-align: center;}#sk-container-id-1 label.sk-toggleable__label-arrow:before {content: \"▸\";float: left;margin-right: 0.25em;color: #696969;}#sk-container-id-1 label.sk-toggleable__label-arrow:hover:before {color: black;}#sk-container-id-1 div.sk-estimator:hover label.sk-toggleable__label-arrow:before {color: black;}#sk-container-id-1 div.sk-toggleable__content {max-height: 0;max-width: 0;overflow: hidden;text-align: left;background-color: #f0f8ff;}#sk-container-id-1 div.sk-toggleable__content pre {margin: 0.2em;color: black;border-radius: 0.25em;background-color: #f0f8ff;}#sk-container-id-1 input.sk-toggleable__control:checked~div.sk-toggleable__content {max-height: 200px;max-width: 100%;overflow: auto;}#sk-container-id-1 input.sk-toggleable__control:checked~label.sk-toggleable__label-arrow:before {content: \"▾\";}#sk-container-id-1 div.sk-estimator input.sk-toggleable__control:checked~label.sk-toggleable__label {background-color: #d4ebff;}#sk-container-id-1 div.sk-label input.sk-toggleable__control:checked~label.sk-toggleable__label {background-color: #d4ebff;}#sk-container-id-1 input.sk-hidden--visually {border: 0;clip: rect(1px 1px 1px 1px);clip: rect(1px, 1px, 1px, 1px);height: 1px;margin: -1px;overflow: hidden;padding: 0;position: absolute;width: 1px;}#sk-container-id-1 div.sk-estimator {font-family: monospace;background-color: #f0f8ff;border: 1px dotted black;border-radius: 0.25em;box-sizing: border-box;margin-bottom: 0.5em;}#sk-container-id-1 div.sk-estimator:hover {background-color: #d4ebff;}#sk-container-id-1 div.sk-parallel-item::after {content: \"\";width: 100%;border-bottom: 1px solid gray;flex-grow: 1;}#sk-container-id-1 div.sk-label:hover label.sk-toggleable__label {background-color: #d4ebff;}#sk-container-id-1 div.sk-serial::before {content: \"\";position: absolute;border-left: 1px solid gray;box-sizing: border-box;top: 0;bottom: 0;left: 50%;z-index: 0;}#sk-container-id-1 div.sk-serial {display: flex;flex-direction: column;align-items: center;background-color: white;padding-right: 0.2em;padding-left: 0.2em;position: relative;}#sk-container-id-1 div.sk-item {position: relative;z-index: 1;}#sk-container-id-1 div.sk-parallel {display: flex;align-items: stretch;justify-content: center;background-color: white;position: relative;}#sk-container-id-1 div.sk-item::before, #sk-container-id-1 div.sk-parallel-item::before {content: \"\";position: absolute;border-left: 1px solid gray;box-sizing: border-box;top: 0;bottom: 0;left: 50%;z-index: -1;}#sk-container-id-1 div.sk-parallel-item {display: flex;flex-direction: column;z-index: 1;position: relative;background-color: white;}#sk-container-id-1 div.sk-parallel-item:first-child::after {align-self: flex-end;width: 50%;}#sk-container-id-1 div.sk-parallel-item:last-child::after {align-self: flex-start;width: 50%;}#sk-container-id-1 div.sk-parallel-item:only-child::after {width: 0;}#sk-container-id-1 div.sk-dashed-wrapped {border: 1px dashed gray;margin: 0 0.4em 0.5em 0.4em;box-sizing: border-box;padding-bottom: 0.4em;background-color: white;}#sk-container-id-1 div.sk-label label {font-family: monospace;font-weight: bold;display: inline-block;line-height: 1.2em;}#sk-container-id-1 div.sk-label-container {text-align: center;}#sk-container-id-1 div.sk-container {/* jupyter's `normalize.less` sets `[hidden] { display: none; }` but bootstrap.min.css set `[hidden] { display: none !important; }` so we also need the `!important` here to be able to override the default hidden behavior on the sphinx rendered scikit-learn.org. See: https://github.com/scikit-learn/scikit-learn/issues/21755 */display: inline-block !important;position: relative;}#sk-container-id-1 div.sk-text-repr-fallback {display: none;}</style><div id=\"sk-container-id-1\" class=\"sk-top-container\"><div class=\"sk-text-repr-fallback\"><pre>PCA()</pre><b>In a Jupyter environment, please rerun this cell to show the HTML representation or trust the notebook. <br />On GitHub, the HTML representation is unable to render, please try loading this page with nbviewer.org.</b></div><div class=\"sk-container\" hidden><div class=\"sk-item\"><div class=\"sk-estimator sk-toggleable\"><input class=\"sk-toggleable__control sk-hidden--visually\" id=\"sk-estimator-id-1\" type=\"checkbox\" checked><label for=\"sk-estimator-id-1\" class=\"sk-toggleable__label sk-toggleable__label-arrow\">PCA</label><div class=\"sk-toggleable__content\"><pre>PCA()</pre></div></div></div></div></div>"
      ],
      "text/plain": [
       "PCA()"
      ]
     },
     "execution_count": 5,
     "metadata": {},
     "output_type": "execute_result"
    }
   ],
   "source": [
    "pca = decomposition.PCA(n_components=3)\n",
    "pca.fit(X)"
   ]
  },
  {
   "cell_type": "code",
   "execution_count": 6,
   "id": "38ac2246-9ed0-46e4-b927-ae70004e92df",
   "metadata": {},
   "outputs": [
    {
     "data": {
      "text/plain": [
       "array([4.22824171, 0.24267075, 0.0782095 , 0.02383509])"
      ]
     },
     "execution_count": 6,
     "metadata": {},
     "output_type": "execute_result"
    }
   ],
   "source": [
    "# Вычисляем дисперсии\n",
    "explained_variance = pca.explained_variance_\n",
    "explained_variance"
   ]
  },
  {
   "cell_type": "code",
   "execution_count": 7,
   "id": "64db2ed9-1d7c-4708-a8fb-2a4d2ed78649",
   "metadata": {},
   "outputs": [
    {
     "data": {
      "text/plain": [
       "array([0.92461872, 0.05306648, 0.01710261, 0.00521218])"
      ]
     },
     "execution_count": 7,
     "metadata": {},
     "output_type": "execute_result"
    }
   ],
   "source": [
    "# Критерий информативности\n",
    "q = np.zeros(4)\n",
    "for i in range(4):\n",
    "    q[i] = explained_variance[i]/np.sum(explained_variance)\n",
    "\n",
    "q"
   ]
  },
  {
   "cell_type": "code",
   "execution_count": 8,
   "id": "65725130-44bf-4f65-b96d-18ab11ec5c92",
   "metadata": {},
   "outputs": [
    {
     "data": {
      "text/plain": [
       "array([0.92461872, 0.05306648, 0.01710261, 0.00521218])"
      ]
     },
     "execution_count": 8,
     "metadata": {},
     "output_type": "execute_result"
    }
   ],
   "source": [
    "# Критерий информативности. Вычисляем относительную долю суммарной дисперсии\n",
    "# Обусловленную одной, двумя, тремя и четырмя главными компонентами\n",
    "explained_variance_ratio = pca.explained_variance_ratio_\n",
    "explained_variance_ratio"
   ]
  },
  {
   "cell_type": "code",
   "execution_count": 9,
   "id": "467cc5d0-bf88-41ec-8d32-cc025d27443a",
   "metadata": {},
   "outputs": [
    {
     "data": {
      "text/plain": [
       "array([25.09996044,  6.01314738,  3.41368064,  1.88452351])"
      ]
     },
     "execution_count": 9,
     "metadata": {},
     "output_type": "execute_result"
    }
   ],
   "source": [
    "# Сингулярные собственные значения\n",
    "pca.singular_values_"
   ]
  },
  {
   "cell_type": "code",
   "execution_count": 10,
   "id": "a2e53a89-50cf-48a4-a2c2-2fd9f98cbc4a",
   "metadata": {},
   "outputs": [
    {
     "data": {
      "text/plain": [
       "array([[ 0.68569351, -0.042434  ,  1.27431544,  0.51627069],\n",
       "       [-0.042434  ,  0.18997942, -0.32965638, -0.12163937],\n",
       "       [ 1.27431544, -0.32965638,  3.11627785,  1.2956094 ],\n",
       "       [ 0.51627069, -0.12163937,  1.2956094 ,  0.58100626]])"
      ]
     },
     "execution_count": 10,
     "metadata": {},
     "output_type": "execute_result"
    }
   ],
   "source": [
    "# Проверим с пом-ю numpy полученные рез-ты\n",
    "X = np.transpose(X)\n",
    "# Вычислим ковариационную матрицу\n",
    "covmat = np.cov(X)\n",
    "covmat"
   ]
  },
  {
   "cell_type": "code",
   "execution_count": 11,
   "id": "adf656f1-6cec-4a9d-b4e7-641d929dc31a",
   "metadata": {},
   "outputs": [
    {
     "data": {
      "text/plain": [
       "EigResult(eigenvalues=array([4.22824171, 0.24267075, 0.0782095 , 0.02383509]), eigenvectors=array([[ 0.36138659, -0.65658877, -0.58202985,  0.31548719],\n",
       "       [-0.08452251, -0.73016143,  0.59791083, -0.3197231 ],\n",
       "       [ 0.85667061,  0.17337266,  0.07623608, -0.47983899],\n",
       "       [ 0.3582892 ,  0.07548102,  0.54583143,  0.75365743]]))"
      ]
     },
     "execution_count": 11,
     "metadata": {},
     "output_type": "execute_result"
    }
   ],
   "source": [
    "# Находим собственные зн-я и собственные векторы ковариаионной матрицы\n",
    "A = np.linalg.eig(covmat)\n",
    "# В первой части массива стоят собственные значения (Дисперсии)\n",
    "# Cобственные вектора\n",
    "A"
   ]
  },
  {
   "cell_type": "code",
   "execution_count": 12,
   "id": "b4363b8a-ce52-4974-b04d-b8e323df4f77",
   "metadata": {},
   "outputs": [
    {
     "data": {
      "text/plain": [
       "array([[ 0.36138659, -0.65658877, -0.58202985,  0.31548719],\n",
       "       [-0.08452251, -0.73016143,  0.59791083, -0.3197231 ],\n",
       "       [ 0.85667061,  0.17337266,  0.07623608, -0.47983899],\n",
       "       [ 0.3582892 ,  0.07548102,  0.54583143,  0.75365743]])"
      ]
     },
     "execution_count": 12,
     "metadata": {},
     "output_type": "execute_result"
    }
   ],
   "source": [
    "# Собственные вектора\n",
    "Eigvect = A[1]\n",
    "Eigvect"
   ]
  },
  {
   "cell_type": "code",
   "execution_count": 13,
   "id": "bfd982fa-0948-4aa9-abec-27267c5d70a1",
   "metadata": {},
   "outputs": [
    {
     "data": {
      "text/plain": [
       "array([[ 0.36138659, -0.08452251,  0.85667061,  0.3582892 ],\n",
       "       [-0.65658877, -0.73016143,  0.17337266,  0.07548102]])"
      ]
     },
     "execution_count": 13,
     "metadata": {},
     "output_type": "execute_result"
    }
   ],
   "source": [
    "# Выбираем первые две главные компоненты\n",
    "MainComp = np.transpose(Eigvect[:, 0:2])\n",
    "MainComp"
   ]
  },
  {
   "cell_type": "code",
   "execution_count": 14,
   "id": "1aa0e39f-94c3-4f03-9cd9-9d452a172628",
   "metadata": {},
   "outputs": [
    {
     "data": {
      "text/plain": [
       "array([[ 2.81823951, -5.64634982],\n",
       "       [ 2.78822345, -5.14995135],\n",
       "       [ 2.61337456, -5.18200315],\n",
       "       [ 2.75702228, -5.0086536 ],\n",
       "       [ 2.7736486 , -5.65370709],\n",
       "       [ 3.2215055 , -6.06828303],\n",
       "       [ 2.68182738, -5.23749119],\n",
       "       [ 2.87622016, -5.49033754],\n",
       "       [ 2.6159824 , -4.74864082],\n",
       "       [ 2.82960933, -5.21317833],\n",
       "       [ 2.99541804, -5.97202148],\n",
       "       [ 2.8896099 , -5.34168252],\n",
       "       [ 2.71625587, -5.09184058],\n",
       "       [ 2.27856139, -4.81555799],\n",
       "       [ 2.85761474, -6.50571721],\n",
       "       [ 3.1163261 , -6.66501491],\n",
       "       [ 2.87883726, -6.13763209],\n",
       "       [ 2.85406843, -5.63880172],\n",
       "       [ 3.30254481, -6.19979162],\n",
       "       [ 2.91437873, -5.84051289],\n",
       "       [ 3.19210892, -5.71829851],\n",
       "       [ 2.9586599 , -5.75994864],\n",
       "       [ 2.28642572, -5.46042065],\n",
       "       [ 3.19963195, -5.42566143],\n",
       "       [ 3.14661108, -5.28967072],\n",
       "       [ 2.99569623, -5.1809357 ],\n",
       "       [ 3.03354506, -5.45790407],\n",
       "       [ 2.94004523, -5.69467143],\n",
       "       [ 2.86283042, -5.63899256],\n",
       "       [ 2.87037575, -5.12999135],\n",
       "       [ 2.91496666, -5.12263409],\n",
       "       [ 3.09243264, -5.73787684],\n",
       "       [ 2.8535028 , -6.1403164 ],\n",
       "       [ 2.90362838, -6.42009834],\n",
       "       [ 2.86543825, -5.20563023],\n",
       "       [ 2.63612348, -5.39631705],\n",
       "       [ 2.87712708, -5.9263226 ],\n",
       "       [ 2.70168102, -5.59559631],\n",
       "       [ 2.52186309, -4.83899423],\n",
       "       [ 2.91235882, -5.55599641],\n",
       "       [ 2.73226271, -5.59048011],\n",
       "       [ 2.65299643, -4.385992  ],\n",
       "       [ 2.50495859, -4.98502652],\n",
       "       [ 3.09675065, -5.51582401],\n",
       "       [ 3.29287589, -5.76361572],\n",
       "       [ 2.78791371, -5.07674437],\n",
       "       [ 2.96421687, -5.83072372],\n",
       "       [ 2.66290296, -5.09900701],\n",
       "       [ 2.95927938, -5.9063626 ],\n",
       "       [ 2.79900535, -5.43465866],\n",
       "       [ 6.78719082, -6.01211305],\n",
       "       [ 6.43485366, -5.64528622],\n",
       "       [ 6.96666745, -5.83121539],\n",
       "       [ 5.68568285, -4.49899357],\n",
       "       [ 6.59046839, -5.40154325],\n",
       "       [ 6.14403422, -4.90870571],\n",
       "       [ 6.5974258 , -5.61042085],\n",
       "       [ 4.75324246, -4.32206162],\n",
       "       [ 6.54649696, -5.55531448],\n",
       "       [ 5.49361973, -4.60387067],\n",
       "       [ 4.99452425, -4.06098139],\n",
       "       [ 6.01406369, -5.22297134],\n",
       "       [ 5.76734164, -4.77691611],\n",
       "       [ 6.48729964, -5.20213472],\n",
       "       [ 5.32843976, -5.07209837],\n",
       "       [ 6.43022591, -5.79413207],\n",
       "       [ 6.16264889, -4.97398291],\n",
       "       [ 5.73847013, -4.99334181],\n",
       "       [ 6.44709886, -4.78380703],\n",
       "       [ 5.54759211, -4.7431182 ],\n",
       "       [ 6.61864831, -5.24233572],\n",
       "       [ 5.86025355, -5.25802755],\n",
       "       [ 6.80054901, -4.99916527],\n",
       "       [ 6.42409406, -5.14421478],\n",
       "       [ 6.21721846, -5.47600852],\n",
       "       [ 6.40253951, -5.65545705],\n",
       "       [ 6.83438957, -5.57139345],\n",
       "       [ 7.06016729, -5.59444802],\n",
       "       [ 6.31565578, -5.16360228],\n",
       "       [ 5.19678135, -4.95869039],\n",
       "       [ 5.43423864, -4.62178045],\n",
       "       [ 5.31274266, -4.64666581],\n",
       "       [ 5.63879384, -5.01292014],\n",
       "       [ 6.88239157, -4.90599829],\n",
       "       [ 6.09037158, -4.84266516],\n",
       "       [ 6.30922345, -5.52113489],\n",
       "       [ 6.72305602, -5.73457217],\n",
       "       [ 6.31746037, -4.95491552],\n",
       "       [ 5.74832281, -5.05842818],\n",
       "       [ 5.66877835, -4.64502585],\n",
       "       [ 5.96716542, -4.65624103],\n",
       "       [ 6.39318033, -5.29248813],\n",
       "       [ 5.73291316, -4.92256673],\n",
       "       [ 4.79783337, -4.31470435],\n",
       "       [ 5.85934663, -4.82204248],\n",
       "       [ 5.83429961, -5.11429789],\n",
       "       [ 5.87858078, -5.03373365],\n",
       "       [ 6.14494114, -5.34469077],\n",
       "       [ 4.59589527, -4.57085921],\n",
       "       [ 5.80136597, -4.97805477],\n",
       "       [ 8.03355786, -5.31710347],\n",
       "       [ 6.91760101, -4.75203623],\n",
       "       [ 8.11904115, -5.67085573],\n",
       "       [ 7.47389619, -5.14722467],\n",
       "       [ 7.85237105, -5.28669163],\n",
       "       [ 8.89940387, -5.87778925],\n",
       "       [ 6.02359738, -4.13419385],\n",
       "       [ 8.4349522 , -5.68245258],\n",
       "       [ 7.82359395, -5.08312107],\n",
       "       [ 8.4191161 , -6.10974453],\n",
       "       [ 7.16413929, -5.56918098],\n",
       "       [ 7.30576709, -5.11131496],\n",
       "       [ 7.66795693, -5.54322816],\n",
       "       [ 6.84852871, -4.55013423],\n",
       "       [ 7.08829336, -4.78731186],\n",
       "       [ 7.40682151, -5.44620327],\n",
       "       [ 7.45205419, -5.36889584],\n",
       "       [ 8.9894205 , -6.50269191],\n",
       "       [ 9.29801055, -5.58427555],\n",
       "       [ 6.80315685, -4.56580294],\n",
       "       [ 7.93018305, -5.70514859],\n",
       "       [ 6.70136624, -4.72086105],\n",
       "       [ 9.00228517, -5.78762668],\n",
       "       [ 6.89113126, -5.12255325],\n",
       "       [ 7.77779564, -5.66194318],\n",
       "       [ 8.11645561, -5.88785393],\n",
       "       [ 6.76087329, -5.14724778],\n",
       "       [ 6.79349719, -5.21028393],\n",
       "       [ 7.62597386, -5.1172231 ],\n",
       "       [ 7.89036815, -5.79159238],\n",
       "       [ 8.34403791, -5.70222174],\n",
       "       [ 8.73303879, -6.70111766],\n",
       "       [ 7.66180278, -5.109675  ],\n",
       "       [ 6.94652637, -5.18353917],\n",
       "       [ 7.28365994, -4.8270509 ],\n",
       "       [ 8.57886506, -6.01503825],\n",
       "       [ 7.64660845, -5.46701678],\n",
       "       [ 7.40746328, -5.3762531 ],\n",
       "       [ 6.67169147, -5.16196231],\n",
       "       [ 7.60997628, -5.69924045],\n",
       "       [ 7.81651984, -5.51060386],\n",
       "       [ 7.42463293, -5.73615604],\n",
       "       [ 6.91760101, -4.75203623],\n",
       "       [ 8.06537851, -5.60481518],\n",
       "       [ 7.92111132, -5.63175077],\n",
       "       [ 7.44647493, -5.51448488],\n",
       "       [ 7.02953175, -4.95163559],\n",
       "       [ 7.26671085, -5.40581143],\n",
       "       [ 7.40330675, -5.44358054],\n",
       "       [ 6.89255399, -5.04429164]])"
      ]
     },
     "execution_count": 14,
     "metadata": {},
     "output_type": "execute_result"
    }
   ],
   "source": [
    "# Строим массив данных для кластеризации\n",
    "X_new = np.dot(MainComp, X)\n",
    "X_new = np.transpose(X_new)\n",
    "X_new"
   ]
  },
  {
   "cell_type": "code",
   "execution_count": null,
   "id": "9c3bc313-5de4-4288-8f8c-17e2ba805d07",
   "metadata": {},
   "outputs": [],
   "source": []
  }
 ],
 "metadata": {
  "kernelspec": {
   "display_name": "Python 3 (ipykernel)",
   "language": "python",
   "name": "python3"
  },
  "language_info": {
   "codemirror_mode": {
    "name": "ipython",
    "version": 3
   },
   "file_extension": ".py",
   "mimetype": "text/x-python",
   "name": "python",
   "nbconvert_exporter": "python",
   "pygments_lexer": "ipython3",
   "version": "3.10.0"
  }
 },
 "nbformat": 4,
 "nbformat_minor": 5
}
